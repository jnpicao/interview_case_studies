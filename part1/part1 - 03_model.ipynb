{
 "cells": [
  {
   "cell_type": "code",
   "execution_count": 21,
   "id": "bd544b5f",
   "metadata": {
    "ExecuteTime": {
     "end_time": "2022-09-05T19:26:52.018469Z",
     "start_time": "2022-09-05T19:26:52.010154Z"
    }
   },
   "outputs": [],
   "source": [
    "import os\n",
    "import re\n",
    "\n",
    "import pandas as pd\n",
    "\n",
    "import numpy as np\n",
    "\n",
    "from sklearn.pipeline import Pipeline, make_pipeline, FeatureUnion\n",
    "from sklearn.base import BaseEstimator, TransformerMixin\n",
    "\n",
    "from sklearn.ensemble import ExtraTreesClassifier\n",
    "\n",
    "from sklearn.model_selection import cross_val_predict\n",
    "\n",
    "from sklearn.metrics import confusion_matrix, ConfusionMatrixDisplay, classification_report\n",
    "\n",
    "import seaborn as sns\n",
    "\n",
    "from matplotlib import pyplot as plt"
   ]
  },
  {
   "cell_type": "code",
   "execution_count": 2,
   "id": "d23539fb",
   "metadata": {
    "ExecuteTime": {
     "end_time": "2022-09-05T19:10:41.223325Z",
     "start_time": "2022-09-05T19:10:41.186128Z"
    }
   },
   "outputs": [],
   "source": [
    "df_train = pd.read_csv('df_train.csv', index_col=0)\n",
    "df_test = pd.read_csv('df_test.csv', index_col=0)"
   ]
  },
  {
   "cell_type": "code",
   "execution_count": 3,
   "id": "31cb87f2",
   "metadata": {
    "ExecuteTime": {
     "end_time": "2022-09-05T19:10:41.239208Z",
     "start_time": "2022-09-05T19:10:41.223325Z"
    }
   },
   "outputs": [],
   "source": [
    "X_train = df_train[['text']]\n",
    "y_train = df_train['label']"
   ]
  },
  {
   "cell_type": "code",
   "execution_count": 4,
   "id": "eead04ec",
   "metadata": {
    "ExecuteTime": {
     "end_time": "2022-09-05T19:10:41.254716Z",
     "start_time": "2022-09-05T19:10:41.239208Z"
    }
   },
   "outputs": [],
   "source": [
    "X_test = df_test[['text']]\n",
    "y_test = df_test['label']"
   ]
  },
  {
   "cell_type": "code",
   "execution_count": 5,
   "id": "8cd58bb0",
   "metadata": {
    "ExecuteTime": {
     "end_time": "2022-09-05T19:10:41.270327Z",
     "start_time": "2022-09-05T19:10:41.254716Z"
    }
   },
   "outputs": [],
   "source": [
    "class CreateFeatures(BaseEstimator, TransformerMixin):\n",
    "    # initializer \n",
    "    def __init__(self, text_col='text'):\n",
    "        # save the features list internally in the class\n",
    "        self.text_col = text_col\n",
    "        \n",
    "    def fit(self, X, y = None):\n",
    "        return self \n",
    "    \n",
    "    def transform(self, X, y = None):\n",
    "        \n",
    "        X_new = X.copy()\n",
    "        \n",
    "        X_new['text_len'] = self._feat_text_len(X_new)\n",
    "        \n",
    "        X_new['is_number'] = self._feat_is_number(X_new)\n",
    "        \n",
    "        X_new['final_colon'] = self._feat_final_colon(X_new)\n",
    "        \n",
    "        X_new['has_unit'] = self._feat_has_unit(X_new)\n",
    "        \n",
    "        X_new['digit_ratio'] = self._feat_digit_ratio(X_new)        \n",
    "        \n",
    "        return X_new\n",
    "    \n",
    "    \n",
    "    def _feat_text_len(self, X, y = None):\n",
    "        \n",
    "        new_feat = X[self.text_col].copy().str.len().fillna(0)\n",
    "        \n",
    "        return new_feat\n",
    "    \n",
    "    def _feat_is_number(self, X, y = None):\n",
    "        \n",
    "        new_feat = (pd.to_numeric((X[self.text_col].copy()\n",
    "                                   .str.replace(\"*\", \"\", regex=False)),\n",
    "                                  errors='coerce')\n",
    "                    .notna().astype('int8'))\n",
    "        \n",
    "        return new_feat\n",
    "    \n",
    "    def _feat_final_colon(self, X, y = None):\n",
    "        \n",
    "        new_feat = (X[self.text_col].copy()\n",
    "                    .str.rstrip().str[-1:].eq(':').astype('int8'))\n",
    "        \n",
    "        return new_feat\n",
    "    \n",
    "    def _feat_has_unit(self, X, y = None):\n",
    "        \n",
    "        unit_name_list = [r'millimeter', r'centimeter', r'meter', r'inch',\n",
    "                          r'inche', r'feet', r'yard', r'liter', r'gallon',\n",
    "                          r'gram', r'milligram', r'kilogram', r'tonne',\n",
    "                          r'pound', r'ounce']\n",
    "        \n",
    "        unit_symbol_list = [r'mm', r'cm', r'm', r'ft', r'yd', r'ltr', r'in',\n",
    "                            r'gal', r'g', r'mg', r'kg', r't', r'lb', r'oz']\n",
    "        \n",
    "        unit_list = unit_name_list + unit_symbol_list\n",
    "        \n",
    "        regex_pat_list = [r'\\d\\s*' + unit + r's?\\b' for unit in unit_list]\n",
    "        regex_pat_str = r'|'.join(regex_pat_list)\n",
    "        \n",
    "        new_feat = (X[self.text_col].copy()\n",
    "                    .str.contains(regex_pat_str, regex=True).fillna(False).astype('int8'))\n",
    "        \n",
    "        return new_feat\n",
    "    \n",
    "    def _feat_digit_ratio(self, X, y = None):\n",
    "        \n",
    "        X_text_original = X[self.text_col].copy()\n",
    "        \n",
    "        new_feat = (X_text_original.str.count('\\d')\n",
    "                    .div(X_text_original.str.len())\n",
    "                    .fillna(0))\n",
    "        \n",
    "        return new_feat\n",
    "    "
   ]
  },
  {
   "cell_type": "code",
   "execution_count": 6,
   "id": "1df80e4f",
   "metadata": {
    "ExecuteTime": {
     "end_time": "2022-09-05T19:10:41.289269Z",
     "start_time": "2022-09-05T19:10:41.270327Z"
    }
   },
   "outputs": [],
   "source": [
    "pipe_preprocessing = Pipeline([('create_feats', CreateFeatures(text_col='text'))])"
   ]
  },
  {
   "cell_type": "code",
   "execution_count": 7,
   "id": "c20e0b80",
   "metadata": {
    "ExecuteTime": {
     "end_time": "2022-09-05T19:10:41.310517Z",
     "start_time": "2022-09-05T19:10:41.289269Z"
    }
   },
   "outputs": [],
   "source": [
    "class Selector(BaseEstimator, TransformerMixin):\n",
    "    \"\"\"\n",
    "    Transformer to select a column from the dataframe to perform additional transformations on\n",
    "    \"\"\" \n",
    "    def __init__(self, text_col='text'):\n",
    "        self.text_col = text_col\n",
    "        \n",
    "    def fit(self, X, y=None):\n",
    "        return self\n",
    "    \n",
    "    def transform(self, X, y=None):\n",
    "        # Drop the column containing the original text\n",
    "        return X.drop(columns=self.text_col)\n",
    "    \n"
   ]
  },
  {
   "cell_type": "code",
   "execution_count": 8,
   "id": "95b981fa",
   "metadata": {
    "ExecuteTime": {
     "end_time": "2022-09-05T19:10:41.326078Z",
     "start_time": "2022-09-05T19:10:41.310517Z"
    }
   },
   "outputs": [],
   "source": [
    "pipe_selector = Pipeline([('select_feats', Selector(text_col='text'))])"
   ]
  },
  {
   "cell_type": "markdown",
   "id": "74b143c1",
   "metadata": {},
   "source": [
    "[Multiclass classifiers](https://scikit-learn.org/stable/modules/multiclass.html)"
   ]
  },
  {
   "cell_type": "code",
   "execution_count": 9,
   "id": "d11344d7",
   "metadata": {
    "ExecuteTime": {
     "end_time": "2022-09-05T19:10:41.346891Z",
     "start_time": "2022-09-05T19:10:41.326190Z"
    }
   },
   "outputs": [],
   "source": [
    "pipe_clf = Pipeline([('clf', ExtraTreesClassifier(n_estimators=25, random_state=0))])"
   ]
  },
  {
   "cell_type": "code",
   "execution_count": 10,
   "id": "7b2cc21a",
   "metadata": {
    "ExecuteTime": {
     "end_time": "2022-09-05T19:10:41.368365Z",
     "start_time": "2022-09-05T19:10:41.346891Z"
    }
   },
   "outputs": [],
   "source": [
    "pipe = Pipeline([('create_feats', pipe_preprocessing),\n",
    "                 ('select_feats', pipe_selector),\n",
    "                 ('clf', pipe_clf)])"
   ]
  },
  {
   "cell_type": "code",
   "execution_count": 11,
   "id": "a0dee898",
   "metadata": {
    "ExecuteTime": {
     "end_time": "2022-09-05T19:10:41.486117Z",
     "start_time": "2022-09-05T19:10:41.370423Z"
    }
   },
   "outputs": [
    {
     "data": {
      "text/plain": [
       "Pipeline(steps=[('create_feats',\n",
       "                 Pipeline(steps=[('create_feats', CreateFeatures())])),\n",
       "                ('select_feats',\n",
       "                 Pipeline(steps=[('select_feats', Selector())])),\n",
       "                ('clf',\n",
       "                 Pipeline(steps=[('clf',\n",
       "                                  ExtraTreesClassifier(n_estimators=25,\n",
       "                                                       random_state=0))]))])"
      ]
     },
     "execution_count": 11,
     "metadata": {},
     "output_type": "execute_result"
    }
   ],
   "source": [
    "# Initialize X\n",
    "X_train = df_train[['text']]\n",
    "pipe.fit(X_train, y_train)"
   ]
  },
  {
   "cell_type": "code",
   "execution_count": 12,
   "id": "0776dead",
   "metadata": {
    "ExecuteTime": {
     "end_time": "2022-09-05T19:10:41.519561Z",
     "start_time": "2022-09-05T19:10:41.486117Z"
    }
   },
   "outputs": [],
   "source": [
    "y_pred = pipe.predict(X_test)"
   ]
  },
  {
   "cell_type": "code",
   "execution_count": 13,
   "id": "fc7f2c12",
   "metadata": {
    "ExecuteTime": {
     "end_time": "2022-09-05T19:10:41.535128Z",
     "start_time": "2022-09-05T19:10:41.519561Z"
    }
   },
   "outputs": [
    {
     "data": {
      "text/plain": [
       "array(['answer', 'question', 'question', ..., 'question', 'answer',\n",
       "       'question'], dtype=object)"
      ]
     },
     "execution_count": 13,
     "metadata": {},
     "output_type": "execute_result"
    }
   ],
   "source": [
    "y_pred"
   ]
  },
  {
   "cell_type": "markdown",
   "id": "e963259e",
   "metadata": {},
   "source": [
    "[Performance metrics](https://scikit-learn.org/stable/modules/model_evaluation.html)"
   ]
  },
  {
   "cell_type": "code",
   "execution_count": 25,
   "id": "5172221d",
   "metadata": {
    "ExecuteTime": {
     "end_time": "2022-09-05T19:28:24.337930Z",
     "start_time": "2022-09-05T19:28:24.322383Z"
    }
   },
   "outputs": [],
   "source": [
    "label_order = ['question', 'answer', 'header', 'other']"
   ]
  },
  {
   "cell_type": "code",
   "execution_count": 26,
   "id": "b4b5c950",
   "metadata": {
    "ExecuteTime": {
     "end_time": "2022-09-05T19:28:25.645558Z",
     "start_time": "2022-09-05T19:28:25.611321Z"
    }
   },
   "outputs": [
    {
     "data": {
      "text/plain": [
       "array([[1004,   52,    9,   12],\n",
       "       [ 302,  468,   11,   40],\n",
       "       [ 100,   12,    9,    1],\n",
       "       [  80,  130,    8,   94]], dtype=int64)"
      ]
     },
     "execution_count": 26,
     "metadata": {},
     "output_type": "execute_result"
    }
   ],
   "source": [
    "confusion_matrix(y_test, y_pred, labels=label_order)"
   ]
  },
  {
   "cell_type": "code",
   "execution_count": 16,
   "id": "2cc87463",
   "metadata": {
    "ExecuteTime": {
     "end_time": "2022-09-05T19:10:41.586246Z",
     "start_time": "2022-09-05T19:10:41.570607Z"
    },
    "scrolled": true
   },
   "outputs": [],
   "source": [
    "cf_matrix = confusion_matrix(y_test, y_pred, labels=label_order)\n",
    "cf_matrix_df = pd.DataFrame(data=cf_matrix, index=label_order, columns=label_order)"
   ]
  },
  {
   "cell_type": "code",
   "execution_count": 17,
   "id": "626ae3fb",
   "metadata": {
    "ExecuteTime": {
     "end_time": "2022-09-05T19:10:41.616442Z",
     "start_time": "2022-09-05T19:10:41.587493Z"
    }
   },
   "outputs": [
    {
     "data": {
      "text/html": [
       "<div>\n",
       "<style scoped>\n",
       "    .dataframe tbody tr th:only-of-type {\n",
       "        vertical-align: middle;\n",
       "    }\n",
       "\n",
       "    .dataframe tbody tr th {\n",
       "        vertical-align: top;\n",
       "    }\n",
       "\n",
       "    .dataframe thead th {\n",
       "        text-align: right;\n",
       "    }\n",
       "</style>\n",
       "<table border=\"1\" class=\"dataframe\">\n",
       "  <thead>\n",
       "    <tr style=\"text-align: right;\">\n",
       "      <th></th>\n",
       "      <th>question</th>\n",
       "      <th>answer</th>\n",
       "      <th>header</th>\n",
       "      <th>other</th>\n",
       "    </tr>\n",
       "  </thead>\n",
       "  <tbody>\n",
       "    <tr>\n",
       "      <th>question</th>\n",
       "      <td>1004</td>\n",
       "      <td>52</td>\n",
       "      <td>9</td>\n",
       "      <td>12</td>\n",
       "    </tr>\n",
       "    <tr>\n",
       "      <th>answer</th>\n",
       "      <td>302</td>\n",
       "      <td>468</td>\n",
       "      <td>11</td>\n",
       "      <td>40</td>\n",
       "    </tr>\n",
       "    <tr>\n",
       "      <th>header</th>\n",
       "      <td>100</td>\n",
       "      <td>12</td>\n",
       "      <td>9</td>\n",
       "      <td>1</td>\n",
       "    </tr>\n",
       "    <tr>\n",
       "      <th>other</th>\n",
       "      <td>80</td>\n",
       "      <td>130</td>\n",
       "      <td>8</td>\n",
       "      <td>94</td>\n",
       "    </tr>\n",
       "  </tbody>\n",
       "</table>\n",
       "</div>"
      ],
      "text/plain": [
       "          question  answer  header  other\n",
       "question      1004      52       9     12\n",
       "answer         302     468      11     40\n",
       "header         100      12       9      1\n",
       "other           80     130       8     94"
      ]
     },
     "execution_count": 17,
     "metadata": {},
     "output_type": "execute_result"
    }
   ],
   "source": [
    "cf_matrix_df"
   ]
  },
  {
   "cell_type": "code",
   "execution_count": 20,
   "id": "fb3f2f87",
   "metadata": {
    "ExecuteTime": {
     "end_time": "2022-09-05T19:10:50.688182Z",
     "start_time": "2022-09-05T19:10:50.532001Z"
    }
   },
   "outputs": [
    {
     "data": {
      "image/png": "[encoded data removed]",
      "text/plain": [
       "<Figure size 576x576 with 2 Axes>"
      ]
     },
     "metadata": {
      "needs_background": "light"
     },
     "output_type": "display_data"
    }
   ],
   "source": [
    "plt.figure(figsize=(8,8))\n",
    "sns.heatmap(data=cf_matrix_df, annot=True, fmt=\"d\",cmap='coolwarm', linewidths=5)\n",
    "plt.show()"
   ]
  },
  {
   "cell_type": "code",
   "execution_count": 19,
   "id": "4513a613",
   "metadata": {
    "ExecuteTime": {
     "end_time": "2022-09-05T19:10:41.857739Z",
     "start_time": "2022-09-05T19:10:41.805085Z"
    }
   },
   "outputs": [
    {
     "name": "stdout",
     "output_type": "stream",
     "text": [
      "              precision    recall  f1-score   support\n",
      "\n",
      "    question       0.68      0.93      0.78      1077\n",
      "      answer       0.71      0.57      0.63       821\n",
      "      header       0.24      0.07      0.11       122\n",
      "       other       0.64      0.30      0.41       312\n",
      "\n",
      "    accuracy                           0.68      2332\n",
      "   macro avg       0.57      0.47      0.48      2332\n",
      "weighted avg       0.66      0.68      0.64      2332\n",
      "\n"
     ]
    }
   ],
   "source": [
    "print(classification_report(y_test, y_pred, labels=label_order))"
   ]
  },
  {
   "cell_type": "code",
   "execution_count": null,
   "id": "dfce8a1f",
   "metadata": {},
   "outputs": [],
   "source": []
  },
  {
   "cell_type": "code",
   "execution_count": null,
   "id": "c709cd7e",
   "metadata": {},
   "outputs": [],
   "source": []
  },
  {
   "cell_type": "code",
   "execution_count": null,
   "id": "c3f3b8f8",
   "metadata": {},
   "outputs": [],
   "source": []
  },
  {
   "cell_type": "code",
   "execution_count": null,
   "id": "6b700c8a",
   "metadata": {},
   "outputs": [],
   "source": []
  },
  {
   "cell_type": "code",
   "execution_count": null,
   "id": "725ad4da",
   "metadata": {},
   "outputs": [],
   "source": []
  },
  {
   "cell_type": "code",
   "execution_count": null,
   "id": "53a1e4c8",
   "metadata": {
    "ExecuteTime": {
     "end_time": "2022-09-05T11:26:41.654199Z",
     "start_time": "2022-09-05T11:26:41.597495Z"
    }
   },
   "outputs": [],
   "source": []
  },
  {
   "cell_type": "code",
   "execution_count": null,
   "id": "c5f91f7d",
   "metadata": {},
   "outputs": [],
   "source": []
  },
  {
   "cell_type": "code",
   "execution_count": null,
   "id": "1114b2ab",
   "metadata": {},
   "outputs": [],
   "source": []
  },
  {
   "cell_type": "code",
   "execution_count": null,
   "id": "50063bf5",
   "metadata": {},
   "outputs": [],
   "source": []
  },
  {
   "cell_type": "code",
   "execution_count": null,
   "id": "27187877",
   "metadata": {},
   "outputs": [],
   "source": []
  },
  {
   "cell_type": "code",
   "execution_count": null,
   "id": "4ec78fe7",
   "metadata": {},
   "outputs": [],
   "source": []
  },
  {
   "cell_type": "code",
   "execution_count": null,
   "id": "63de7f79",
   "metadata": {},
   "outputs": [],
   "source": []
  },
  {
   "cell_type": "code",
   "execution_count": null,
   "id": "03c998d3",
   "metadata": {},
   "outputs": [],
   "source": []
  },
  {
   "cell_type": "code",
   "execution_count": null,
   "id": "07104cbc",
   "metadata": {},
   "outputs": [],
   "source": []
  }
 ],
 "metadata": {
  "kernelspec": {
   "display_name": "Python 3 (ipykernel)",
   "language": "python",
   "name": "python3"
  },
  "language_info": {
   "codemirror_mode": {
    "name": "ipython",
    "version": 3
   },
   "file_extension": ".py",
   "mimetype": "text/x-python",
   "name": "python",
   "nbconvert_exporter": "python",
   "pygments_lexer": "ipython3",
   "version": "3.9.12"
  },
  "toc": {
   "base_numbering": 1,
   "nav_menu": {},
   "number_sections": true,
   "sideBar": true,
   "skip_h1_title": false,
   "title_cell": "Table of Contents",
   "title_sidebar": "Contents",
   "toc_cell": false,
   "toc_position": {},
   "toc_section_display": true,
   "toc_window_display": false
  }
 },
 "nbformat": 4,
 "nbformat_minor": 5
}
