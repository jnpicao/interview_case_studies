{
 "cells": [
  {
   "cell_type": "code",
   "execution_count": 1,
   "id": "bd544b5f",
   "metadata": {
    "ExecuteTime": {
     "end_time": "2022-09-08T10:41:08.873600Z",
     "start_time": "2022-09-08T10:41:07.223794Z"
    }
   },
   "outputs": [],
   "source": [
    "import os\n",
    "import re\n",
    "\n",
    "import pandas as pd\n",
    "\n",
    "import numpy as np\n",
    "\n",
    "from sklearn.pipeline import Pipeline, make_pipeline, FeatureUnion\n",
    "\n",
    "from sklearn.ensemble import ExtraTreesClassifier\n",
    "\n",
    "from sklearn.model_selection import cross_val_predict\n",
    "\n",
    "from sklearn.metrics import confusion_matrix, ConfusionMatrixDisplay\n",
    "from sklearn.metrics import classification_report, f1_score, roc_auc_score\n",
    "\n",
    "import seaborn as sns\n",
    "\n",
    "from matplotlib import pyplot as plt\n",
    "\n",
    "from utils import CreateFeatures, Selector"
   ]
  },
  {
   "cell_type": "code",
   "execution_count": 2,
   "id": "d23539fb",
   "metadata": {
    "ExecuteTime": {
     "end_time": "2022-09-08T10:41:08.901851Z",
     "start_time": "2022-09-08T10:41:08.873600Z"
    }
   },
   "outputs": [],
   "source": [
    "df_train = pd.read_csv('df_train.csv', index_col=0)"
   ]
  },
  {
   "cell_type": "code",
   "execution_count": 3,
   "id": "31cb87f2",
   "metadata": {
    "ExecuteTime": {
     "end_time": "2022-09-08T10:41:08.925350Z",
     "start_time": "2022-09-08T10:41:08.901851Z"
    }
   },
   "outputs": [],
   "source": [
    "# X_train = df_train[['text']]\n",
    "# y_train = df_train['label']\n",
    "\n",
    "X_train = df_train[['text', 'box_0', 'box_1']]\n",
    "y_train = df_train['label']"
   ]
  },
  {
   "cell_type": "code",
   "execution_count": 4,
   "id": "1df80e4f",
   "metadata": {
    "ExecuteTime": {
     "end_time": "2022-09-08T10:41:08.942432Z",
     "start_time": "2022-09-08T10:41:08.925350Z"
    }
   },
   "outputs": [],
   "source": [
    "pipe_preprocessing = Pipeline([('create_feats', CreateFeatures(text_col='text'))])"
   ]
  },
  {
   "cell_type": "code",
   "execution_count": 5,
   "id": "7b69f7ac",
   "metadata": {
    "ExecuteTime": {
     "end_time": "2022-09-08T10:41:08.954557Z",
     "start_time": "2022-09-08T10:41:08.942432Z"
    }
   },
   "outputs": [],
   "source": [
    "pipe_selector = Pipeline([('select_feats', Selector(cols_to_drop=['text']))])"
   ]
  },
  {
   "cell_type": "markdown",
   "id": "8bf64eb2",
   "metadata": {},
   "source": [
    "[Multiclass classifiers](https://scikit-learn.org/stable/modules/multiclass.html)"
   ]
  },
  {
   "cell_type": "code",
   "execution_count": 6,
   "id": "d11344d7",
   "metadata": {
    "ExecuteTime": {
     "end_time": "2022-09-08T10:41:08.976729Z",
     "start_time": "2022-09-08T10:41:08.954557Z"
    }
   },
   "outputs": [],
   "source": [
    "pipe_clf = Pipeline([('clf', ExtraTreesClassifier(n_estimators=25, random_state=0))])"
   ]
  },
  {
   "cell_type": "code",
   "execution_count": 7,
   "id": "7b2cc21a",
   "metadata": {
    "ExecuteTime": {
     "end_time": "2022-09-08T10:41:08.992776Z",
     "start_time": "2022-09-08T10:41:08.977504Z"
    }
   },
   "outputs": [],
   "source": [
    "pipe = Pipeline([('create_feats', pipe_preprocessing),\n",
    "                 ('select_feats', pipe_selector),\n",
    "                 ('clf', pipe_clf)])"
   ]
  },
  {
   "cell_type": "code",
   "execution_count": 8,
   "id": "e027c334",
   "metadata": {
    "ExecuteTime": {
     "end_time": "2022-09-08T10:41:11.266929Z",
     "start_time": "2022-09-08T10:41:08.992776Z"
    }
   },
   "outputs": [],
   "source": [
    "y_pred = cross_val_predict(pipe, X_train, y_train, cv=5)"
   ]
  },
  {
   "cell_type": "code",
   "execution_count": 9,
   "id": "f2e9cf8d",
   "metadata": {
    "ExecuteTime": {
     "end_time": "2022-09-08T10:41:11.286907Z",
     "start_time": "2022-09-08T10:41:11.266929Z"
    }
   },
   "outputs": [
    {
     "data": {
      "text/plain": [
       "7411"
      ]
     },
     "execution_count": 9,
     "metadata": {},
     "output_type": "execute_result"
    }
   ],
   "source": [
    "len(y_pred)"
   ]
  },
  {
   "cell_type": "markdown",
   "id": "a89e8a65",
   "metadata": {},
   "source": [
    "[Performance metrics](https://scikit-learn.org/stable/modules/model_evaluation.html)"
   ]
  },
  {
   "cell_type": "code",
   "execution_count": 10,
   "id": "07fb4ff6",
   "metadata": {
    "ExecuteTime": {
     "end_time": "2022-09-08T10:41:11.307346Z",
     "start_time": "2022-09-08T10:41:11.286907Z"
    }
   },
   "outputs": [],
   "source": [
    "label_order = ['question', 'answer', 'header', 'other']"
   ]
  },
  {
   "cell_type": "code",
   "execution_count": 11,
   "id": "20f70f58",
   "metadata": {
    "ExecuteTime": {
     "end_time": "2022-09-08T10:41:11.322132Z",
     "start_time": "2022-09-08T10:41:11.307346Z"
    },
    "scrolled": true
   },
   "outputs": [],
   "source": [
    "cf_matrix = confusion_matrix(y_train, y_pred, labels=label_order)\n",
    "cf_matrix_df = pd.DataFrame(data=cf_matrix, index=label_order, columns=label_order)"
   ]
  },
  {
   "cell_type": "code",
   "execution_count": 12,
   "id": "16b920d8",
   "metadata": {
    "ExecuteTime": {
     "end_time": "2022-09-08T10:41:11.334249Z",
     "start_time": "2022-09-08T10:41:11.322132Z"
    }
   },
   "outputs": [],
   "source": [
    "#cf_matrix_df"
   ]
  },
  {
   "cell_type": "code",
   "execution_count": 13,
   "id": "81d2cb68",
   "metadata": {
    "ExecuteTime": {
     "end_time": "2022-09-08T10:41:11.351838Z",
     "start_time": "2022-09-08T10:41:11.334914Z"
    }
   },
   "outputs": [],
   "source": [
    "sum_cols = cf_matrix_df.sum(axis=0).rename('cols sum').to_frame().T\n",
    "sum_rows =cf_matrix_df.sum(axis=1).rename('rows sum').to_frame()\n",
    "cf_matrix_df_sums = pd.concat([cf_matrix_df, sum_cols]).join(sum_rows)"
   ]
  },
  {
   "cell_type": "code",
   "execution_count": 14,
   "id": "f22f8d9e",
   "metadata": {
    "ExecuteTime": {
     "end_time": "2022-09-08T10:41:11.365506Z",
     "start_time": "2022-09-08T10:41:11.353056Z"
    }
   },
   "outputs": [
    {
     "data": {
      "text/html": [
       "<div>\n",
       "<style scoped>\n",
       "    .dataframe tbody tr th:only-of-type {\n",
       "        vertical-align: middle;\n",
       "    }\n",
       "\n",
       "    .dataframe tbody tr th {\n",
       "        vertical-align: top;\n",
       "    }\n",
       "\n",
       "    .dataframe thead th {\n",
       "        text-align: right;\n",
       "    }\n",
       "</style>\n",
       "<table border=\"1\" class=\"dataframe\">\n",
       "  <thead>\n",
       "    <tr style=\"text-align: right;\">\n",
       "      <th></th>\n",
       "      <th>question</th>\n",
       "      <th>answer</th>\n",
       "      <th>header</th>\n",
       "      <th>other</th>\n",
       "      <th>rows sum</th>\n",
       "    </tr>\n",
       "  </thead>\n",
       "  <tbody>\n",
       "    <tr>\n",
       "      <th>question</th>\n",
       "      <td>2593</td>\n",
       "      <td>527</td>\n",
       "      <td>73</td>\n",
       "      <td>73</td>\n",
       "      <td>3266.0</td>\n",
       "    </tr>\n",
       "    <tr>\n",
       "      <th>answer</th>\n",
       "      <td>639</td>\n",
       "      <td>1950</td>\n",
       "      <td>30</td>\n",
       "      <td>183</td>\n",
       "      <td>2802.0</td>\n",
       "    </tr>\n",
       "    <tr>\n",
       "      <th>header</th>\n",
       "      <td>228</td>\n",
       "      <td>84</td>\n",
       "      <td>112</td>\n",
       "      <td>17</td>\n",
       "      <td>441.0</td>\n",
       "    </tr>\n",
       "    <tr>\n",
       "      <th>other</th>\n",
       "      <td>218</td>\n",
       "      <td>340</td>\n",
       "      <td>25</td>\n",
       "      <td>319</td>\n",
       "      <td>902.0</td>\n",
       "    </tr>\n",
       "    <tr>\n",
       "      <th>cols sum</th>\n",
       "      <td>3678</td>\n",
       "      <td>2901</td>\n",
       "      <td>240</td>\n",
       "      <td>592</td>\n",
       "      <td>NaN</td>\n",
       "    </tr>\n",
       "  </tbody>\n",
       "</table>\n",
       "</div>"
      ],
      "text/plain": [
       "          question  answer  header  other  rows sum\n",
       "question      2593     527      73     73    3266.0\n",
       "answer         639    1950      30    183    2802.0\n",
       "header         228      84     112     17     441.0\n",
       "other          218     340      25    319     902.0\n",
       "cols sum      3678    2901     240    592       NaN"
      ]
     },
     "execution_count": 14,
     "metadata": {},
     "output_type": "execute_result"
    }
   ],
   "source": [
    "cf_matrix_df_sums"
   ]
  },
  {
   "cell_type": "markdown",
   "id": "1c13cc80",
   "metadata": {},
   "source": [
    "[Confusion matrix](https://scikit-learn.org/stable/auto_examples/model_selection/plot_confusion_matrix.html)"
   ]
  },
  {
   "cell_type": "code",
   "execution_count": 15,
   "id": "8a5899aa",
   "metadata": {
    "ExecuteTime": {
     "end_time": "2022-09-08T10:41:11.539932Z",
     "start_time": "2022-09-08T10:41:11.365506Z"
    }
   },
   "outputs": [
    {
     "data": {
      "image/png": "[encoded data removed]",
      "text/plain": [
       "<Figure size 432x432 with 2 Axes>"
      ]
     },
     "metadata": {
      "needs_background": "light"
     },
     "output_type": "display_data"
    }
   ],
   "source": [
    "plt.figure(figsize=(6,6))\n",
    "sns.heatmap(data=cf_matrix_df, annot=True, fmt=\"d\",cmap='coolwarm', linewidths=5)\n",
    "plt.ylabel('True label', **{'size':'14'})\n",
    "plt.xlabel('Predicted label', **{'size':'14'})\n",
    "plt.show()"
   ]
  },
  {
   "cell_type": "code",
   "execution_count": 16,
   "id": "91b72dbf",
   "metadata": {
    "ExecuteTime": {
     "end_time": "2022-09-08T10:41:11.580326Z",
     "start_time": "2022-09-08T10:41:11.542279Z"
    }
   },
   "outputs": [
    {
     "data": {
      "text/plain": [
       "0.7177491833923566"
      ]
     },
     "execution_count": 16,
     "metadata": {},
     "output_type": "execute_result"
    }
   ],
   "source": [
    "f1_score(y_train, y_pred, labels=['question', 'answer'], average='weighted')"
   ]
  },
  {
   "cell_type": "code",
   "execution_count": 17,
   "id": "70be63de",
   "metadata": {
    "ExecuteTime": {
     "end_time": "2022-09-08T10:41:11.621530Z",
     "start_time": "2022-09-08T10:41:11.580326Z"
    }
   },
   "outputs": [
    {
     "data": {
      "text/plain": [
       "0.7468317972350231"
      ]
     },
     "execution_count": 17,
     "metadata": {},
     "output_type": "execute_result"
    }
   ],
   "source": [
    "f1_score(y_train, y_pred, labels=['question'], average='weighted')"
   ]
  },
  {
   "cell_type": "code",
   "execution_count": 18,
   "id": "b7bfcc6b",
   "metadata": {
    "ExecuteTime": {
     "end_time": "2022-09-08T10:41:11.657604Z",
     "start_time": "2022-09-08T10:41:11.621530Z"
    }
   },
   "outputs": [
    {
     "data": {
      "text/plain": [
       "0.683850604944766"
      ]
     },
     "execution_count": 18,
     "metadata": {},
     "output_type": "execute_result"
    }
   ],
   "source": [
    "f1_score(y_train, y_pred, labels=['answer'], average='weighted')"
   ]
  },
  {
   "cell_type": "code",
   "execution_count": 19,
   "id": "509e4c73",
   "metadata": {
    "ExecuteTime": {
     "end_time": "2022-09-08T10:41:11.764957Z",
     "start_time": "2022-09-08T10:41:11.657604Z"
    }
   },
   "outputs": [
    {
     "name": "stdout",
     "output_type": "stream",
     "text": [
      "              precision    recall  f1-score   support\n",
      "\n",
      "    question       0.71      0.79      0.75      3266\n",
      "      answer       0.67      0.70      0.68      2802\n",
      "      header       0.47      0.25      0.33       441\n",
      "       other       0.54      0.35      0.43       902\n",
      "\n",
      "    accuracy                           0.67      7411\n",
      "   macro avg       0.60      0.52      0.55      7411\n",
      "weighted avg       0.66      0.67      0.66      7411\n",
      "\n"
     ]
    }
   ],
   "source": [
    "print(classification_report(y_train, y_pred, labels=label_order))"
   ]
  },
  {
   "cell_type": "code",
   "execution_count": null,
   "id": "5b2f6077",
   "metadata": {},
   "outputs": [],
   "source": []
  },
  {
   "cell_type": "code",
   "execution_count": null,
   "id": "2da83bc5",
   "metadata": {},
   "outputs": [],
   "source": []
  },
  {
   "cell_type": "code",
   "execution_count": null,
   "id": "6de7b5a3",
   "metadata": {},
   "outputs": [],
   "source": []
  },
  {
   "cell_type": "code",
   "execution_count": null,
   "id": "26d0deb5",
   "metadata": {},
   "outputs": [],
   "source": []
  },
  {
   "cell_type": "markdown",
   "id": "38108f03",
   "metadata": {},
   "source": [
    "## What evaluation metric to use?  "
   ]
  },
  {
   "cell_type": "markdown",
   "id": "4e4db6d4",
   "metadata": {},
   "source": [
    "Let’s have an extreme example here. Suppose you are using a search engine to search web pages by some keywords. If the search engine returns only one webpage, which is the most relevant ones, we consider the precision as 100%. However, the recall will be very low because there will be a considerable amount of web pages that are relevant (positive) but were ignored (False Negative, FN). Let’s go back to the definition of recall, TP is only 1, but FN is very large, so the denominator is extremely large whereas the nominator is very small.\n",
    "\n",
    "On the other hand, if the search engine returns all the web pages (imagine that we don’t do “retrieving” here, simply return all webpages on the internet), the recall will be 100%, but the precision will be close to 0%. This is because the False Positive (FP) is extremely large.\n",
    "\n",
    "Therefore, most of the time, we need to balance these two metrics. In different scenarios, we may try to improve either of them and have some trade-off on the other one."
   ]
  },
  {
   "cell_type": "markdown",
   "id": "b38c8920",
   "metadata": {},
   "source": [
    "\n",
    "\n",
    "The `scikit-learn` package includes most of the **validation metrics for classification** we will ever use (which can mostly found [here](http://scikit-learn.org/stable/modules/model_evaluation.html#classification-metrics)). \n",
    "\n",
    "The validation metrics for classification presented in this notebook are:\n",
    "- Accuracy Score\n",
    "- Confusion Matrix\n",
    "- Precision\n",
    "- Recall\n",
    "- F1-Score\n",
    "- Area Under the Receiver Operating Charactristic curve (AUROC)\n"
   ]
  },
  {
   "cell_type": "markdown",
   "id": "2198116f",
   "metadata": {},
   "source": [
    "**Precision** is the ability to be a good classifier on the positive prediction. Appropriate when the cost of false positives is high. Leads to **higher decision thresholds**.  \n",
    "\n",
    "$$ P = \\frac{True\\ Positive}{Positive\\ predictions} = \\frac{TP}{TP+FP} $$  \n",
    "\n",
    "If the search engine returns only one webpage, which is the most relevant ones, we consider the precision as 100%. However, the recall will be very low because there will be a considerable amount of web pages that are relevant (positive) but were ignored (False Negative, FN)."
   ]
  },
  {
   "cell_type": "markdown",
   "id": "f6a70ad3",
   "metadata": {},
   "source": [
    "**Recall** is the ability to be a good classifier on the positive observations. Appropriate when the cost of false negatives is high. Leads to **lower decision thresholds**.  \n",
    "\n",
    "$$ R = \\frac{True\\ Positive}{Positive\\ observations} = \\frac{TP}{TP+FN} $$  \n",
    "\n",
    "On the other hand, if the search engine returns all the web pages (imagine that we don’t do “retrieving” here, simply return all webpages on the internet), the recall will be 100%, but the precision will be close to 0%. This is because the False Positive (FP) is extremely large."
   ]
  },
  {
   "cell_type": "markdown",
   "id": "f597d011",
   "metadata": {},
   "source": [
    "**F1 score** is an attempt to find a \"midground\" between precision and recall. However it should be used with caution, as it assumes that both False Positives and False Negatives have the same impact on the end objective, which in a real scenario is rarely true.   \n",
    "\n",
    "$$ F1 = 2\\frac{P \\times R}{P+R} $$"
   ]
  },
  {
   "cell_type": "code",
   "execution_count": null,
   "id": "1114b2ab",
   "metadata": {},
   "outputs": [],
   "source": []
  },
  {
   "cell_type": "code",
   "execution_count": null,
   "id": "50063bf5",
   "metadata": {},
   "outputs": [],
   "source": []
  },
  {
   "cell_type": "code",
   "execution_count": null,
   "id": "27187877",
   "metadata": {},
   "outputs": [],
   "source": []
  },
  {
   "cell_type": "code",
   "execution_count": null,
   "id": "4ec78fe7",
   "metadata": {},
   "outputs": [],
   "source": []
  },
  {
   "cell_type": "code",
   "execution_count": null,
   "id": "63de7f79",
   "metadata": {},
   "outputs": [],
   "source": []
  },
  {
   "cell_type": "code",
   "execution_count": null,
   "id": "03c998d3",
   "metadata": {},
   "outputs": [],
   "source": []
  },
  {
   "cell_type": "code",
   "execution_count": null,
   "id": "07104cbc",
   "metadata": {},
   "outputs": [],
   "source": []
  }
 ],
 "metadata": {
  "kernelspec": {
   "display_name": "Python 3 (ipykernel)",
   "language": "python",
   "name": "python3"
  },
  "language_info": {
   "codemirror_mode": {
    "name": "ipython",
    "version": 3
   },
   "file_extension": ".py",
   "mimetype": "text/x-python",
   "name": "python",
   "nbconvert_exporter": "python",
   "pygments_lexer": "ipython3",
   "version": "3.9.12"
  },
  "toc": {
   "base_numbering": 1,
   "nav_menu": {},
   "number_sections": true,
   "sideBar": true,
   "skip_h1_title": false,
   "title_cell": "Table of Contents",
   "title_sidebar": "Contents",
   "toc_cell": false,
   "toc_position": {},
   "toc_section_display": true,
   "toc_window_display": false
  }
 },
 "nbformat": 4,
 "nbformat_minor": 5
}
