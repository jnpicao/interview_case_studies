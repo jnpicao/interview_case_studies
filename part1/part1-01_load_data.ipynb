{
 "cells": [
  {
   "cell_type": "code",
   "execution_count": 1,
   "id": "44eef414",
   "metadata": {
    "ExecuteTime": {
     "end_time": "2022-09-08T21:36:42.105846Z",
     "start_time": "2022-09-08T21:36:40.562136Z"
    }
   },
   "outputs": [],
   "source": [
    "import os\n",
    "\n",
    "import pandas as pd\n",
    "import seaborn as sns\n",
    "\n",
    "from utils_part1 import load_data_to_df"
   ]
  },
  {
   "cell_type": "code",
   "execution_count": 2,
   "id": "0d33879d",
   "metadata": {
    "ExecuteTime": {
     "end_time": "2022-09-08T21:36:42.121037Z",
     "start_time": "2022-09-08T21:36:42.105846Z"
    }
   },
   "outputs": [],
   "source": [
    "input_path_train = os.path.join('input_data', 'training_data', 'annotations')\n",
    "input_path_test = os.path.join('input_data', 'testing_data', 'annotations')"
   ]
  },
  {
   "cell_type": "markdown",
   "id": "6225a5ae",
   "metadata": {},
   "source": [
    "#### Load training data"
   ]
  },
  {
   "cell_type": "code",
   "execution_count": 3,
   "id": "ffbce2ae",
   "metadata": {
    "ExecuteTime": {
     "end_time": "2022-09-08T21:36:49.473805Z",
     "start_time": "2022-09-08T21:36:42.122477Z"
    },
    "scrolled": true
   },
   "outputs": [],
   "source": [
    "df_train = load_data_to_df(input_path_train)"
   ]
  },
  {
   "cell_type": "code",
   "execution_count": 4,
   "id": "80f22651",
   "metadata": {
    "ExecuteTime": {
     "end_time": "2022-09-08T21:36:49.511184Z",
     "start_time": "2022-09-08T21:36:49.473805Z"
    },
    "scrolled": true
   },
   "outputs": [
    {
     "name": "stdout",
     "output_type": "stream",
     "text": [
      "<class 'pandas.core.frame.DataFrame'>\n",
      "RangeIndex: 7411 entries, 0 to 7410\n",
      "Data columns (total 8 columns):\n",
      " #   Column  Non-Null Count  Dtype \n",
      "---  ------  --------------  ----- \n",
      " 0   form    7411 non-null   object\n",
      " 1   id      7411 non-null   object\n",
      " 2   text    7411 non-null   object\n",
      " 3   box_0   7411 non-null   int64 \n",
      " 4   box_1   7411 non-null   int64 \n",
      " 5   box_2   7411 non-null   int64 \n",
      " 6   box_3   7411 non-null   int64 \n",
      " 7   label   7411 non-null   object\n",
      "dtypes: int64(4), object(4)\n",
      "memory usage: 463.3+ KB\n"
     ]
    }
   ],
   "source": [
    "df_train.info()"
   ]
  },
  {
   "cell_type": "code",
   "execution_count": 5,
   "id": "4dd7fd8a",
   "metadata": {
    "ExecuteTime": {
     "end_time": "2022-09-08T21:36:49.546172Z",
     "start_time": "2022-09-08T21:36:49.511184Z"
    }
   },
   "outputs": [],
   "source": [
    "df_train.to_csv('df_train.csv')  "
   ]
  },
  {
   "cell_type": "code",
   "execution_count": 6,
   "id": "015aa6a0",
   "metadata": {
    "ExecuteTime": {
     "end_time": "2022-09-08T21:36:49.562264Z",
     "start_time": "2022-09-08T21:36:49.549383Z"
    }
   },
   "outputs": [
    {
     "name": "stdout",
     "output_type": "stream",
     "text": [
      "<class 'pandas.core.frame.DataFrame'>\n",
      "RangeIndex: 7411 entries, 0 to 7410\n",
      "Data columns (total 8 columns):\n",
      " #   Column  Non-Null Count  Dtype \n",
      "---  ------  --------------  ----- \n",
      " 0   form    7411 non-null   object\n",
      " 1   id      7411 non-null   object\n",
      " 2   text    7411 non-null   object\n",
      " 3   box_0   7411 non-null   int64 \n",
      " 4   box_1   7411 non-null   int64 \n",
      " 5   box_2   7411 non-null   int64 \n",
      " 6   box_3   7411 non-null   int64 \n",
      " 7   label   7411 non-null   object\n",
      "dtypes: int64(4), object(4)\n",
      "memory usage: 463.3+ KB\n"
     ]
    }
   ],
   "source": [
    "df_train.info()"
   ]
  },
  {
   "cell_type": "code",
   "execution_count": 7,
   "id": "5e3828df",
   "metadata": {
    "ExecuteTime": {
     "end_time": "2022-09-08T21:36:49.690048Z",
     "start_time": "2022-09-08T21:36:49.562264Z"
    }
   },
   "outputs": [
    {
     "name": "stderr",
     "output_type": "stream",
     "text": [
      "C:\\Users\\jpicao\\anaconda3\\envs\\ml\\lib\\site-packages\\seaborn\\_decorators.py:36: FutureWarning: Pass the following variable as a keyword arg: x. From version 0.12, the only valid positional argument will be `data`, and passing other arguments without an explicit keyword will result in an error or misinterpretation.\n",
      "  warnings.warn(\n"
     ]
    },
    {
     "data": {
      "text/plain": [
       "<AxesSubplot:xlabel='label', ylabel='count'>"
      ]
     },
     "execution_count": 7,
     "metadata": {},
     "output_type": "execute_result"
    },
    {
     "data": {
      "image/png": "[encoded data removed]",
      "text/plain": [
       "<Figure size 432x288 with 1 Axes>"
      ]
     },
     "metadata": {
      "needs_background": "light"
     },
     "output_type": "display_data"
    }
   ],
   "source": [
    "sns.categorical.countplot(df_train['label'])"
   ]
  },
  {
   "cell_type": "markdown",
   "id": "89bd246a",
   "metadata": {},
   "source": [
    "#### Load testing data"
   ]
  },
  {
   "cell_type": "code",
   "execution_count": 8,
   "id": "8f722232",
   "metadata": {
    "ExecuteTime": {
     "end_time": "2022-09-08T21:36:51.790211Z",
     "start_time": "2022-09-08T21:36:49.690048Z"
    }
   },
   "outputs": [],
   "source": [
    "df_test = load_data_to_df(input_path_test)"
   ]
  },
  {
   "cell_type": "code",
   "execution_count": 9,
   "id": "617e4cc1",
   "metadata": {
    "ExecuteTime": {
     "end_time": "2022-09-08T21:36:51.806052Z",
     "start_time": "2022-09-08T21:36:51.790211Z"
    }
   },
   "outputs": [
    {
     "name": "stdout",
     "output_type": "stream",
     "text": [
      "<class 'pandas.core.frame.DataFrame'>\n",
      "RangeIndex: 2332 entries, 0 to 2331\n",
      "Data columns (total 8 columns):\n",
      " #   Column  Non-Null Count  Dtype \n",
      "---  ------  --------------  ----- \n",
      " 0   form    2332 non-null   object\n",
      " 1   id      2332 non-null   object\n",
      " 2   text    2332 non-null   object\n",
      " 3   box_0   2332 non-null   int64 \n",
      " 4   box_1   2332 non-null   int64 \n",
      " 5   box_2   2332 non-null   int64 \n",
      " 6   box_3   2332 non-null   int64 \n",
      " 7   label   2332 non-null   object\n",
      "dtypes: int64(4), object(4)\n",
      "memory usage: 145.9+ KB\n"
     ]
    }
   ],
   "source": [
    "df_test.info()"
   ]
  },
  {
   "cell_type": "code",
   "execution_count": 10,
   "id": "9b8e59ca",
   "metadata": {
    "ExecuteTime": {
     "end_time": "2022-09-08T21:36:51.849423Z",
     "start_time": "2022-09-08T21:36:51.806052Z"
    }
   },
   "outputs": [],
   "source": [
    "df_test.to_csv('df_test.csv') "
   ]
  },
  {
   "cell_type": "code",
   "execution_count": null,
   "id": "50a12ba1",
   "metadata": {},
   "outputs": [],
   "source": []
  }
 ],
 "metadata": {
  "kernelspec": {
   "display_name": "Python 3 (ipykernel)",
   "language": "python",
   "name": "python3"
  },
  "language_info": {
   "codemirror_mode": {
    "name": "ipython",
    "version": 3
   },
   "file_extension": ".py",
   "mimetype": "text/x-python",
   "name": "python",
   "nbconvert_exporter": "python",
   "pygments_lexer": "ipython3",
   "version": "3.9.12"
  },
  "toc": {
   "base_numbering": 1,
   "nav_menu": {},
   "number_sections": true,
   "sideBar": true,
   "skip_h1_title": false,
   "title_cell": "Table of Contents",
   "title_sidebar": "Contents",
   "toc_cell": false,
   "toc_position": {},
   "toc_section_display": true,
   "toc_window_display": false
  }
 },
 "nbformat": 4,
 "nbformat_minor": 5
}
