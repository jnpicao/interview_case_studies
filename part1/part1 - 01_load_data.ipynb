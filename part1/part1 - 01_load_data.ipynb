{
 "cells": [
  {
   "cell_type": "code",
   "execution_count": 1,
   "id": "44eef414",
   "metadata": {
    "ExecuteTime": {
     "end_time": "2022-09-06T09:23:49.674836Z",
     "start_time": "2022-09-06T09:23:48.174507Z"
    }
   },
   "outputs": [],
   "source": [
    "import os\n",
    "import pandas as pd\n",
    "import json\n",
    "import seaborn as sns"
   ]
  },
  {
   "cell_type": "code",
   "execution_count": 2,
   "id": "0d33879d",
   "metadata": {
    "ExecuteTime": {
     "end_time": "2022-09-06T09:23:49.690288Z",
     "start_time": "2022-09-06T09:23:49.674836Z"
    }
   },
   "outputs": [],
   "source": [
    "input_path_train = os.path.join('..', 'data science part dataset', 'dataset', 'training_data', 'annotations')\n",
    "input_path_test = os.path.join('..', 'data science part dataset', 'dataset', 'testing_data', 'annotations')"
   ]
  },
  {
   "cell_type": "code",
   "execution_count": 3,
   "id": "f6a8263a",
   "metadata": {
    "ExecuteTime": {
     "end_time": "2022-09-06T09:23:49.728455Z",
     "start_time": "2022-09-06T09:23:49.690787Z"
    }
   },
   "outputs": [],
   "source": [
    "def load_data_to_df(input_path):\n",
    "    \n",
    "    df_data = pd.DataFrame(columns=['form', 'id', 'text', 'box_0', 'box_1',\n",
    "                                    'box_2', 'box_3', 'label'])\n",
    "\n",
    "    for file_path in os.listdir(input_path):\n",
    "        \n",
    "        input_file_path = os.path.join(input_path, file_path)\n",
    "        json_df = pd.read_json(input_file_path)\n",
    "        json_form = json.loads(json_df.to_json())['form']\n",
    "\n",
    "        for text_id in json_form:\n",
    "\n",
    "            box_0 = json_form[str(text_id)]['box'][0]\n",
    "            box_1 = json_form[str(text_id)]['box'][1]\n",
    "            box_2 = json_form[str(text_id)]['box'][2]\n",
    "            box_3 = json_form[str(text_id)]['box'][3]\n",
    "            \n",
    "            text = json_form[str(text_id)]['text']\n",
    "            label = json_form[str(text_id)]['label']\n",
    "\n",
    "            df_new_row = pd.DataFrame({'form': [input_file_path],\n",
    "                                       'id': [text_id],\n",
    "                                       'box_0': [box_0],\n",
    "                                       'box_1': [box_1],\n",
    "                                       'box_2': [box_2],\n",
    "                                       'box_3': [box_3],\n",
    "                                       'text': [text],\n",
    "                                       'label': [label]})\n",
    "\n",
    "            df_data = pd.concat([df_data, df_new_row])\n",
    "    \n",
    "    df_data = df_data.reset_index(drop=True)\n",
    "    \n",
    "    for col in ['box_0', 'box_1', 'box_2', 'box_3']:\n",
    "        df_data[col] = pd.to_numeric(df_data[col])\n",
    "    \n",
    "    \n",
    "    \n",
    "    return df_data"
   ]
  },
  {
   "cell_type": "code",
   "execution_count": 4,
   "id": "416c96f8",
   "metadata": {
    "ExecuteTime": {
     "end_time": "2022-09-06T09:23:49.746987Z",
     "start_time": "2022-09-06T09:23:49.731301Z"
    }
   },
   "outputs": [],
   "source": [
    "# df_data = pd.DataFrame(columns=['form', 'id', 'text', 'box_0', 'box_1',\n",
    "#                                     'box_2', 'box_3', 'label'])\n",
    "\n",
    "# input_file_path = os.path.join('.', 'smpl.json')\n",
    "# json_df = pd.read_json(input_file_path)\n",
    "# json_form = json.loads(json_df.to_json())['form']\n",
    "\n",
    "# for text_id in json_form:\n",
    "\n",
    "#     box_0 = json_form[str(text_id)]['box'][0].astype('int32')\n",
    "#     box_1 = json_form[str(text_id)]['box'][1].astype('int32')\n",
    "#     box_2 = json_form[str(text_id)]['box'][2].astype('int32')\n",
    "#     box_3 = json_form[str(text_id)]['box'][3].astype('int32')\n",
    "\n",
    "#     text = json_form[str(text_id)]['text']\n",
    "#     label = json_form[str(text_id)]['label']\n",
    "\n",
    "#     df_new_row = pd.DataFrame({'form': [input_file_path],\n",
    "#                                'id': [text_id],\n",
    "#                                'box_0': [box_0],\n",
    "#                                'box_1': [box_1],\n",
    "#                                'box_2': [box_2],\n",
    "#                                'box_3': [box_3],\n",
    "#                                'text': [text],\n",
    "#                                'label': [label]})\n",
    "\n",
    "#     df_data = pd.concat([df_data, df_new_row])"
   ]
  },
  {
   "cell_type": "markdown",
   "id": "6225a5ae",
   "metadata": {},
   "source": [
    "#### Load training data"
   ]
  },
  {
   "cell_type": "code",
   "execution_count": 5,
   "id": "ffbce2ae",
   "metadata": {
    "ExecuteTime": {
     "end_time": "2022-09-06T09:23:57.971543Z",
     "start_time": "2022-09-06T09:23:49.747925Z"
    },
    "scrolled": true
   },
   "outputs": [],
   "source": [
    "df_train = load_data_to_df(input_path_train)"
   ]
  },
  {
   "cell_type": "code",
   "execution_count": 6,
   "id": "80f22651",
   "metadata": {
    "ExecuteTime": {
     "end_time": "2022-09-06T09:23:58.007270Z",
     "start_time": "2022-09-06T09:23:57.973674Z"
    },
    "scrolled": true
   },
   "outputs": [
    {
     "name": "stdout",
     "output_type": "stream",
     "text": [
      "<class 'pandas.core.frame.DataFrame'>\n",
      "RangeIndex: 7411 entries, 0 to 7410\n",
      "Data columns (total 8 columns):\n",
      " #   Column  Non-Null Count  Dtype \n",
      "---  ------  --------------  ----- \n",
      " 0   form    7411 non-null   object\n",
      " 1   id      7411 non-null   object\n",
      " 2   text    7411 non-null   object\n",
      " 3   box_0   7411 non-null   int64 \n",
      " 4   box_1   7411 non-null   int64 \n",
      " 5   box_2   7411 non-null   int64 \n",
      " 6   box_3   7411 non-null   int64 \n",
      " 7   label   7411 non-null   object\n",
      "dtypes: int64(4), object(4)\n",
      "memory usage: 463.3+ KB\n"
     ]
    }
   ],
   "source": [
    "df_train.info()"
   ]
  },
  {
   "cell_type": "code",
   "execution_count": 7,
   "id": "4dd7fd8a",
   "metadata": {
    "ExecuteTime": {
     "end_time": "2022-09-06T09:23:58.087198Z",
     "start_time": "2022-09-06T09:23:58.007270Z"
    }
   },
   "outputs": [],
   "source": [
    "df_train.to_csv('df_train.csv')  "
   ]
  },
  {
   "cell_type": "markdown",
   "id": "89bd246a",
   "metadata": {},
   "source": [
    "#### Load testing data"
   ]
  },
  {
   "cell_type": "code",
   "execution_count": 8,
   "id": "8f722232",
   "metadata": {
    "ExecuteTime": {
     "end_time": "2022-09-06T09:24:01.894048Z",
     "start_time": "2022-09-06T09:23:58.091508Z"
    }
   },
   "outputs": [],
   "source": [
    "df_test = load_data_to_df(input_path_test)"
   ]
  },
  {
   "cell_type": "code",
   "execution_count": 9,
   "id": "617e4cc1",
   "metadata": {
    "ExecuteTime": {
     "end_time": "2022-09-06T09:24:01.923837Z",
     "start_time": "2022-09-06T09:24:01.895566Z"
    }
   },
   "outputs": [
    {
     "name": "stdout",
     "output_type": "stream",
     "text": [
      "<class 'pandas.core.frame.DataFrame'>\n",
      "RangeIndex: 2332 entries, 0 to 2331\n",
      "Data columns (total 8 columns):\n",
      " #   Column  Non-Null Count  Dtype \n",
      "---  ------  --------------  ----- \n",
      " 0   form    2332 non-null   object\n",
      " 1   id      2332 non-null   object\n",
      " 2   text    2332 non-null   object\n",
      " 3   box_0   2332 non-null   int64 \n",
      " 4   box_1   2332 non-null   int64 \n",
      " 5   box_2   2332 non-null   int64 \n",
      " 6   box_3   2332 non-null   int64 \n",
      " 7   label   2332 non-null   object\n",
      "dtypes: int64(4), object(4)\n",
      "memory usage: 145.9+ KB\n"
     ]
    }
   ],
   "source": [
    "df_test.info()"
   ]
  },
  {
   "cell_type": "code",
   "execution_count": 10,
   "id": "9b8e59ca",
   "metadata": {
    "ExecuteTime": {
     "end_time": "2022-09-06T09:24:01.948077Z",
     "start_time": "2022-09-06T09:24:01.924255Z"
    }
   },
   "outputs": [],
   "source": [
    "df_test.to_csv('df_test.csv') "
   ]
  },
  {
   "cell_type": "code",
   "execution_count": null,
   "id": "bd1718ca",
   "metadata": {},
   "outputs": [],
   "source": []
  },
  {
   "cell_type": "code",
   "execution_count": null,
   "id": "64f7e51e",
   "metadata": {},
   "outputs": [],
   "source": []
  },
  {
   "cell_type": "code",
   "execution_count": null,
   "id": "ff1ebb49",
   "metadata": {},
   "outputs": [],
   "source": []
  },
  {
   "cell_type": "code",
   "execution_count": 11,
   "id": "8111f760",
   "metadata": {
    "ExecuteTime": {
     "end_time": "2022-09-06T09:24:01.968181Z",
     "start_time": "2022-09-06T09:24:01.948582Z"
    }
   },
   "outputs": [
    {
     "name": "stdout",
     "output_type": "stream",
     "text": [
      "Help on function barplot in module seaborn.categorical:\n",
      "\n",
      "barplot(*, x=None, y=None, hue=None, data=None, order=None, hue_order=None, estimator=<function mean at 0x0000016B8FBD3EE0>, ci=95, n_boot=1000, units=None, seed=None, orient=None, color=None, palette=None, saturation=0.75, errcolor='.26', errwidth=None, capsize=None, dodge=True, ax=None, **kwargs)\n",
      "    Show point estimates and confidence intervals as rectangular bars.\n",
      "    \n",
      "    A bar plot represents an estimate of central tendency for a numeric\n",
      "    variable with the height of each rectangle and provides some indication of\n",
      "    the uncertainty around that estimate using error bars. Bar plots include 0\n",
      "    in the quantitative axis range, and they are a good choice when 0 is a\n",
      "    meaningful value for the quantitative variable, and you want to make\n",
      "    comparisons against it.\n",
      "    \n",
      "    For datasets where 0 is not a meaningful value, a point plot will allow you\n",
      "    to focus on differences between levels of one or more categorical\n",
      "    variables.\n",
      "    \n",
      "    It is also important to keep in mind that a bar plot shows only the mean\n",
      "    (or other estimator) value, but in many cases it may be more informative to\n",
      "    show the distribution of values at each level of the categorical variables.\n",
      "    In that case, other approaches such as a box or violin plot may be more\n",
      "    appropriate.\n",
      "    \n",
      "    \n",
      "    Input data can be passed in a variety of formats, including:\n",
      "    \n",
      "    - Vectors of data represented as lists, numpy arrays, or pandas Series\n",
      "      objects passed directly to the ``x``, ``y``, and/or ``hue`` parameters.\n",
      "    - A \"long-form\" DataFrame, in which case the ``x``, ``y``, and ``hue``\n",
      "      variables will determine how the data are plotted.\n",
      "    - A \"wide-form\" DataFrame, such that each numeric column will be plotted.\n",
      "    - An array or list of vectors.\n",
      "    \n",
      "    In most cases, it is possible to use numpy or Python objects, but pandas\n",
      "    objects are preferable because the associated names will be used to\n",
      "    annotate the axes. Additionally, you can use Categorical types for the\n",
      "    grouping variables to control the order of plot elements.    \n",
      "    \n",
      "    This function always treats one of the variables as categorical and\n",
      "    draws data at ordinal positions (0, 1, ... n) on the relevant axis, even\n",
      "    when the data has a numeric or date type.\n",
      "    \n",
      "    See the :ref:`tutorial <categorical_tutorial>` for more information.    \n",
      "    \n",
      "    Parameters\n",
      "    ----------\n",
      "    x, y, hue : names of variables in ``data`` or vector data, optional\n",
      "        Inputs for plotting long-form data. See examples for interpretation.        \n",
      "    data : DataFrame, array, or list of arrays, optional\n",
      "        Dataset for plotting. If ``x`` and ``y`` are absent, this is\n",
      "        interpreted as wide-form. Otherwise it is expected to be long-form.    \n",
      "    order, hue_order : lists of strings, optional\n",
      "        Order to plot the categorical levels in, otherwise the levels are\n",
      "        inferred from the data objects.        \n",
      "    estimator : callable that maps vector -> scalar, optional\n",
      "        Statistical function to estimate within each categorical bin.\n",
      "    ci : float or \"sd\" or None, optional\n",
      "        Size of confidence intervals to draw around estimated values.  If\n",
      "        \"sd\", skip bootstrapping and draw the standard deviation of the\n",
      "        observations. If ``None``, no bootstrapping will be performed, and\n",
      "        error bars will not be drawn.\n",
      "    n_boot : int, optional\n",
      "        Number of bootstrap iterations to use when computing confidence\n",
      "        intervals.\n",
      "    units : name of variable in ``data`` or vector data, optional\n",
      "        Identifier of sampling units, which will be used to perform a\n",
      "        multilevel bootstrap and account for repeated measures design.\n",
      "    seed : int, numpy.random.Generator, or numpy.random.RandomState, optional\n",
      "        Seed or random number generator for reproducible bootstrapping.    \n",
      "    orient : \"v\" | \"h\", optional\n",
      "        Orientation of the plot (vertical or horizontal). This is usually\n",
      "        inferred based on the type of the input variables, but it can be used\n",
      "        to resolve ambiguity when both `x` and `y` are numeric or when\n",
      "        plotting wide-form data.    \n",
      "    color : matplotlib color, optional\n",
      "        Color for all of the elements, or seed for a gradient palette.    \n",
      "    palette : palette name, list, or dict\n",
      "        Colors to use for the different levels of the ``hue`` variable. Should\n",
      "        be something that can be interpreted by :func:`color_palette`, or a\n",
      "        dictionary mapping hue levels to matplotlib colors.    \n",
      "    saturation : float, optional\n",
      "        Proportion of the original saturation to draw colors at. Large patches\n",
      "        often look better with slightly desaturated colors, but set this to\n",
      "        ``1`` if you want the plot colors to perfectly match the input color\n",
      "        spec.    \n",
      "    errcolor : matplotlib color\n",
      "        Color for the lines that represent the confidence interval.\n",
      "    errwidth : float, optional\n",
      "        Thickness of error bar lines (and caps).         \n",
      "    capsize : float, optional\n",
      "        Width of the \"caps\" on error bars.\n",
      "    \n",
      "    dodge : bool, optional\n",
      "        When hue nesting is used, whether elements should be shifted along the\n",
      "        categorical axis.    \n",
      "    ax : matplotlib Axes, optional\n",
      "        Axes object to draw the plot onto, otherwise uses the current Axes.    \n",
      "    kwargs : key, value mappings\n",
      "        Other keyword arguments are passed through to\n",
      "        :meth:`matplotlib.axes.Axes.bar`.\n",
      "    \n",
      "    Returns\n",
      "    -------\n",
      "    ax : matplotlib Axes\n",
      "        Returns the Axes object with the plot drawn onto it.    \n",
      "    \n",
      "    See Also\n",
      "    --------\n",
      "    countplot : Show the counts of observations in each categorical bin.    \n",
      "    pointplot : Show point estimates and confidence intervals using scatterplot\n",
      "                glyphs.    \n",
      "    catplot : Combine a categorical plot with a :class:`FacetGrid`.    \n",
      "    \n",
      "    Examples\n",
      "    --------\n",
      "    \n",
      "    Draw a set of vertical bar plots grouped by a categorical variable:\n",
      "    \n",
      "    .. plot::\n",
      "        :context: close-figs\n",
      "    \n",
      "        >>> import seaborn as sns\n",
      "        >>> sns.set_theme(style=\"whitegrid\")\n",
      "        >>> tips = sns.load_dataset(\"tips\")\n",
      "        >>> ax = sns.barplot(x=\"day\", y=\"total_bill\", data=tips)\n",
      "    \n",
      "    Draw a set of vertical bars with nested grouping by a two variables:\n",
      "    \n",
      "    .. plot::\n",
      "        :context: close-figs\n",
      "    \n",
      "        >>> ax = sns.barplot(x=\"day\", y=\"total_bill\", hue=\"sex\", data=tips)\n",
      "    \n",
      "    Draw a set of horizontal bars:\n",
      "    \n",
      "    .. plot::\n",
      "        :context: close-figs\n",
      "    \n",
      "        >>> ax = sns.barplot(x=\"tip\", y=\"day\", data=tips)\n",
      "    \n",
      "    Control bar order by passing an explicit order:\n",
      "    \n",
      "    .. plot::\n",
      "        :context: close-figs\n",
      "    \n",
      "        >>> ax = sns.barplot(x=\"time\", y=\"tip\", data=tips,\n",
      "        ...                  order=[\"Dinner\", \"Lunch\"])\n",
      "    \n",
      "    Use median as the estimate of central tendency:\n",
      "    \n",
      "    .. plot::\n",
      "        :context: close-figs\n",
      "    \n",
      "        >>> from numpy import median\n",
      "        >>> ax = sns.barplot(x=\"day\", y=\"tip\", data=tips, estimator=median)\n",
      "    \n",
      "    Show the standard error of the mean with the error bars:\n",
      "    \n",
      "    .. plot::\n",
      "        :context: close-figs\n",
      "    \n",
      "        >>> ax = sns.barplot(x=\"day\", y=\"tip\", data=tips, ci=68)\n",
      "    \n",
      "    Show standard deviation of observations instead of a confidence interval:\n",
      "    \n",
      "    .. plot::\n",
      "        :context: close-figs\n",
      "    \n",
      "        >>> ax = sns.barplot(x=\"day\", y=\"tip\", data=tips, ci=\"sd\")\n",
      "    \n",
      "    Add \"caps\" to the error bars:\n",
      "    \n",
      "    .. plot::\n",
      "        :context: close-figs\n",
      "    \n",
      "        >>> ax = sns.barplot(x=\"day\", y=\"tip\", data=tips, capsize=.2)\n",
      "    \n",
      "    Use a different color palette for the bars:\n",
      "    \n",
      "    .. plot::\n",
      "        :context: close-figs\n",
      "    \n",
      "        >>> ax = sns.barplot(x=\"size\", y=\"total_bill\", data=tips,\n",
      "        ...                  palette=\"Blues_d\")\n",
      "    \n",
      "    Use ``hue`` without changing bar position or width:\n",
      "    \n",
      "    .. plot::\n",
      "        :context: close-figs\n",
      "    \n",
      "        >>> tips[\"weekend\"] = tips[\"day\"].isin([\"Sat\", \"Sun\"])\n",
      "        >>> ax = sns.barplot(x=\"day\", y=\"total_bill\", hue=\"weekend\",\n",
      "        ...                  data=tips, dodge=False)\n",
      "    \n",
      "    Plot all bars in a single color:\n",
      "    \n",
      "    .. plot::\n",
      "        :context: close-figs\n",
      "    \n",
      "        >>> ax = sns.barplot(x=\"size\", y=\"total_bill\", data=tips,\n",
      "        ...                  color=\"salmon\", saturation=.5)\n",
      "    \n",
      "    Use :meth:`matplotlib.axes.Axes.bar` parameters to control the style.\n",
      "    \n",
      "    .. plot::\n",
      "        :context: close-figs\n",
      "    \n",
      "        >>> ax = sns.barplot(x=\"day\", y=\"total_bill\", data=tips,\n",
      "        ...                  linewidth=2.5, facecolor=(1, 1, 1, 0),\n",
      "        ...                  errcolor=\".2\", edgecolor=\".2\")\n",
      "    \n",
      "    Use :func:`catplot` to combine a :func:`barplot` and a :class:`FacetGrid`.\n",
      "    This allows grouping within additional categorical variables. Using\n",
      "    :func:`catplot` is safer than using :class:`FacetGrid` directly, as it\n",
      "    ensures synchronization of variable order across facets:\n",
      "    \n",
      "    .. plot::\n",
      "        :context: close-figs\n",
      "    \n",
      "        >>> g = sns.catplot(x=\"sex\", y=\"total_bill\",\n",
      "        ...                 hue=\"smoker\", col=\"time\",\n",
      "        ...                 data=tips, kind=\"bar\",\n",
      "        ...                 height=4, aspect=.7);\n",
      "\n"
     ]
    }
   ],
   "source": [
    "help(sns.categorical.barplot)"
   ]
  },
  {
   "cell_type": "code",
   "execution_count": 12,
   "id": "213dde7d",
   "metadata": {
    "ExecuteTime": {
     "end_time": "2022-09-06T09:24:01.990266Z",
     "start_time": "2022-09-06T09:24:01.968913Z"
    }
   },
   "outputs": [
    {
     "name": "stdout",
     "output_type": "stream",
     "text": [
      "<class 'pandas.core.frame.DataFrame'>\n",
      "RangeIndex: 7411 entries, 0 to 7410\n",
      "Data columns (total 8 columns):\n",
      " #   Column  Non-Null Count  Dtype \n",
      "---  ------  --------------  ----- \n",
      " 0   form    7411 non-null   object\n",
      " 1   id      7411 non-null   object\n",
      " 2   text    7411 non-null   object\n",
      " 3   box_0   7411 non-null   int64 \n",
      " 4   box_1   7411 non-null   int64 \n",
      " 5   box_2   7411 non-null   int64 \n",
      " 6   box_3   7411 non-null   int64 \n",
      " 7   label   7411 non-null   object\n",
      "dtypes: int64(4), object(4)\n",
      "memory usage: 463.3+ KB\n"
     ]
    }
   ],
   "source": [
    "df_train.info()"
   ]
  },
  {
   "cell_type": "code",
   "execution_count": 13,
   "id": "1d541006",
   "metadata": {
    "ExecuteTime": {
     "end_time": "2022-09-06T09:24:02.157821Z",
     "start_time": "2022-09-06T09:24:01.991275Z"
    }
   },
   "outputs": [
    {
     "name": "stderr",
     "output_type": "stream",
     "text": [
      "C:\\Users\\jpicao\\anaconda3\\envs\\ml\\lib\\site-packages\\seaborn\\_decorators.py:36: FutureWarning: Pass the following variable as a keyword arg: x. From version 0.12, the only valid positional argument will be `data`, and passing other arguments without an explicit keyword will result in an error or misinterpretation.\n",
      "  warnings.warn(\n"
     ]
    },
    {
     "data": {
      "text/plain": [
       "<AxesSubplot:xlabel='label', ylabel='count'>"
      ]
     },
     "execution_count": 13,
     "metadata": {},
     "output_type": "execute_result"
    },
    {
     "data": {
      "image/png": "[encoded data removed]",
      "text/plain": [
       "<Figure size 432x288 with 1 Axes>"
      ]
     },
     "metadata": {
      "needs_background": "light"
     },
     "output_type": "display_data"
    }
   ],
   "source": [
    "sns.categorical.countplot(df_train['label'])"
   ]
  },
  {
   "cell_type": "code",
   "execution_count": null,
   "id": "e9980a4c",
   "metadata": {},
   "outputs": [],
   "source": []
  },
  {
   "cell_type": "code",
   "execution_count": null,
   "id": "50a12ba1",
   "metadata": {},
   "outputs": [],
   "source": []
  }
 ],
 "metadata": {
  "kernelspec": {
   "display_name": "Python 3 (ipykernel)",
   "language": "python",
   "name": "python3"
  },
  "language_info": {
   "codemirror_mode": {
    "name": "ipython",
    "version": 3
   },
   "file_extension": ".py",
   "mimetype": "text/x-python",
   "name": "python",
   "nbconvert_exporter": "python",
   "pygments_lexer": "ipython3",
   "version": "3.9.12"
  },
  "toc": {
   "base_numbering": 1,
   "nav_menu": {},
   "number_sections": true,
   "sideBar": true,
   "skip_h1_title": false,
   "title_cell": "Table of Contents",
   "title_sidebar": "Contents",
   "toc_cell": false,
   "toc_position": {},
   "toc_section_display": true,
   "toc_window_display": false
  }
 },
 "nbformat": 4,
 "nbformat_minor": 5
}
