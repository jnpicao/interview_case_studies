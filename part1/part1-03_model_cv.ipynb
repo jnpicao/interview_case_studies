{
 "cells": [
  {
   "cell_type": "code",
   "execution_count": 1,
   "id": "bd544b5f",
   "metadata": {
    "ExecuteTime": {
     "end_time": "2022-09-09T08:15:45.429071Z",
     "start_time": "2022-09-09T08:15:43.656567Z"
    }
   },
   "outputs": [],
   "source": [
    "import os\n",
    "import re\n",
    "\n",
    "import pandas as pd\n",
    "\n",
    "import numpy as np\n",
    "\n",
    "from sklearn.pipeline import Pipeline, make_pipeline, FeatureUnion\n",
    "\n",
    "from sklearn.ensemble import ExtraTreesClassifier\n",
    "\n",
    "from sklearn.model_selection import cross_val_predict\n",
    "\n",
    "from sklearn.metrics import confusion_matrix, ConfusionMatrixDisplay\n",
    "from sklearn.metrics import classification_report, f1_score, roc_auc_score\n",
    "\n",
    "import seaborn as sns\n",
    "\n",
    "from matplotlib import pyplot as plt\n",
    "\n",
    "from utils_part1 import CreateFeatures, Selector"
   ]
  },
  {
   "cell_type": "markdown",
   "id": "50785d1d",
   "metadata": {},
   "source": [
    "# Load data and create pipeline"
   ]
  },
  {
   "cell_type": "code",
   "execution_count": 2,
   "id": "d23539fb",
   "metadata": {
    "ExecuteTime": {
     "end_time": "2022-09-09T08:15:45.460237Z",
     "start_time": "2022-09-09T08:15:45.429071Z"
    }
   },
   "outputs": [],
   "source": [
    "df_train = pd.read_csv('df_train.csv', index_col=0)"
   ]
  },
  {
   "cell_type": "code",
   "execution_count": 3,
   "id": "31cb87f2",
   "metadata": {
    "ExecuteTime": {
     "end_time": "2022-09-09T08:15:45.475838Z",
     "start_time": "2022-09-09T08:15:45.460237Z"
    }
   },
   "outputs": [],
   "source": [
    "X_train = df_train[['text', 'box_0', 'box_1']]\n",
    "y_train = df_train['label']"
   ]
  },
  {
   "cell_type": "code",
   "execution_count": 4,
   "id": "1df80e4f",
   "metadata": {
    "ExecuteTime": {
     "end_time": "2022-09-09T08:15:45.501894Z",
     "start_time": "2022-09-09T08:15:45.476046Z"
    }
   },
   "outputs": [],
   "source": [
    "pipe_preprocessing = Pipeline([('create_feats', CreateFeatures(text_col='text'))])"
   ]
  },
  {
   "cell_type": "code",
   "execution_count": 5,
   "id": "7b69f7ac",
   "metadata": {
    "ExecuteTime": {
     "end_time": "2022-09-09T08:15:45.517517Z",
     "start_time": "2022-09-09T08:15:45.501894Z"
    }
   },
   "outputs": [],
   "source": [
    "pipe_selector = Pipeline([('select_feats', Selector(cols_to_drop=['text']))])"
   ]
  },
  {
   "cell_type": "markdown",
   "id": "8bf64eb2",
   "metadata": {},
   "source": [
    "[Multiclass classifiers](https://scikit-learn.org/stable/modules/multiclass.html)"
   ]
  },
  {
   "cell_type": "code",
   "execution_count": 6,
   "id": "d11344d7",
   "metadata": {
    "ExecuteTime": {
     "end_time": "2022-09-09T08:15:45.532997Z",
     "start_time": "2022-09-09T08:15:45.517517Z"
    }
   },
   "outputs": [],
   "source": [
    "pipe_clf = Pipeline([('clf', ExtraTreesClassifier(n_estimators=25, random_state=0))])"
   ]
  },
  {
   "cell_type": "code",
   "execution_count": 7,
   "id": "7b2cc21a",
   "metadata": {
    "ExecuteTime": {
     "end_time": "2022-09-09T08:15:45.557378Z",
     "start_time": "2022-09-09T08:15:45.532997Z"
    }
   },
   "outputs": [],
   "source": [
    "pipe = Pipeline([('create_feats', pipe_preprocessing),\n",
    "                 ('select_feats', pipe_selector),\n",
    "                 ('clf', pipe_clf)])"
   ]
  },
  {
   "cell_type": "markdown",
   "id": "11419083",
   "metadata": {},
   "source": [
    "# Cross validation"
   ]
  },
  {
   "cell_type": "code",
   "execution_count": 8,
   "id": "e027c334",
   "metadata": {
    "ExecuteTime": {
     "end_time": "2022-09-09T08:15:47.792890Z",
     "start_time": "2022-09-09T08:15:45.557378Z"
    }
   },
   "outputs": [],
   "source": [
    "y_pred = cross_val_predict(pipe, X_train, y_train, cv=5)"
   ]
  },
  {
   "cell_type": "code",
   "execution_count": 9,
   "id": "f2e9cf8d",
   "metadata": {
    "ExecuteTime": {
     "end_time": "2022-09-09T08:15:47.808144Z",
     "start_time": "2022-09-09T08:15:47.792890Z"
    }
   },
   "outputs": [
    {
     "data": {
      "text/plain": [
       "7411"
      ]
     },
     "execution_count": 9,
     "metadata": {},
     "output_type": "execute_result"
    }
   ],
   "source": [
    "len(y_pred)"
   ]
  },
  {
   "cell_type": "markdown",
   "id": "a89e8a65",
   "metadata": {},
   "source": [
    "[Performance metrics](https://scikit-learn.org/stable/modules/model_evaluation.html)"
   ]
  },
  {
   "cell_type": "code",
   "execution_count": 10,
   "id": "07fb4ff6",
   "metadata": {
    "ExecuteTime": {
     "end_time": "2022-09-09T08:15:47.827153Z",
     "start_time": "2022-09-09T08:15:47.810293Z"
    }
   },
   "outputs": [],
   "source": [
    "label_order = ['question', 'answer', 'header', 'other']"
   ]
  },
  {
   "cell_type": "code",
   "execution_count": 11,
   "id": "20f70f58",
   "metadata": {
    "ExecuteTime": {
     "end_time": "2022-09-09T08:15:47.848004Z",
     "start_time": "2022-09-09T08:15:47.827153Z"
    },
    "scrolled": true
   },
   "outputs": [],
   "source": [
    "cf_matrix = confusion_matrix(y_train, y_pred, labels=label_order)\n",
    "cf_matrix_df = pd.DataFrame(data=cf_matrix, index=label_order, columns=label_order)"
   ]
  },
  {
   "cell_type": "code",
   "execution_count": 12,
   "id": "16b920d8",
   "metadata": {
    "ExecuteTime": {
     "end_time": "2022-09-09T08:15:47.869867Z",
     "start_time": "2022-09-09T08:15:47.848004Z"
    }
   },
   "outputs": [],
   "source": [
    "#cf_matrix_df"
   ]
  },
  {
   "cell_type": "code",
   "execution_count": 13,
   "id": "81d2cb68",
   "metadata": {
    "ExecuteTime": {
     "end_time": "2022-09-09T08:15:47.885645Z",
     "start_time": "2022-09-09T08:15:47.869963Z"
    }
   },
   "outputs": [],
   "source": [
    "sum_cols = cf_matrix_df.sum(axis=0).rename('cols sum').to_frame().T\n",
    "sum_rows =cf_matrix_df.sum(axis=1).rename('rows sum').to_frame()\n",
    "cf_matrix_df_sums = pd.concat([cf_matrix_df, sum_cols]).join(sum_rows)"
   ]
  },
  {
   "cell_type": "code",
   "execution_count": 14,
   "id": "f22f8d9e",
   "metadata": {
    "ExecuteTime": {
     "end_time": "2022-09-09T08:15:47.908789Z",
     "start_time": "2022-09-09T08:15:47.885645Z"
    }
   },
   "outputs": [
    {
     "data": {
      "text/html": [
       "<div>\n",
       "<style scoped>\n",
       "    .dataframe tbody tr th:only-of-type {\n",
       "        vertical-align: middle;\n",
       "    }\n",
       "\n",
       "    .dataframe tbody tr th {\n",
       "        vertical-align: top;\n",
       "    }\n",
       "\n",
       "    .dataframe thead th {\n",
       "        text-align: right;\n",
       "    }\n",
       "</style>\n",
       "<table border=\"1\" class=\"dataframe\">\n",
       "  <thead>\n",
       "    <tr style=\"text-align: right;\">\n",
       "      <th></th>\n",
       "      <th>question</th>\n",
       "      <th>answer</th>\n",
       "      <th>header</th>\n",
       "      <th>other</th>\n",
       "      <th>rows sum</th>\n",
       "    </tr>\n",
       "  </thead>\n",
       "  <tbody>\n",
       "    <tr>\n",
       "      <th>question</th>\n",
       "      <td>2593</td>\n",
       "      <td>527</td>\n",
       "      <td>73</td>\n",
       "      <td>73</td>\n",
       "      <td>3266.0</td>\n",
       "    </tr>\n",
       "    <tr>\n",
       "      <th>answer</th>\n",
       "      <td>639</td>\n",
       "      <td>1950</td>\n",
       "      <td>30</td>\n",
       "      <td>183</td>\n",
       "      <td>2802.0</td>\n",
       "    </tr>\n",
       "    <tr>\n",
       "      <th>header</th>\n",
       "      <td>228</td>\n",
       "      <td>84</td>\n",
       "      <td>112</td>\n",
       "      <td>17</td>\n",
       "      <td>441.0</td>\n",
       "    </tr>\n",
       "    <tr>\n",
       "      <th>other</th>\n",
       "      <td>218</td>\n",
       "      <td>340</td>\n",
       "      <td>25</td>\n",
       "      <td>319</td>\n",
       "      <td>902.0</td>\n",
       "    </tr>\n",
       "    <tr>\n",
       "      <th>cols sum</th>\n",
       "      <td>3678</td>\n",
       "      <td>2901</td>\n",
       "      <td>240</td>\n",
       "      <td>592</td>\n",
       "      <td>NaN</td>\n",
       "    </tr>\n",
       "  </tbody>\n",
       "</table>\n",
       "</div>"
      ],
      "text/plain": [
       "          question  answer  header  other  rows sum\n",
       "question      2593     527      73     73    3266.0\n",
       "answer         639    1950      30    183    2802.0\n",
       "header         228      84     112     17     441.0\n",
       "other          218     340      25    319     902.0\n",
       "cols sum      3678    2901     240    592       NaN"
      ]
     },
     "execution_count": 14,
     "metadata": {},
     "output_type": "execute_result"
    }
   ],
   "source": [
    "cf_matrix_df_sums"
   ]
  },
  {
   "cell_type": "markdown",
   "id": "1c13cc80",
   "metadata": {},
   "source": [
    "[Confusion matrix](https://scikit-learn.org/stable/auto_examples/model_selection/plot_confusion_matrix.html)"
   ]
  },
  {
   "cell_type": "code",
   "execution_count": 15,
   "id": "8a5899aa",
   "metadata": {
    "ExecuteTime": {
     "end_time": "2022-09-09T08:15:48.071571Z",
     "start_time": "2022-09-09T08:15:47.908789Z"
    }
   },
   "outputs": [
    {
     "data": {
      "image/png": "[encoded data removed]",
      "text/plain": [
       "<Figure size 432x432 with 2 Axes>"
      ]
     },
     "metadata": {
      "needs_background": "light"
     },
     "output_type": "display_data"
    }
   ],
   "source": [
    "plt.figure(figsize=(6,6))\n",
    "sns.heatmap(data=cf_matrix_df, annot=True, fmt=\"d\",cmap='coolwarm', linewidths=5)\n",
    "plt.ylabel('True label', **{'size':'14'})\n",
    "plt.xlabel('Predicted label', **{'size':'14'})\n",
    "plt.show()"
   ]
  },
  {
   "cell_type": "code",
   "execution_count": 16,
   "id": "91b72dbf",
   "metadata": {
    "ExecuteTime": {
     "end_time": "2022-09-09T08:15:48.109349Z",
     "start_time": "2022-09-09T08:15:48.071571Z"
    }
   },
   "outputs": [
    {
     "data": {
      "text/plain": [
       "0.7177491833923566"
      ]
     },
     "execution_count": 16,
     "metadata": {},
     "output_type": "execute_result"
    }
   ],
   "source": [
    "f1_score(y_train, y_pred, labels=['question', 'answer'], average='weighted')"
   ]
  },
  {
   "cell_type": "code",
   "execution_count": 17,
   "id": "509e4c73",
   "metadata": {
    "ExecuteTime": {
     "end_time": "2022-09-09T08:15:48.225058Z",
     "start_time": "2022-09-09T08:15:48.109349Z"
    }
   },
   "outputs": [
    {
     "name": "stdout",
     "output_type": "stream",
     "text": [
      "              precision    recall  f1-score   support\n",
      "\n",
      "    question       0.71      0.79      0.75      3266\n",
      "      answer       0.67      0.70      0.68      2802\n",
      "      header       0.47      0.25      0.33       441\n",
      "       other       0.54      0.35      0.43       902\n",
      "\n",
      "    accuracy                           0.67      7411\n",
      "   macro avg       0.60      0.52      0.55      7411\n",
      "weighted avg       0.66      0.67      0.66      7411\n",
      "\n"
     ]
    }
   ],
   "source": [
    "print(classification_report(y_train, y_pred, labels=label_order))"
   ]
  },
  {
   "cell_type": "markdown",
   "id": "998b2a16",
   "metadata": {},
   "source": [
    "# Final model"
   ]
  },
  {
   "cell_type": "markdown",
   "id": "46ae737e",
   "metadata": {},
   "source": [
    "## Fit"
   ]
  },
  {
   "cell_type": "markdown",
   "id": "8c2403d8",
   "metadata": {},
   "source": [
    "Fit the pipeline to the complete training dataset."
   ]
  },
  {
   "cell_type": "code",
   "execution_count": 18,
   "id": "5b2f6077",
   "metadata": {
    "ExecuteTime": {
     "end_time": "2022-09-09T08:15:48.696108Z",
     "start_time": "2022-09-09T08:15:48.225058Z"
    }
   },
   "outputs": [
    {
     "data": {
      "text/plain": [
       "Pipeline(steps=[('create_feats',\n",
       "                 Pipeline(steps=[('create_feats', CreateFeatures())])),\n",
       "                ('select_feats',\n",
       "                 Pipeline(steps=[('select_feats',\n",
       "                                  Selector(cols_to_drop=['text']))])),\n",
       "                ('clf',\n",
       "                 Pipeline(steps=[('clf',\n",
       "                                  ExtraTreesClassifier(n_estimators=25,\n",
       "                                                       random_state=0))]))])"
      ]
     },
     "execution_count": 18,
     "metadata": {},
     "output_type": "execute_result"
    }
   ],
   "source": [
    "pipe.fit(X_train, y_train)"
   ]
  },
  {
   "cell_type": "markdown",
   "id": "e90b31ce",
   "metadata": {},
   "source": [
    "## Evaluate final model"
   ]
  },
  {
   "cell_type": "code",
   "execution_count": 19,
   "id": "84c5b51c",
   "metadata": {
    "ExecuteTime": {
     "end_time": "2022-09-09T08:15:48.712130Z",
     "start_time": "2022-09-09T08:15:48.696108Z"
    }
   },
   "outputs": [],
   "source": [
    "df_test = pd.read_csv('df_test.csv', index_col=0)"
   ]
  },
  {
   "cell_type": "code",
   "execution_count": 20,
   "id": "59babada",
   "metadata": {
    "ExecuteTime": {
     "end_time": "2022-09-09T08:15:48.744476Z",
     "start_time": "2022-09-09T08:15:48.713214Z"
    }
   },
   "outputs": [],
   "source": [
    "X_test = df_test[['text', 'box_0', 'box_1']]\n",
    "y_test = df_test['label']"
   ]
  },
  {
   "cell_type": "code",
   "execution_count": 21,
   "id": "80ab1391",
   "metadata": {
    "ExecuteTime": {
     "end_time": "2022-09-09T08:15:48.896482Z",
     "start_time": "2022-09-09T08:15:48.744476Z"
    }
   },
   "outputs": [
    {
     "name": "stderr",
     "output_type": "stream",
     "text": [
      "C:\\Users\\jpicao\\anaconda3\\envs\\ml\\lib\\site-packages\\dateutil\\parser\\_parser.py:1207: UnknownTimezoneWarning: tzname M identified but not understood.  Pass `tzinfos` argument in order to correctly return a timezone-aware datetime.  In a future version, this will raise an exception.\n",
      "  warnings.warn(\"tzname {tzname} identified but not understood.  \"\n"
     ]
    }
   ],
   "source": [
    "y_pred_test = pipe.predict(X_test)"
   ]
  },
  {
   "cell_type": "code",
   "execution_count": 22,
   "id": "d5810351",
   "metadata": {
    "ExecuteTime": {
     "end_time": "2022-09-09T08:15:48.915094Z",
     "start_time": "2022-09-09T08:15:48.896984Z"
    }
   },
   "outputs": [
    {
     "data": {
      "text/plain": [
       "array(['question', 'question', 'question', ..., 'question', 'answer',\n",
       "       'question'], dtype=object)"
      ]
     },
     "execution_count": 22,
     "metadata": {},
     "output_type": "execute_result"
    }
   ],
   "source": [
    "y_pred_test"
   ]
  },
  {
   "cell_type": "code",
   "execution_count": 23,
   "id": "725860c1",
   "metadata": {
    "ExecuteTime": {
     "end_time": "2022-09-09T08:15:48.931644Z",
     "start_time": "2022-09-09T08:15:48.915885Z"
    }
   },
   "outputs": [
    {
     "data": {
      "text/plain": [
       "2332"
      ]
     },
     "execution_count": 23,
     "metadata": {},
     "output_type": "execute_result"
    }
   ],
   "source": [
    "len(y_pred_test)"
   ]
  },
  {
   "cell_type": "markdown",
   "id": "5d3f3677",
   "metadata": {},
   "source": [
    "[Performance metrics](https://scikit-learn.org/stable/modules/model_evaluation.html)"
   ]
  },
  {
   "cell_type": "code",
   "execution_count": 24,
   "id": "0ddf0d05",
   "metadata": {
    "ExecuteTime": {
     "end_time": "2022-09-09T08:15:48.952814Z",
     "start_time": "2022-09-09T08:15:48.931644Z"
    }
   },
   "outputs": [],
   "source": [
    "label_order = ['question', 'answer', 'header', 'other']"
   ]
  },
  {
   "cell_type": "code",
   "execution_count": 25,
   "id": "2bb91fe9",
   "metadata": {
    "ExecuteTime": {
     "end_time": "2022-09-09T08:15:48.968531Z",
     "start_time": "2022-09-09T08:15:48.952814Z"
    },
    "scrolled": true
   },
   "outputs": [],
   "source": [
    "cf_matrix = confusion_matrix(y_test, y_pred_test, labels=label_order)\n",
    "cf_matrix_df = pd.DataFrame(data=cf_matrix, index=label_order, columns=label_order)"
   ]
  },
  {
   "cell_type": "code",
   "execution_count": 26,
   "id": "e12e5226",
   "metadata": {
    "ExecuteTime": {
     "end_time": "2022-09-09T08:15:48.996305Z",
     "start_time": "2022-09-09T08:15:48.969392Z"
    }
   },
   "outputs": [],
   "source": [
    "#cf_matrix_df"
   ]
  },
  {
   "cell_type": "code",
   "execution_count": 27,
   "id": "5a2533eb",
   "metadata": {
    "ExecuteTime": {
     "end_time": "2022-09-09T08:15:49.011802Z",
     "start_time": "2022-09-09T08:15:48.996305Z"
    }
   },
   "outputs": [],
   "source": [
    "sum_cols = cf_matrix_df.sum(axis=0).rename('cols sum').to_frame().T\n",
    "sum_rows =cf_matrix_df.sum(axis=1).rename('rows sum').to_frame()\n",
    "cf_matrix_df_sums = pd.concat([cf_matrix_df, sum_cols]).join(sum_rows)"
   ]
  },
  {
   "cell_type": "code",
   "execution_count": 28,
   "id": "f7914d84",
   "metadata": {
    "ExecuteTime": {
     "end_time": "2022-09-09T08:15:49.031227Z",
     "start_time": "2022-09-09T08:15:49.015500Z"
    }
   },
   "outputs": [
    {
     "data": {
      "text/html": [
       "<div>\n",
       "<style scoped>\n",
       "    .dataframe tbody tr th:only-of-type {\n",
       "        vertical-align: middle;\n",
       "    }\n",
       "\n",
       "    .dataframe tbody tr th {\n",
       "        vertical-align: top;\n",
       "    }\n",
       "\n",
       "    .dataframe thead th {\n",
       "        text-align: right;\n",
       "    }\n",
       "</style>\n",
       "<table border=\"1\" class=\"dataframe\">\n",
       "  <thead>\n",
       "    <tr style=\"text-align: right;\">\n",
       "      <th></th>\n",
       "      <th>question</th>\n",
       "      <th>answer</th>\n",
       "      <th>header</th>\n",
       "      <th>other</th>\n",
       "      <th>rows sum</th>\n",
       "    </tr>\n",
       "  </thead>\n",
       "  <tbody>\n",
       "    <tr>\n",
       "      <th>question</th>\n",
       "      <td>867</td>\n",
       "      <td>156</td>\n",
       "      <td>13</td>\n",
       "      <td>41</td>\n",
       "      <td>1077.0</td>\n",
       "    </tr>\n",
       "    <tr>\n",
       "      <th>answer</th>\n",
       "      <td>194</td>\n",
       "      <td>587</td>\n",
       "      <td>8</td>\n",
       "      <td>32</td>\n",
       "      <td>821.0</td>\n",
       "    </tr>\n",
       "    <tr>\n",
       "      <th>header</th>\n",
       "      <td>61</td>\n",
       "      <td>26</td>\n",
       "      <td>28</td>\n",
       "      <td>7</td>\n",
       "      <td>122.0</td>\n",
       "    </tr>\n",
       "    <tr>\n",
       "      <th>other</th>\n",
       "      <td>42</td>\n",
       "      <td>119</td>\n",
       "      <td>11</td>\n",
       "      <td>140</td>\n",
       "      <td>312.0</td>\n",
       "    </tr>\n",
       "    <tr>\n",
       "      <th>cols sum</th>\n",
       "      <td>1164</td>\n",
       "      <td>888</td>\n",
       "      <td>60</td>\n",
       "      <td>220</td>\n",
       "      <td>NaN</td>\n",
       "    </tr>\n",
       "  </tbody>\n",
       "</table>\n",
       "</div>"
      ],
      "text/plain": [
       "          question  answer  header  other  rows sum\n",
       "question       867     156      13     41    1077.0\n",
       "answer         194     587       8     32     821.0\n",
       "header          61      26      28      7     122.0\n",
       "other           42     119      11    140     312.0\n",
       "cols sum      1164     888      60    220       NaN"
      ]
     },
     "execution_count": 28,
     "metadata": {},
     "output_type": "execute_result"
    }
   ],
   "source": [
    "cf_matrix_df_sums"
   ]
  },
  {
   "cell_type": "markdown",
   "id": "d3e06ef5",
   "metadata": {},
   "source": [
    "[Confusion matrix](https://scikit-learn.org/stable/auto_examples/model_selection/plot_confusion_matrix.html)"
   ]
  },
  {
   "cell_type": "code",
   "execution_count": 29,
   "id": "1761077a",
   "metadata": {
    "ExecuteTime": {
     "end_time": "2022-09-09T08:15:49.196567Z",
     "start_time": "2022-09-09T08:15:49.032181Z"
    }
   },
   "outputs": [
    {
     "data": {
      "image/png": "[encoded data removed]",
      "text/plain": [
       "<Figure size 432x432 with 2 Axes>"
      ]
     },
     "metadata": {
      "needs_background": "light"
     },
     "output_type": "display_data"
    }
   ],
   "source": [
    "plt.figure(figsize=(6,6))\n",
    "sns.heatmap(data=cf_matrix_df, annot=True, fmt=\"d\",cmap='coolwarm', linewidths=5)\n",
    "plt.ylabel('True label', **{'size':'14'})\n",
    "plt.xlabel('Predicted label', **{'size':'14'})\n",
    "plt.show()"
   ]
  },
  {
   "cell_type": "code",
   "execution_count": 30,
   "id": "5a67ebf8",
   "metadata": {
    "ExecuteTime": {
     "end_time": "2022-09-09T08:15:49.212635Z",
     "start_time": "2022-09-09T08:15:49.196907Z"
    }
   },
   "outputs": [
    {
     "data": {
      "text/plain": [
       "0.7362110076062627"
      ]
     },
     "execution_count": 30,
     "metadata": {},
     "output_type": "execute_result"
    }
   ],
   "source": [
    "f1_score(y_test, y_pred_test, labels=['question', 'answer'], average='weighted')"
   ]
  },
  {
   "cell_type": "code",
   "execution_count": 31,
   "id": "c6246054",
   "metadata": {
    "ExecuteTime": {
     "end_time": "2022-09-09T08:15:49.281091Z",
     "start_time": "2022-09-09T08:15:49.212635Z"
    }
   },
   "outputs": [
    {
     "name": "stdout",
     "output_type": "stream",
     "text": [
      "              precision    recall  f1-score   support\n",
      "\n",
      "    question       0.74      0.81      0.77      1077\n",
      "      answer       0.66      0.71      0.69       821\n",
      "      header       0.47      0.23      0.31       122\n",
      "       other       0.64      0.45      0.53       312\n",
      "\n",
      "    accuracy                           0.70      2332\n",
      "   macro avg       0.63      0.55      0.57      2332\n",
      "weighted avg       0.69      0.70      0.69      2332\n",
      "\n"
     ]
    }
   ],
   "source": [
    "print(classification_report(y_test, y_pred_test, labels=label_order))"
   ]
  },
  {
   "cell_type": "code",
   "execution_count": null,
   "id": "277ee405",
   "metadata": {},
   "outputs": [],
   "source": []
  },
  {
   "cell_type": "code",
   "execution_count": null,
   "id": "adcaa0b8",
   "metadata": {},
   "outputs": [],
   "source": []
  },
  {
   "cell_type": "code",
   "execution_count": null,
   "id": "a4462278",
   "metadata": {},
   "outputs": [],
   "source": []
  },
  {
   "cell_type": "code",
   "execution_count": null,
   "id": "63de7f79",
   "metadata": {},
   "outputs": [],
   "source": []
  },
  {
   "cell_type": "code",
   "execution_count": null,
   "id": "03c998d3",
   "metadata": {},
   "outputs": [],
   "source": []
  },
  {
   "cell_type": "code",
   "execution_count": null,
   "id": "07104cbc",
   "metadata": {},
   "outputs": [],
   "source": []
  }
 ],
 "metadata": {
  "kernelspec": {
   "display_name": "Python 3 (ipykernel)",
   "language": "python",
   "name": "python3"
  },
  "language_info": {
   "codemirror_mode": {
    "name": "ipython",
    "version": 3
   },
   "file_extension": ".py",
   "mimetype": "text/x-python",
   "name": "python",
   "nbconvert_exporter": "python",
   "pygments_lexer": "ipython3",
   "version": "3.9.12"
  },
  "toc": {
   "base_numbering": 1,
   "nav_menu": {},
   "number_sections": true,
   "sideBar": true,
   "skip_h1_title": false,
   "title_cell": "Table of Contents",
   "title_sidebar": "Contents",
   "toc_cell": false,
   "toc_position": {},
   "toc_section_display": true,
   "toc_window_display": false
  }
 },
 "nbformat": 4,
 "nbformat_minor": 5
}
