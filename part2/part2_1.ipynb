{
 "cells": [
  {
   "cell_type": "code",
   "execution_count": 1,
   "id": "b1b274cf",
   "metadata": {
    "ExecuteTime": {
     "end_time": "2022-09-06T15:16:48.501164Z",
     "start_time": "2022-09-06T15:16:48.029367Z"
    }
   },
   "outputs": [],
   "source": [
    "import csv\n",
    "import os\n",
    "\n",
    "import pandas as pd\n",
    "\n",
    "from utils_part2 import csv_remove_duplicates"
   ]
  },
  {
   "cell_type": "code",
   "execution_count": 2,
   "id": "77c10310",
   "metadata": {
    "ExecuteTime": {
     "end_time": "2022-09-06T15:16:48.518577Z",
     "start_time": "2022-09-06T15:16:48.502678Z"
    }
   },
   "outputs": [],
   "source": [
    "input_file_path = os.path.join('..', 'algorithms part dataset', 'smpl.csv')"
   ]
  },
  {
   "cell_type": "code",
   "execution_count": 3,
   "id": "a05a6341",
   "metadata": {
    "ExecuteTime": {
     "end_time": "2022-09-06T15:16:48.535383Z",
     "start_time": "2022-09-06T15:16:48.519616Z"
    }
   },
   "outputs": [],
   "source": [
    "input_file_path = os.path.join('..', 'algorithms part dataset', 'smpl2.csv')"
   ]
  },
  {
   "cell_type": "code",
   "execution_count": 11,
   "id": "f82b8a95",
   "metadata": {
    "ExecuteTime": {
     "end_time": "2022-09-06T15:29:51.697563Z",
     "start_time": "2022-09-06T15:29:51.681848Z"
    }
   },
   "outputs": [],
   "source": [
    "input_file_path = os.path.join('.', 'smpl.csv')"
   ]
  },
  {
   "cell_type": "code",
   "execution_count": 10,
   "id": "319b6db2",
   "metadata": {
    "ExecuteTime": {
     "end_time": "2022-09-06T15:29:42.027230Z",
     "start_time": "2022-09-06T15:29:42.016145Z"
    }
   },
   "outputs": [],
   "source": [
    "\n",
    "        \n",
    "        "
   ]
  },
  {
   "cell_type": "code",
   "execution_count": 12,
   "id": "613f48c3",
   "metadata": {
    "ExecuteTime": {
     "end_time": "2022-09-06T15:29:56.068337Z",
     "start_time": "2022-09-06T15:29:56.058784Z"
    }
   },
   "outputs": [],
   "source": [
    "clean_csv(input_file_path)"
   ]
  },
  {
   "cell_type": "code",
   "execution_count": null,
   "id": "0f12ddcf",
   "metadata": {},
   "outputs": [],
   "source": []
  },
  {
   "cell_type": "code",
   "execution_count": null,
   "id": "0596a2f4",
   "metadata": {},
   "outputs": [],
   "source": []
  },
  {
   "cell_type": "code",
   "execution_count": 5,
   "id": "601f7468",
   "metadata": {
    "ExecuteTime": {
     "end_time": "2022-09-06T15:16:48.566507Z",
     "start_time": "2022-09-06T15:16:48.550976Z"
    }
   },
   "outputs": [],
   "source": [
    "def csv_remove_duplicates(input_file_path=None, drop_header=False,\n",
    "                          cols_to_drop=[4], chars_to_remove = ['\"', ';']):\n",
    "    \n",
    "    with open(input_file_path, newline='') as csvfile:\n",
    "        \n",
    "        reader = csv.reader(csvfile, quotechar='\"', delimiter=',', quoting=csv.QUOTE_NONE)\n",
    "        \n",
    "        # Initializations\n",
    "        current_row_idx = -1\n",
    "        final_list_of_rows = []\n",
    "        dups_cnt = 0\n",
    "        dups_idx_list = []\n",
    "        \n",
    "        \n",
    "        if drop_header:\n",
    "            next(reader)\n",
    "            current_row_idx += 1       \n",
    "        \n",
    "            \n",
    "        for row in reader:\n",
    "            current_row_idx += 1\n",
    "            #remove unwanted chars\n",
    "            row_cln = row.copy()\n",
    "            for char in chars_to_remove:\n",
    "                row_cln = list(map(lambda x: x.replace(char,''), row_cln))\n",
    "            \n",
    "            final_row = []\n",
    "            for idx in range(len(row_cln)):\n",
    "                if idx not in cols_to_drop:\n",
    "                    final_row.append(row_cln[idx])\n",
    "                    \n",
    "            # Ignore empty rows\n",
    "            if len(final_row) == 0:\n",
    "                continue\n",
    "            \n",
    "            if final_row in final_list_of_rows:\n",
    "                dups_cnt +=1\n",
    "                dups_idx_list.append(current_row_idx)\n",
    "            else:\n",
    "                final_list_of_rows.append(final_row)\n",
    "            \n",
    "            print(current_row_idx)\n",
    "            #print(row)\n",
    "            #print(row_cln)\n",
    "            print(final_row)\n",
    "        \n",
    "    output_file_path = input_file_path.replace('.csv','_output.csv')\n",
    "    with open(output_file_path, 'w', newline='') as csvfile:\n",
    "        writer = csv.writer(csvfile, delimiter=',', quotechar='\"', quoting=csv.QUOTE_MINIMAL) # \n",
    "        \n",
    "        for row in final_list_of_rows:\n",
    "            writer.writerow(row)        \n",
    "    \n",
    "    return current_row_idx, dups_cnt, dups_idx_list"
   ]
  },
  {
   "cell_type": "code",
   "execution_count": 6,
   "id": "623638c5",
   "metadata": {
    "ExecuteTime": {
     "end_time": "2022-09-06T15:16:48.596981Z",
     "start_time": "2022-09-06T15:16:48.566507Z"
    }
   },
   "outputs": [
    {
     "name": "stdout",
     "output_type": "stream",
     "text": [
      "0\n",
      "['ID', 'GAME_NAME', 'BEHAVIOUR', 'PLAY_PURCHASE']\n",
      "1\n",
      "['151603712', 'The Elder Scrolls V Skyrim', 'purchase', '1.0']\n",
      "2\n",
      "['151603712', 'The Elder Scrolls V Skyrim', 'play', '273.0']\n",
      "3\n",
      "['151603712', 'Fallout 4', 'purchase', '1.0']\n",
      "4\n",
      "['151603712', 'Fallout 4', 'purchase', '1.0']\n",
      "5\n",
      "['151603712', 'Fallout 4', 'play', '87.0']\n",
      "6\n",
      "['151603712', 'Spore', 'purchase', '1.0']\n",
      "7\n",
      "['151603712', 'Spore', 'play', '14.9']\n",
      "8\n",
      "['151603712', 'Spore', 'play', '14.9']\n",
      "9\n",
      "['151603712', 'Fallout New Vegas', 'purchase', '1.0']\n"
     ]
    },
    {
     "data": {
      "text/plain": [
       "(11, 2, [4, 8])"
      ]
     },
     "execution_count": 6,
     "metadata": {},
     "output_type": "execute_result"
    }
   ],
   "source": [
    "csv_remove_duplicates(input_file_path)"
   ]
  },
  {
   "cell_type": "code",
   "execution_count": null,
   "id": "393d96dc",
   "metadata": {},
   "outputs": [],
   "source": []
  },
  {
   "cell_type": "code",
   "execution_count": null,
   "id": "b152c32e",
   "metadata": {},
   "outputs": [],
   "source": []
  },
  {
   "cell_type": "code",
   "execution_count": null,
   "id": "6fff37b1",
   "metadata": {},
   "outputs": [],
   "source": []
  },
  {
   "cell_type": "code",
   "execution_count": 7,
   "id": "c633fa21",
   "metadata": {
    "ExecuteTime": {
     "end_time": "2022-09-06T15:16:48.626665Z",
     "start_time": "2022-09-06T15:16:48.596981Z"
    }
   },
   "outputs": [
    {
     "data": {
      "text/html": [
       "<div>\n",
       "<style scoped>\n",
       "    .dataframe tbody tr th:only-of-type {\n",
       "        vertical-align: middle;\n",
       "    }\n",
       "\n",
       "    .dataframe tbody tr th {\n",
       "        vertical-align: top;\n",
       "    }\n",
       "\n",
       "    .dataframe thead th {\n",
       "        text-align: right;\n",
       "    }\n",
       "</style>\n",
       "<table border=\"1\" class=\"dataframe\">\n",
       "  <thead>\n",
       "    <tr style=\"text-align: right;\">\n",
       "      <th></th>\n",
       "      <th>ID</th>\n",
       "      <th>GAME_NAME</th>\n",
       "      <th>BEHAVIOUR</th>\n",
       "      <th>PLAY_PURCHASE</th>\n",
       "      <th>NONE;</th>\n",
       "    </tr>\n",
       "  </thead>\n",
       "  <tbody>\n",
       "    <tr>\n",
       "      <th>0</th>\n",
       "      <td>151603712,\"The Elder Scrolls V Skyrim\",purchas...</td>\n",
       "      <td>NaN</td>\n",
       "      <td>NaN</td>\n",
       "      <td>NaN</td>\n",
       "      <td>NaN</td>\n",
       "    </tr>\n",
       "    <tr>\n",
       "      <th>1</th>\n",
       "      <td>151603712,\"The Elder Scrolls V Skyrim\",play,27...</td>\n",
       "      <td>NaN</td>\n",
       "      <td>NaN</td>\n",
       "      <td>NaN</td>\n",
       "      <td>NaN</td>\n",
       "    </tr>\n",
       "    <tr>\n",
       "      <th>2</th>\n",
       "      <td>151603712,\"Fallout 4\",purchase,1.0,0;</td>\n",
       "      <td>NaN</td>\n",
       "      <td>NaN</td>\n",
       "      <td>NaN</td>\n",
       "      <td>NaN</td>\n",
       "    </tr>\n",
       "    <tr>\n",
       "      <th>3</th>\n",
       "      <td>151603712,\"Fallout 4\",purchase,1.0,5;</td>\n",
       "      <td>NaN</td>\n",
       "      <td>NaN</td>\n",
       "      <td>NaN</td>\n",
       "      <td>NaN</td>\n",
       "    </tr>\n",
       "    <tr>\n",
       "      <th>4</th>\n",
       "      <td>151603712,\"Fallout 4\",play,87.0,0;</td>\n",
       "      <td>NaN</td>\n",
       "      <td>NaN</td>\n",
       "      <td>NaN</td>\n",
       "      <td>NaN</td>\n",
       "    </tr>\n",
       "    <tr>\n",
       "      <th>5</th>\n",
       "      <td>151603712,\"Spore\",purchase,1.0,0;</td>\n",
       "      <td>NaN</td>\n",
       "      <td>NaN</td>\n",
       "      <td>NaN</td>\n",
       "      <td>NaN</td>\n",
       "    </tr>\n",
       "    <tr>\n",
       "      <th>6</th>\n",
       "      <td>151603712,\"Spore\",play,14.9,0;</td>\n",
       "      <td>NaN</td>\n",
       "      <td>NaN</td>\n",
       "      <td>NaN</td>\n",
       "      <td>NaN</td>\n",
       "    </tr>\n",
       "    <tr>\n",
       "      <th>7</th>\n",
       "      <td>151603712,\"Spore\",play,14.9,2;</td>\n",
       "      <td>NaN</td>\n",
       "      <td>NaN</td>\n",
       "      <td>NaN</td>\n",
       "      <td>NaN</td>\n",
       "    </tr>\n",
       "    <tr>\n",
       "      <th>8</th>\n",
       "      <td>151603712,\"Fallout New Vegas\",purchase,1.0,0;</td>\n",
       "      <td>NaN</td>\n",
       "      <td>NaN</td>\n",
       "      <td>NaN</td>\n",
       "      <td>NaN</td>\n",
       "    </tr>\n",
       "  </tbody>\n",
       "</table>\n",
       "</div>"
      ],
      "text/plain": [
       "                                                  ID  GAME_NAME  BEHAVIOUR  \\\n",
       "0  151603712,\"The Elder Scrolls V Skyrim\",purchas...        NaN        NaN   \n",
       "1  151603712,\"The Elder Scrolls V Skyrim\",play,27...        NaN        NaN   \n",
       "2              151603712,\"Fallout 4\",purchase,1.0,0;        NaN        NaN   \n",
       "3              151603712,\"Fallout 4\",purchase,1.0,5;        NaN        NaN   \n",
       "4                 151603712,\"Fallout 4\",play,87.0,0;        NaN        NaN   \n",
       "5                  151603712,\"Spore\",purchase,1.0,0;        NaN        NaN   \n",
       "6                     151603712,\"Spore\",play,14.9,0;        NaN        NaN   \n",
       "7                     151603712,\"Spore\",play,14.9,2;        NaN        NaN   \n",
       "8      151603712,\"Fallout New Vegas\",purchase,1.0,0;        NaN        NaN   \n",
       "\n",
       "   PLAY_PURCHASE  NONE;  \n",
       "0            NaN    NaN  \n",
       "1            NaN    NaN  \n",
       "2            NaN    NaN  \n",
       "3            NaN    NaN  \n",
       "4            NaN    NaN  \n",
       "5            NaN    NaN  \n",
       "6            NaN    NaN  \n",
       "7            NaN    NaN  \n",
       "8            NaN    NaN  "
      ]
     },
     "execution_count": 7,
     "metadata": {},
     "output_type": "execute_result"
    }
   ],
   "source": [
    "pd.read_csv(input_file_path)"
   ]
  },
  {
   "cell_type": "code",
   "execution_count": 8,
   "id": "108f72e5",
   "metadata": {
    "ExecuteTime": {
     "end_time": "2022-09-06T15:16:48.642746Z",
     "start_time": "2022-09-06T15:16:48.626665Z"
    }
   },
   "outputs": [
    {
     "data": {
      "text/html": [
       "<div>\n",
       "<style scoped>\n",
       "    .dataframe tbody tr th:only-of-type {\n",
       "        vertical-align: middle;\n",
       "    }\n",
       "\n",
       "    .dataframe tbody tr th {\n",
       "        vertical-align: top;\n",
       "    }\n",
       "\n",
       "    .dataframe thead th {\n",
       "        text-align: right;\n",
       "    }\n",
       "</style>\n",
       "<table border=\"1\" class=\"dataframe\">\n",
       "  <thead>\n",
       "    <tr style=\"text-align: right;\">\n",
       "      <th></th>\n",
       "      <th>ID</th>\n",
       "      <th>GAME_NAME</th>\n",
       "      <th>BEHAVIOUR</th>\n",
       "      <th>PLAY_PURCHASE</th>\n",
       "      <th>NONE;</th>\n",
       "    </tr>\n",
       "  </thead>\n",
       "  <tbody>\n",
       "    <tr>\n",
       "      <th>0</th>\n",
       "      <td>\"151603712</td>\n",
       "      <td>\"\"The Elder Scrolls V Skyrim\"\"</td>\n",
       "      <td>purchase</td>\n",
       "      <td>1.0</td>\n",
       "      <td>0\";</td>\n",
       "    </tr>\n",
       "    <tr>\n",
       "      <th>1</th>\n",
       "      <td>\"151603712</td>\n",
       "      <td>\"\"The Elder Scrolls V Skyrim\"\"</td>\n",
       "      <td>play</td>\n",
       "      <td>273.0</td>\n",
       "      <td>0\";</td>\n",
       "    </tr>\n",
       "    <tr>\n",
       "      <th>2</th>\n",
       "      <td>\"151603712</td>\n",
       "      <td>\"\"Fallout 4\"\"</td>\n",
       "      <td>purchase</td>\n",
       "      <td>1.0</td>\n",
       "      <td>0\";</td>\n",
       "    </tr>\n",
       "    <tr>\n",
       "      <th>3</th>\n",
       "      <td>\"151603712</td>\n",
       "      <td>\"\"Fallout 4\"\"</td>\n",
       "      <td>purchase</td>\n",
       "      <td>1.0</td>\n",
       "      <td>5\";</td>\n",
       "    </tr>\n",
       "    <tr>\n",
       "      <th>4</th>\n",
       "      <td>\"151603712</td>\n",
       "      <td>\"\"Fallout 4\"\"</td>\n",
       "      <td>play</td>\n",
       "      <td>87.0</td>\n",
       "      <td>0\";</td>\n",
       "    </tr>\n",
       "    <tr>\n",
       "      <th>5</th>\n",
       "      <td>\"151603712</td>\n",
       "      <td>\"\"Spore\"\"</td>\n",
       "      <td>purchase</td>\n",
       "      <td>1.0</td>\n",
       "      <td>0\";</td>\n",
       "    </tr>\n",
       "    <tr>\n",
       "      <th>6</th>\n",
       "      <td>\"151603712</td>\n",
       "      <td>\"\"Spore\"\"</td>\n",
       "      <td>play</td>\n",
       "      <td>14.9</td>\n",
       "      <td>0\";</td>\n",
       "    </tr>\n",
       "    <tr>\n",
       "      <th>7</th>\n",
       "      <td>\"151603712</td>\n",
       "      <td>\"\"Spore\"\"</td>\n",
       "      <td>play</td>\n",
       "      <td>14.9</td>\n",
       "      <td>2\";</td>\n",
       "    </tr>\n",
       "    <tr>\n",
       "      <th>8</th>\n",
       "      <td>\"151603712</td>\n",
       "      <td>\"\"Fallout New Vegas\"\"</td>\n",
       "      <td>purchase</td>\n",
       "      <td>1.0</td>\n",
       "      <td>0\";</td>\n",
       "    </tr>\n",
       "  </tbody>\n",
       "</table>\n",
       "</div>"
      ],
      "text/plain": [
       "           ID                       GAME_NAME BEHAVIOUR  PLAY_PURCHASE NONE;\n",
       "0  \"151603712  \"\"The Elder Scrolls V Skyrim\"\"  purchase            1.0   0\";\n",
       "1  \"151603712  \"\"The Elder Scrolls V Skyrim\"\"      play          273.0   0\";\n",
       "2  \"151603712                   \"\"Fallout 4\"\"  purchase            1.0   0\";\n",
       "3  \"151603712                   \"\"Fallout 4\"\"  purchase            1.0   5\";\n",
       "4  \"151603712                   \"\"Fallout 4\"\"      play           87.0   0\";\n",
       "5  \"151603712                       \"\"Spore\"\"  purchase            1.0   0\";\n",
       "6  \"151603712                       \"\"Spore\"\"      play           14.9   0\";\n",
       "7  \"151603712                       \"\"Spore\"\"      play           14.9   2\";\n",
       "8  \"151603712           \"\"Fallout New Vegas\"\"  purchase            1.0   0\";"
      ]
     },
     "execution_count": 8,
     "metadata": {},
     "output_type": "execute_result"
    }
   ],
   "source": [
    "pd.read_csv(input_file_path, quoting=csv.QUOTE_NONE)"
   ]
  },
  {
   "cell_type": "code",
   "execution_count": 9,
   "id": "42554947",
   "metadata": {
    "ExecuteTime": {
     "end_time": "2022-09-06T15:16:48.658546Z",
     "start_time": "2022-09-06T15:16:48.642746Z"
    }
   },
   "outputs": [],
   "source": [
    "def unique(items):\n",
    "  seen = set()\n",
    "  for i in xrange(len(items)-1, -1, -1):\n",
    "    it = items[i]\n",
    "    if it in seen:\n",
    "      del items[i]\n",
    "    else:\n",
    "      seen.add(it)"
   ]
  },
  {
   "cell_type": "code",
   "execution_count": null,
   "id": "35f733e1",
   "metadata": {},
   "outputs": [],
   "source": []
  },
  {
   "cell_type": "code",
   "execution_count": null,
   "id": "4e54ca65",
   "metadata": {},
   "outputs": [],
   "source": []
  },
  {
   "cell_type": "code",
   "execution_count": null,
   "id": "493bd00a",
   "metadata": {},
   "outputs": [],
   "source": []
  }
 ],
 "metadata": {
  "kernelspec": {
   "display_name": "Python 3 (ipykernel)",
   "language": "python",
   "name": "python3"
  },
  "language_info": {
   "codemirror_mode": {
    "name": "ipython",
    "version": 3
   },
   "file_extension": ".py",
   "mimetype": "text/x-python",
   "name": "python",
   "nbconvert_exporter": "python",
   "pygments_lexer": "ipython3",
   "version": "3.9.12"
  },
  "toc": {
   "base_numbering": 1,
   "nav_menu": {},
   "number_sections": true,
   "sideBar": true,
   "skip_h1_title": false,
   "title_cell": "Table of Contents",
   "title_sidebar": "Contents",
   "toc_cell": false,
   "toc_position": {},
   "toc_section_display": true,
   "toc_window_display": false
  }
 },
 "nbformat": 4,
 "nbformat_minor": 5
}
