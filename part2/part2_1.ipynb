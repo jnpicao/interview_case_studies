{
 "cells": [
  {
   "cell_type": "code",
   "execution_count": 1,
   "id": "b1b274cf",
   "metadata": {
    "ExecuteTime": {
     "end_time": "2022-09-08T15:37:32.596913Z",
     "start_time": "2022-09-08T15:37:32.140495Z"
    }
   },
   "outputs": [],
   "source": [
    "import csv\n",
    "import os\n",
    "\n",
    "import pandas as pd\n",
    "\n",
    "from utils_part2 import clean_csv, csv_remove_duplicates"
   ]
  },
  {
   "cell_type": "markdown",
   "id": "ccc797fa",
   "metadata": {},
   "source": [
    "## Configurations"
   ]
  },
  {
   "cell_type": "code",
   "execution_count": 2,
   "id": "f1fdcf30",
   "metadata": {
    "ExecuteTime": {
     "end_time": "2022-09-08T15:37:32.612600Z",
     "start_time": "2022-09-08T15:37:32.596913Z"
    }
   },
   "outputs": [],
   "source": [
    "# input_file_path = os.path.join('.','input_data','algorithms part dataset.csv')\n",
    "input_file_path = os.path.join('.','input_data','algorithms part dataset smpl 50k.csv')\n",
    "# input_file_path = os.path.join('.','input_data','algorithms part dataset smpl 1k.csv')\n",
    "# input_file_path = os.path.join('..', 'input_data', 'smpl.csv')\n",
    "# input_file_path = os.path.join('input_data', 'smpl_read.csv')\n",
    "\n",
    "clean_file = True"
   ]
  },
  {
   "cell_type": "code",
   "execution_count": 3,
   "id": "f891e3e2",
   "metadata": {
    "ExecuteTime": {
     "end_time": "2022-09-08T15:37:33.169200Z",
     "start_time": "2022-09-08T15:37:32.613605Z"
    }
   },
   "outputs": [],
   "source": [
    "if clean_file:\n",
    "    clean_csv(input_file_path)\n",
    "    input_file_path = input_file_path.replace('.csv', '_cln.csv')\n",
    "    \n",
    "try:\n",
    "    pd.read_csv(input_file_path)\n",
    "except ParserError:\n",
    "    print('Error parsing csv file')\n"
   ]
  },
  {
   "cell_type": "code",
   "execution_count": 4,
   "id": "a8ce0d8e",
   "metadata": {
    "ExecuteTime": {
     "end_time": "2022-09-08T15:37:33.184550Z",
     "start_time": "2022-09-08T15:37:33.169200Z"
    }
   },
   "outputs": [],
   "source": [
    "output_file_path = os.path.split(input_file_path)[-1].replace('.csv', '_output.csv')"
   ]
  },
  {
   "cell_type": "code",
   "execution_count": 5,
   "id": "8db94831",
   "metadata": {
    "ExecuteTime": {
     "end_time": "2022-09-08T15:37:33.209330Z",
     "start_time": "2022-09-08T15:37:33.186816Z"
    }
   },
   "outputs": [],
   "source": [
    "# pd.read_csv(input_file_path)"
   ]
  },
  {
   "cell_type": "markdown",
   "id": "2eb384cd",
   "metadata": {
    "ExecuteTime": {
     "end_time": "2022-09-08T12:52:57.733835Z",
     "start_time": "2022-09-08T12:52:57.718632Z"
    }
   },
   "source": [
    "# Algorithm"
   ]
  },
  {
   "cell_type": "markdown",
   "id": "1c61f79b",
   "metadata": {},
   "source": [
    "Current algorithm has complexity $O(N^2/2)$:\n",
    "- Processing time for 1k rows: 0.034s.\n",
    "- Processing time for 50k rows: 38s\n",
    "- Processing time for 100k rows: 165s\n",
    "- Processing time for 200k rows: 640s\n",
    "\n",
    "The bottleneck of the current implementation is searching each new value in the unique values list using a linear search method with complexity $O(n)$ for each search: `x in list` has time complexity O(n), has expected, but I have used this [source](https://wiki.python.org/moin/TimeComplexity).\n",
    "Evident improvement could be either:\n",
    "- to use an hash table to record the elements already present in the list;\n",
    "- order the unique values list (although this would have an impact on the output file);\n",
    "\n",
    "This improvements could reduce the worst case complexity of the search algorithm to $O(logN)$ and of the overall remove duplicates algorithm to $O(NlogN)$\n",
    "\n",
    "Memory consideration were not taken into account. If the data doesn't fit the memory the script will fail."
   ]
  },
  {
   "cell_type": "markdown",
   "id": "19f325ed",
   "metadata": {},
   "source": [
    "# Examples"
   ]
  },
  {
   "cell_type": "markdown",
   "id": "1f4950a8",
   "metadata": {},
   "source": [
    "Execute `csv_remove_duplicates()` function on `input_file_path` and save result on `output_file_path`. Then test the results."
   ]
  },
  {
   "cell_type": "code",
   "execution_count": 21,
   "id": "653ded26",
   "metadata": {
    "ExecuteTime": {
     "end_time": "2022-09-08T15:40:20.742177Z",
     "start_time": "2022-09-08T15:40:20.722096Z"
    }
   },
   "outputs": [
    {
     "data": {
      "text/plain": [
       "'.\\\\input_data\\\\algorithms part dataset smpl 50k_cln.csv'"
      ]
     },
     "execution_count": 21,
     "metadata": {},
     "output_type": "execute_result"
    }
   ],
   "source": [
    "input_file_path"
   ]
  },
  {
   "cell_type": "code",
   "execution_count": 22,
   "id": "31a134ba",
   "metadata": {
    "ExecuteTime": {
     "end_time": "2022-09-08T15:40:21.108304Z",
     "start_time": "2022-09-08T15:40:21.100240Z"
    }
   },
   "outputs": [
    {
     "data": {
      "text/plain": [
       "'algorithms part dataset smpl 50k_cln_output.csv'"
      ]
     },
     "execution_count": 22,
     "metadata": {},
     "output_type": "execute_result"
    }
   ],
   "source": [
    "output_file_path"
   ]
  },
  {
   "cell_type": "markdown",
   "id": "0c1c2904",
   "metadata": {},
   "source": [
    "## Run algorithm"
   ]
  },
  {
   "cell_type": "code",
   "execution_count": 7,
   "id": "a05a6341",
   "metadata": {
    "ExecuteTime": {
     "end_time": "2022-09-08T15:38:11.554086Z",
     "start_time": "2022-09-08T15:37:33.226802Z"
    }
   },
   "outputs": [],
   "source": [
    "n_rows, n_dups, dups_idx = csv_remove_duplicates(input_file_path,\n",
    "                                                 output_file_path)"
   ]
  },
  {
   "cell_type": "markdown",
   "id": "66e421ed",
   "metadata": {},
   "source": [
    "## Validate the results"
   ]
  },
  {
   "cell_type": "code",
   "execution_count": 8,
   "id": "bbb39429",
   "metadata": {
    "ExecuteTime": {
     "end_time": "2022-09-08T15:38:11.657556Z",
     "start_time": "2022-09-08T15:38:11.554086Z"
    }
   },
   "outputs": [],
   "source": [
    "df_actual = pd.read_csv(output_file_path)\n",
    "df_expected = pd.read_csv(input_file_path).drop_duplicates().reset_index(drop=True)"
   ]
  },
  {
   "cell_type": "markdown",
   "id": "caf4b1dd",
   "metadata": {},
   "source": [
    "Assert result dataframes are equal."
   ]
  },
  {
   "cell_type": "code",
   "execution_count": 9,
   "id": "a6c3d259",
   "metadata": {
    "ExecuteTime": {
     "end_time": "2022-09-08T15:38:12.036792Z",
     "start_time": "2022-09-08T15:38:11.657556Z"
    }
   },
   "outputs": [],
   "source": [
    "pd.testing.assert_frame_equal(df_actual, df_expected)"
   ]
  },
  {
   "cell_type": "markdown",
   "id": "abbda3af",
   "metadata": {},
   "source": [
    "Assert the number of duplicates found is equal."
   ]
  },
  {
   "cell_type": "code",
   "execution_count": 10,
   "id": "22e2d0f9",
   "metadata": {
    "ExecuteTime": {
     "end_time": "2022-09-08T15:38:12.091047Z",
     "start_time": "2022-09-08T15:38:12.036792Z"
    }
   },
   "outputs": [],
   "source": [
    "assert n_dups == pd.read_csv(input_file_path).duplicated().sum()"
   ]
  },
  {
   "cell_type": "markdown",
   "id": "ef5623c2",
   "metadata": {},
   "source": [
    "Assert duplicates indexes are equal."
   ]
  },
  {
   "cell_type": "code",
   "execution_count": 18,
   "id": "7bc98956",
   "metadata": {
    "ExecuteTime": {
     "end_time": "2022-09-08T15:38:40.993775Z",
     "start_time": "2022-09-08T15:38:40.915833Z"
    }
   },
   "outputs": [],
   "source": [
    "assert dups_idx == pd.read_csv(input_file_path).duplicated().loc[lambda x: x].index.to_list()"
   ]
  },
  {
   "cell_type": "code",
   "execution_count": null,
   "id": "a431e95c",
   "metadata": {},
   "outputs": [],
   "source": []
  },
  {
   "cell_type": "code",
   "execution_count": null,
   "id": "5bd1687a",
   "metadata": {},
   "outputs": [],
   "source": []
  }
 ],
 "metadata": {
  "kernelspec": {
   "display_name": "Python 3 (ipykernel)",
   "language": "python",
   "name": "python3"
  },
  "language_info": {
   "codemirror_mode": {
    "name": "ipython",
    "version": 3
   },
   "file_extension": ".py",
   "mimetype": "text/x-python",
   "name": "python",
   "nbconvert_exporter": "python",
   "pygments_lexer": "ipython3",
   "version": "3.9.12"
  },
  "toc": {
   "base_numbering": 1,
   "nav_menu": {},
   "number_sections": true,
   "sideBar": true,
   "skip_h1_title": false,
   "title_cell": "Table of Contents",
   "title_sidebar": "Contents",
   "toc_cell": false,
   "toc_position": {},
   "toc_section_display": true,
   "toc_window_display": false
  }
 },
 "nbformat": 4,
 "nbformat_minor": 5
}
