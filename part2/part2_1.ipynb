{
 "cells": [
  {
   "cell_type": "code",
   "execution_count": 1,
   "id": "b1b274cf",
   "metadata": {
    "ExecuteTime": {
     "end_time": "2022-09-08T16:03:31.673854Z",
     "start_time": "2022-09-08T16:03:31.225682Z"
    }
   },
   "outputs": [],
   "source": [
    "import csv\n",
    "import os\n",
    "\n",
    "import pandas as pd\n",
    "\n",
    "from utils_part2 import clean_csv, csv_remove_duplicates"
   ]
  },
  {
   "cell_type": "markdown",
   "id": "ccc797fa",
   "metadata": {},
   "source": [
    "## Configurations"
   ]
  },
  {
   "cell_type": "code",
   "execution_count": 2,
   "id": "f1fdcf30",
   "metadata": {
    "ExecuteTime": {
     "end_time": "2022-09-08T16:03:31.689631Z",
     "start_time": "2022-09-08T16:03:31.673854Z"
    }
   },
   "outputs": [],
   "source": [
    "input_file_path = os.path.join('.','input_data','algorithms part dataset.csv')\n",
    "# input_file_path = os.path.join('.','input_data','algorithms part dataset smpl 50k.csv')\n",
    "# input_file_path = os.path.join('.','input_data','algorithms part dataset smpl 1k.csv')\n",
    "# input_file_path = os.path.join('..', 'input_data', 'smpl.csv')\n",
    "# input_file_path = os.path.join('input_data', 'smpl_read.csv')\n",
    "\n",
    "clean_file = True"
   ]
  },
  {
   "cell_type": "code",
   "execution_count": 3,
   "id": "153b07ae",
   "metadata": {
    "ExecuteTime": {
     "end_time": "2022-09-08T16:03:33.682118Z",
     "start_time": "2022-09-08T16:03:31.689631Z"
    }
   },
   "outputs": [],
   "source": [
    "if clean_file:\n",
    "    clean_csv(input_file_path)\n",
    "    input_file_path = input_file_path.replace('.csv', '_cln.csv')\n",
    "    \n",
    "try:\n",
    "    pd.read_csv(input_file_path)\n",
    "except ParserError:\n",
    "    print('Error parsing csv file')\n"
   ]
  },
  {
   "cell_type": "code",
   "execution_count": 4,
   "id": "6390774f",
   "metadata": {
    "ExecuteTime": {
     "end_time": "2022-09-08T16:03:33.697242Z",
     "start_time": "2022-09-08T16:03:33.684148Z"
    }
   },
   "outputs": [],
   "source": [
    "output_file_path = os.path.split(input_file_path)[-1].replace('.csv', '_output.csv')"
   ]
  },
  {
   "cell_type": "code",
   "execution_count": 5,
   "id": "fccb6fa2",
   "metadata": {
    "ExecuteTime": {
     "end_time": "2022-09-08T16:03:33.734560Z",
     "start_time": "2022-09-08T16:03:33.699299Z"
    }
   },
   "outputs": [],
   "source": [
    "# pd.read_csv(input_file_path)"
   ]
  },
  {
   "cell_type": "markdown",
   "id": "966c89ce",
   "metadata": {
    "ExecuteTime": {
     "end_time": "2022-09-08T12:52:57.733835Z",
     "start_time": "2022-09-08T12:52:57.718632Z"
    }
   },
   "source": [
    "# Algorithm"
   ]
  },
  {
   "cell_type": "markdown",
   "id": "c1a91f25",
   "metadata": {},
   "source": [
    "Current algorithm has complexity $O(N^2/2)$:\n",
    "- Processing time for 1k rows: 0.034s.\n",
    "- Processing time for 50k rows: 38s\n",
    "- Processing time for 100k rows: 165s\n",
    "- Processing time for 200k rows: 640s\n",
    "\n",
    "The bottleneck of the current implementation is searching each new value in the unique values list using a linear search method with complexity $O(n)$ for each search: `x in list` has time complexity O(n), has expected, but I have used this [source](https://wiki.python.org/moin/TimeComplexity).\n",
    "Evident improvement could be either:\n",
    "- to use an hash table to record the elements already present in the list;\n",
    "- order the unique values list (although this would have an impact on the output file);\n",
    "\n",
    "This improvements could reduce the worst case complexity of the search algorithm to $O(logN)$ and of the overall remove duplicates algorithm to $O(NlogN)$\n",
    "\n",
    "Memory consideration were not taken into account. If the data doesn't fit the memory the script will fail."
   ]
  },
  {
   "cell_type": "markdown",
   "id": "75fce75b",
   "metadata": {},
   "source": [
    "# Examples"
   ]
  },
  {
   "cell_type": "markdown",
   "id": "acdc81d0",
   "metadata": {},
   "source": [
    "Execute `csv_remove_duplicates()` function on `input_file_path` and save result on `output_file_path`. Then test the results."
   ]
  },
  {
   "cell_type": "code",
   "execution_count": 6,
   "id": "38cd04a4",
   "metadata": {
    "ExecuteTime": {
     "end_time": "2022-09-08T16:03:33.750253Z",
     "start_time": "2022-09-08T16:03:33.734560Z"
    }
   },
   "outputs": [
    {
     "data": {
      "text/plain": [
       "'.\\\\input_data\\\\algorithms part dataset_cln.csv'"
      ]
     },
     "execution_count": 6,
     "metadata": {},
     "output_type": "execute_result"
    }
   ],
   "source": [
    "input_file_path"
   ]
  },
  {
   "cell_type": "code",
   "execution_count": 7,
   "id": "a9217232",
   "metadata": {
    "ExecuteTime": {
     "end_time": "2022-09-08T16:03:33.766101Z",
     "start_time": "2022-09-08T16:03:33.750253Z"
    }
   },
   "outputs": [
    {
     "data": {
      "text/plain": [
       "'algorithms part dataset_cln_output.csv'"
      ]
     },
     "execution_count": 7,
     "metadata": {},
     "output_type": "execute_result"
    }
   ],
   "source": [
    "output_file_path"
   ]
  },
  {
   "cell_type": "markdown",
   "id": "b8ad4c36",
   "metadata": {},
   "source": [
    "## Run algorithm"
   ]
  },
  {
   "cell_type": "code",
   "execution_count": 8,
   "id": "a05a6341",
   "metadata": {
    "ExecuteTime": {
     "end_time": "2022-09-08T16:14:46.367920Z",
     "start_time": "2022-09-08T16:03:33.766221Z"
    }
   },
   "outputs": [],
   "source": [
    "n_rows, n_dups, dups_idx = csv_remove_duplicates(input_file_path,\n",
    "                                                 output_file_path)"
   ]
  },
  {
   "cell_type": "markdown",
   "id": "73547347",
   "metadata": {},
   "source": [
    "## Validate the results"
   ]
  },
  {
   "cell_type": "code",
   "execution_count": 9,
   "id": "dbb10b91",
   "metadata": {
    "ExecuteTime": {
     "end_time": "2022-09-08T16:14:46.665483Z",
     "start_time": "2022-09-08T16:14:46.367920Z"
    }
   },
   "outputs": [],
   "source": [
    "df_actual = pd.read_csv(output_file_path)\n",
    "df_expected = pd.read_csv(input_file_path).drop_duplicates().reset_index(drop=True)"
   ]
  },
  {
   "cell_type": "markdown",
   "id": "b38cda70",
   "metadata": {},
   "source": [
    "Assert result dataframes are equal."
   ]
  },
  {
   "cell_type": "code",
   "execution_count": 10,
   "id": "ffbfd11f",
   "metadata": {
    "ExecuteTime": {
     "end_time": "2022-09-08T16:14:48.061012Z",
     "start_time": "2022-09-08T16:14:46.668595Z"
    }
   },
   "outputs": [],
   "source": [
    "pd.testing.assert_frame_equal(df_actual, df_expected)"
   ]
  },
  {
   "cell_type": "markdown",
   "id": "92e85540",
   "metadata": {},
   "source": [
    "Assert the number of duplicates found is equal."
   ]
  },
  {
   "cell_type": "code",
   "execution_count": 11,
   "id": "8a2c6efb",
   "metadata": {
    "ExecuteTime": {
     "end_time": "2022-09-08T16:14:48.216498Z",
     "start_time": "2022-09-08T16:14:48.063069Z"
    }
   },
   "outputs": [],
   "source": [
    "assert n_dups == pd.read_csv(input_file_path).duplicated().sum()"
   ]
  },
  {
   "cell_type": "markdown",
   "id": "dd0f4fee",
   "metadata": {},
   "source": [
    "Assert duplicates indexes are equal."
   ]
  },
  {
   "cell_type": "code",
   "execution_count": 12,
   "id": "7257153f",
   "metadata": {
    "ExecuteTime": {
     "end_time": "2022-09-08T16:14:48.384239Z",
     "start_time": "2022-09-08T16:14:48.219655Z"
    }
   },
   "outputs": [],
   "source": [
    "assert dups_idx == pd.read_csv(input_file_path).duplicated().loc[lambda x: x].index.to_list()"
   ]
  },
  {
   "cell_type": "code",
   "execution_count": null,
   "id": "9e5e7d31",
   "metadata": {},
   "outputs": [],
   "source": []
  },
  {
   "cell_type": "code",
   "execution_count": null,
   "id": "8f4be839",
   "metadata": {},
   "outputs": [],
   "source": []
  }
 ],
 "metadata": {
  "kernelspec": {
   "display_name": "Python 3 (ipykernel)",
   "language": "python",
   "name": "python3"
  },
  "language_info": {
   "codemirror_mode": {
    "name": "ipython",
    "version": 3
   },
   "file_extension": ".py",
   "mimetype": "text/x-python",
   "name": "python",
   "nbconvert_exporter": "python",
   "pygments_lexer": "ipython3",
   "version": "3.9.12"
  },
  "toc": {
   "base_numbering": 1,
   "nav_menu": {},
   "number_sections": true,
   "sideBar": true,
   "skip_h1_title": false,
   "title_cell": "Table of Contents",
   "title_sidebar": "Contents",
   "toc_cell": false,
   "toc_position": {},
   "toc_section_display": true,
   "toc_window_display": false
  }
 },
 "nbformat": 4,
 "nbformat_minor": 5
}
