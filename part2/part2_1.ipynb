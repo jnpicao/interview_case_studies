{
 "cells": [
  {
   "cell_type": "code",
   "execution_count": 1,
   "id": "b1b274cf",
   "metadata": {
    "ExecuteTime": {
     "end_time": "2022-09-08T14:24:54.852934Z",
     "start_time": "2022-09-08T14:24:54.394089Z"
    }
   },
   "outputs": [],
   "source": [
    "import csv\n",
    "import os\n",
    "\n",
    "import pandas as pd\n",
    "\n",
    "from utils_part2 import clean_csv, csv_remove_duplicates"
   ]
  },
  {
   "cell_type": "markdown",
   "id": "ccc797fa",
   "metadata": {},
   "source": [
    "## Configurations"
   ]
  },
  {
   "cell_type": "code",
   "execution_count": 2,
   "id": "f1fdcf30",
   "metadata": {
    "ExecuteTime": {
     "end_time": "2022-09-08T14:24:54.867993Z",
     "start_time": "2022-09-08T14:24:54.853251Z"
    }
   },
   "outputs": [],
   "source": [
    "# input_file_path = os.path.join('.','input_data','algorithms part dataset.csv')\n",
    "input_file_path = os.path.join('.','input_data','algorithms part dataset smpl 50k.csv')\n",
    "# input_file_path = os.path.join('..', 'input_data', 'smpl.csv')\n",
    "# input_file_path = os.path.join('input_data', 'smpl_read.csv')\n",
    "\n",
    "clean_file = True"
   ]
  },
  {
   "cell_type": "code",
   "execution_count": 3,
   "id": "3d715fc6",
   "metadata": {
    "ExecuteTime": {
     "end_time": "2022-09-08T14:24:55.401719Z",
     "start_time": "2022-09-08T14:24:54.869000Z"
    }
   },
   "outputs": [],
   "source": [
    "if clean_file:\n",
    "    clean_csv(input_file_path)\n",
    "    input_file_path = input_file_path.replace('.csv', '_cln.csv')\n",
    "    \n",
    "try:\n",
    "    pd.read_csv(input_file_path)\n",
    "except ParserError:\n",
    "    print('Error parsing csv file')\n"
   ]
  },
  {
   "cell_type": "code",
   "execution_count": 4,
   "id": "c7509d69",
   "metadata": {
    "ExecuteTime": {
     "end_time": "2022-09-08T14:24:55.417388Z",
     "start_time": "2022-09-08T14:24:55.401719Z"
    }
   },
   "outputs": [],
   "source": [
    "output_file_path = os.path.split(input_file_path)[-1].replace('.csv', '_output.csv')"
   ]
  },
  {
   "cell_type": "code",
   "execution_count": 5,
   "id": "ccf211f2",
   "metadata": {
    "ExecuteTime": {
     "end_time": "2022-09-08T14:24:55.471932Z",
     "start_time": "2022-09-08T14:24:55.419700Z"
    }
   },
   "outputs": [
    {
     "data": {
      "text/html": [
       "<div>\n",
       "<style scoped>\n",
       "    .dataframe tbody tr th:only-of-type {\n",
       "        vertical-align: middle;\n",
       "    }\n",
       "\n",
       "    .dataframe tbody tr th {\n",
       "        vertical-align: top;\n",
       "    }\n",
       "\n",
       "    .dataframe thead th {\n",
       "        text-align: right;\n",
       "    }\n",
       "</style>\n",
       "<table border=\"1\" class=\"dataframe\">\n",
       "  <thead>\n",
       "    <tr style=\"text-align: right;\">\n",
       "      <th></th>\n",
       "      <th>ID</th>\n",
       "      <th>GAME_NAME</th>\n",
       "      <th>BEHAVIOUR</th>\n",
       "      <th>PLAY_PURCHASE</th>\n",
       "      <th>NONE</th>\n",
       "    </tr>\n",
       "  </thead>\n",
       "  <tbody>\n",
       "    <tr>\n",
       "      <th>0</th>\n",
       "      <td>151603712</td>\n",
       "      <td>The Elder Scrolls V Skyrim</td>\n",
       "      <td>purchase</td>\n",
       "      <td>1.0</td>\n",
       "      <td>0</td>\n",
       "    </tr>\n",
       "    <tr>\n",
       "      <th>1</th>\n",
       "      <td>151603712</td>\n",
       "      <td>The Elder Scrolls V Skyrim</td>\n",
       "      <td>play</td>\n",
       "      <td>273.0</td>\n",
       "      <td>0</td>\n",
       "    </tr>\n",
       "    <tr>\n",
       "      <th>2</th>\n",
       "      <td>151603712</td>\n",
       "      <td>Fallout 4</td>\n",
       "      <td>purchase</td>\n",
       "      <td>1.0</td>\n",
       "      <td>0</td>\n",
       "    </tr>\n",
       "    <tr>\n",
       "      <th>3</th>\n",
       "      <td>151603712</td>\n",
       "      <td>Fallout 4</td>\n",
       "      <td>play</td>\n",
       "      <td>87.0</td>\n",
       "      <td>0</td>\n",
       "    </tr>\n",
       "    <tr>\n",
       "      <th>4</th>\n",
       "      <td>151603712</td>\n",
       "      <td>Spore</td>\n",
       "      <td>purchase</td>\n",
       "      <td>1.0</td>\n",
       "      <td>0</td>\n",
       "    </tr>\n",
       "    <tr>\n",
       "      <th>...</th>\n",
       "      <td>...</td>\n",
       "      <td>...</td>\n",
       "      <td>...</td>\n",
       "      <td>...</td>\n",
       "      <td>...</td>\n",
       "    </tr>\n",
       "    <tr>\n",
       "      <th>49995</th>\n",
       "      <td>221432905</td>\n",
       "      <td>Gear Up</td>\n",
       "      <td>purchase</td>\n",
       "      <td>1.0</td>\n",
       "      <td>0</td>\n",
       "    </tr>\n",
       "    <tr>\n",
       "      <th>49996</th>\n",
       "      <td>178675666</td>\n",
       "      <td>Dota 2</td>\n",
       "      <td>purchase</td>\n",
       "      <td>1.0</td>\n",
       "      <td>0</td>\n",
       "    </tr>\n",
       "    <tr>\n",
       "      <th>49997</th>\n",
       "      <td>178675666</td>\n",
       "      <td>Dota 2</td>\n",
       "      <td>play</td>\n",
       "      <td>58.0</td>\n",
       "      <td>0</td>\n",
       "    </tr>\n",
       "    <tr>\n",
       "      <th>49998</th>\n",
       "      <td>160310816</td>\n",
       "      <td>Dota 2</td>\n",
       "      <td>purchase</td>\n",
       "      <td>1.0</td>\n",
       "      <td>0</td>\n",
       "    </tr>\n",
       "    <tr>\n",
       "      <th>49999</th>\n",
       "      <td>160310816</td>\n",
       "      <td>Dota 2</td>\n",
       "      <td>play</td>\n",
       "      <td>32.0</td>\n",
       "      <td>0</td>\n",
       "    </tr>\n",
       "  </tbody>\n",
       "</table>\n",
       "<p>50000 rows × 5 columns</p>\n",
       "</div>"
      ],
      "text/plain": [
       "              ID                   GAME_NAME BEHAVIOUR  PLAY_PURCHASE  NONE\n",
       "0      151603712  The Elder Scrolls V Skyrim  purchase            1.0     0\n",
       "1      151603712  The Elder Scrolls V Skyrim      play          273.0     0\n",
       "2      151603712                   Fallout 4  purchase            1.0     0\n",
       "3      151603712                   Fallout 4      play           87.0     0\n",
       "4      151603712                       Spore  purchase            1.0     0\n",
       "...          ...                         ...       ...            ...   ...\n",
       "49995  221432905                     Gear Up  purchase            1.0     0\n",
       "49996  178675666                      Dota 2  purchase            1.0     0\n",
       "49997  178675666                      Dota 2      play           58.0     0\n",
       "49998  160310816                      Dota 2  purchase            1.0     0\n",
       "49999  160310816                      Dota 2      play           32.0     0\n",
       "\n",
       "[50000 rows x 5 columns]"
      ]
     },
     "execution_count": 5,
     "metadata": {},
     "output_type": "execute_result"
    }
   ],
   "source": [
    "pd.read_csv(input_file_path)"
   ]
  },
  {
   "cell_type": "code",
   "execution_count": 6,
   "id": "32e1e7f0",
   "metadata": {
    "ExecuteTime": {
     "end_time": "2022-09-08T14:24:56.709310Z",
     "start_time": "2022-09-08T14:24:55.471932Z"
    }
   },
   "outputs": [
    {
     "name": "stdout",
     "output_type": "stream",
     "text": [
      "============================= test session starts =============================\n",
      "platform win32 -- Python 3.9.12, pytest-7.1.1, pluggy-1.0.0\n",
      "rootdir: C:\\Users\\jpicao\\git_repos\\interview_case_studies\\part2\n",
      "plugins: anyio-3.5.0\n",
      "collected 2 items\n",
      "\n",
      "test_utils_part2.py ..                                                   [100%]\n",
      "\n",
      "============================== 2 passed in 0.52s ==============================\n"
     ]
    }
   ],
   "source": [
    "# Run unit tests\n",
    "!pytest"
   ]
  },
  {
   "cell_type": "markdown",
   "id": "2565634a",
   "metadata": {
    "ExecuteTime": {
     "end_time": "2022-09-08T12:52:57.733835Z",
     "start_time": "2022-09-08T12:52:57.718632Z"
    }
   },
   "source": [
    "# Algorithm"
   ]
  },
  {
   "cell_type": "markdown",
   "id": "280b13a9",
   "metadata": {},
   "source": [
    "The bottleneck of the current implementation is searching each new value in the unique values list using a linear search method with complexity O(n): `x in list` has time complexity O(n), has expected, but I have used this [source](https://wiki.python.org/moin/TimeComplexity).\n",
    "Evident improvement could be either:\n",
    "- to use an hash table to record the elements already present in the list;\n",
    "- order the unique values list (although this would have an impact on the output file);"
   ]
  },
  {
   "cell_type": "code",
   "execution_count": null,
   "id": "e7b52638",
   "metadata": {},
   "outputs": [],
   "source": []
  },
  {
   "cell_type": "code",
   "execution_count": 7,
   "id": "f8acfb8b",
   "metadata": {
    "ExecuteTime": {
     "end_time": "2022-09-08T14:24:56.725007Z",
     "start_time": "2022-09-08T14:24:56.709310Z"
    }
   },
   "outputs": [
    {
     "data": {
      "text/plain": [
       "'.\\\\input_data\\\\algorithms part dataset smpl 50k_cln.csv'"
      ]
     },
     "execution_count": 7,
     "metadata": {},
     "output_type": "execute_result"
    }
   ],
   "source": [
    "input_file_path"
   ]
  },
  {
   "cell_type": "markdown",
   "id": "5cd75def",
   "metadata": {},
   "source": [
    "# Examples"
   ]
  },
  {
   "cell_type": "code",
   "execution_count": 8,
   "id": "a05a6341",
   "metadata": {
    "ExecuteTime": {
     "end_time": "2022-09-08T14:25:32.837447Z",
     "start_time": "2022-09-08T14:24:56.725007Z"
    }
   },
   "outputs": [],
   "source": [
    "n_rows, n_dups, dups_idx = csv_remove_duplicates(input_file_path,\n",
    "                                                 output_file_path)"
   ]
  },
  {
   "cell_type": "code",
   "execution_count": 9,
   "id": "aae5a80e",
   "metadata": {
    "ExecuteTime": {
     "end_time": "2022-09-08T14:25:32.942842Z",
     "start_time": "2022-09-08T14:25:32.839671Z"
    }
   },
   "outputs": [],
   "source": [
    "df_actual = pd.read_csv(output_file_path)\n",
    "df_expected = pd.read_csv(input_file_path).drop_duplicates().reset_index(drop=True)"
   ]
  },
  {
   "cell_type": "code",
   "execution_count": 10,
   "id": "c5ded633",
   "metadata": {
    "ExecuteTime": {
     "end_time": "2022-09-08T14:25:33.294568Z",
     "start_time": "2022-09-08T14:25:32.942842Z"
    }
   },
   "outputs": [],
   "source": [
    "pd.testing.assert_frame_equal(df_actual, df_expected)"
   ]
  },
  {
   "cell_type": "code",
   "execution_count": 11,
   "id": "8c71ae95",
   "metadata": {
    "ExecuteTime": {
     "end_time": "2022-09-08T14:25:33.309717Z",
     "start_time": "2022-09-08T14:25:33.294568Z"
    }
   },
   "outputs": [
    {
     "data": {
      "text/html": [
       "<div>\n",
       "<style scoped>\n",
       "    .dataframe tbody tr th:only-of-type {\n",
       "        vertical-align: middle;\n",
       "    }\n",
       "\n",
       "    .dataframe tbody tr th {\n",
       "        vertical-align: top;\n",
       "    }\n",
       "\n",
       "    .dataframe thead th {\n",
       "        text-align: right;\n",
       "    }\n",
       "</style>\n",
       "<table border=\"1\" class=\"dataframe\">\n",
       "  <thead>\n",
       "    <tr style=\"text-align: right;\">\n",
       "      <th></th>\n",
       "      <th>ID</th>\n",
       "      <th>GAME_NAME</th>\n",
       "      <th>BEHAVIOUR</th>\n",
       "      <th>PLAY_PURCHASE</th>\n",
       "      <th>NONE</th>\n",
       "    </tr>\n",
       "  </thead>\n",
       "  <tbody>\n",
       "    <tr>\n",
       "      <th>0</th>\n",
       "      <td>151603712</td>\n",
       "      <td>The Elder Scrolls V Skyrim</td>\n",
       "      <td>purchase</td>\n",
       "      <td>1.0</td>\n",
       "      <td>0</td>\n",
       "    </tr>\n",
       "    <tr>\n",
       "      <th>1</th>\n",
       "      <td>151603712</td>\n",
       "      <td>The Elder Scrolls V Skyrim</td>\n",
       "      <td>play</td>\n",
       "      <td>273.0</td>\n",
       "      <td>0</td>\n",
       "    </tr>\n",
       "    <tr>\n",
       "      <th>2</th>\n",
       "      <td>151603712</td>\n",
       "      <td>Fallout 4</td>\n",
       "      <td>purchase</td>\n",
       "      <td>1.0</td>\n",
       "      <td>0</td>\n",
       "    </tr>\n",
       "    <tr>\n",
       "      <th>3</th>\n",
       "      <td>151603712</td>\n",
       "      <td>Fallout 4</td>\n",
       "      <td>play</td>\n",
       "      <td>87.0</td>\n",
       "      <td>0</td>\n",
       "    </tr>\n",
       "    <tr>\n",
       "      <th>4</th>\n",
       "      <td>151603712</td>\n",
       "      <td>Spore</td>\n",
       "      <td>purchase</td>\n",
       "      <td>1.0</td>\n",
       "      <td>0</td>\n",
       "    </tr>\n",
       "    <tr>\n",
       "      <th>...</th>\n",
       "      <td>...</td>\n",
       "      <td>...</td>\n",
       "      <td>...</td>\n",
       "      <td>...</td>\n",
       "      <td>...</td>\n",
       "    </tr>\n",
       "    <tr>\n",
       "      <th>49852</th>\n",
       "      <td>221432905</td>\n",
       "      <td>Gear Up</td>\n",
       "      <td>purchase</td>\n",
       "      <td>1.0</td>\n",
       "      <td>0</td>\n",
       "    </tr>\n",
       "    <tr>\n",
       "      <th>49853</th>\n",
       "      <td>178675666</td>\n",
       "      <td>Dota 2</td>\n",
       "      <td>purchase</td>\n",
       "      <td>1.0</td>\n",
       "      <td>0</td>\n",
       "    </tr>\n",
       "    <tr>\n",
       "      <th>49854</th>\n",
       "      <td>178675666</td>\n",
       "      <td>Dota 2</td>\n",
       "      <td>play</td>\n",
       "      <td>58.0</td>\n",
       "      <td>0</td>\n",
       "    </tr>\n",
       "    <tr>\n",
       "      <th>49855</th>\n",
       "      <td>160310816</td>\n",
       "      <td>Dota 2</td>\n",
       "      <td>purchase</td>\n",
       "      <td>1.0</td>\n",
       "      <td>0</td>\n",
       "    </tr>\n",
       "    <tr>\n",
       "      <th>49856</th>\n",
       "      <td>160310816</td>\n",
       "      <td>Dota 2</td>\n",
       "      <td>play</td>\n",
       "      <td>32.0</td>\n",
       "      <td>0</td>\n",
       "    </tr>\n",
       "  </tbody>\n",
       "</table>\n",
       "<p>49857 rows × 5 columns</p>\n",
       "</div>"
      ],
      "text/plain": [
       "              ID                   GAME_NAME BEHAVIOUR  PLAY_PURCHASE  NONE\n",
       "0      151603712  The Elder Scrolls V Skyrim  purchase            1.0     0\n",
       "1      151603712  The Elder Scrolls V Skyrim      play          273.0     0\n",
       "2      151603712                   Fallout 4  purchase            1.0     0\n",
       "3      151603712                   Fallout 4      play           87.0     0\n",
       "4      151603712                       Spore  purchase            1.0     0\n",
       "...          ...                         ...       ...            ...   ...\n",
       "49852  221432905                     Gear Up  purchase            1.0     0\n",
       "49853  178675666                      Dota 2  purchase            1.0     0\n",
       "49854  178675666                      Dota 2      play           58.0     0\n",
       "49855  160310816                      Dota 2  purchase            1.0     0\n",
       "49856  160310816                      Dota 2      play           32.0     0\n",
       "\n",
       "[49857 rows x 5 columns]"
      ]
     },
     "execution_count": 11,
     "metadata": {},
     "output_type": "execute_result"
    }
   ],
   "source": [
    "df_actual"
   ]
  },
  {
   "cell_type": "code",
   "execution_count": 12,
   "id": "1ddf689d",
   "metadata": {
    "ExecuteTime": {
     "end_time": "2022-09-08T14:25:33.340973Z",
     "start_time": "2022-09-08T14:25:33.309717Z"
    }
   },
   "outputs": [
    {
     "data": {
      "text/html": [
       "<div>\n",
       "<style scoped>\n",
       "    .dataframe tbody tr th:only-of-type {\n",
       "        vertical-align: middle;\n",
       "    }\n",
       "\n",
       "    .dataframe tbody tr th {\n",
       "        vertical-align: top;\n",
       "    }\n",
       "\n",
       "    .dataframe thead th {\n",
       "        text-align: right;\n",
       "    }\n",
       "</style>\n",
       "<table border=\"1\" class=\"dataframe\">\n",
       "  <thead>\n",
       "    <tr style=\"text-align: right;\">\n",
       "      <th></th>\n",
       "      <th>ID</th>\n",
       "      <th>GAME_NAME</th>\n",
       "      <th>BEHAVIOUR</th>\n",
       "      <th>PLAY_PURCHASE</th>\n",
       "      <th>NONE</th>\n",
       "    </tr>\n",
       "  </thead>\n",
       "  <tbody>\n",
       "    <tr>\n",
       "      <th>0</th>\n",
       "      <td>151603712</td>\n",
       "      <td>The Elder Scrolls V Skyrim</td>\n",
       "      <td>purchase</td>\n",
       "      <td>1.0</td>\n",
       "      <td>0</td>\n",
       "    </tr>\n",
       "    <tr>\n",
       "      <th>1</th>\n",
       "      <td>151603712</td>\n",
       "      <td>The Elder Scrolls V Skyrim</td>\n",
       "      <td>play</td>\n",
       "      <td>273.0</td>\n",
       "      <td>0</td>\n",
       "    </tr>\n",
       "    <tr>\n",
       "      <th>2</th>\n",
       "      <td>151603712</td>\n",
       "      <td>Fallout 4</td>\n",
       "      <td>purchase</td>\n",
       "      <td>1.0</td>\n",
       "      <td>0</td>\n",
       "    </tr>\n",
       "    <tr>\n",
       "      <th>3</th>\n",
       "      <td>151603712</td>\n",
       "      <td>Fallout 4</td>\n",
       "      <td>play</td>\n",
       "      <td>87.0</td>\n",
       "      <td>0</td>\n",
       "    </tr>\n",
       "    <tr>\n",
       "      <th>4</th>\n",
       "      <td>151603712</td>\n",
       "      <td>Spore</td>\n",
       "      <td>purchase</td>\n",
       "      <td>1.0</td>\n",
       "      <td>0</td>\n",
       "    </tr>\n",
       "    <tr>\n",
       "      <th>...</th>\n",
       "      <td>...</td>\n",
       "      <td>...</td>\n",
       "      <td>...</td>\n",
       "      <td>...</td>\n",
       "      <td>...</td>\n",
       "    </tr>\n",
       "    <tr>\n",
       "      <th>49852</th>\n",
       "      <td>221432905</td>\n",
       "      <td>Gear Up</td>\n",
       "      <td>purchase</td>\n",
       "      <td>1.0</td>\n",
       "      <td>0</td>\n",
       "    </tr>\n",
       "    <tr>\n",
       "      <th>49853</th>\n",
       "      <td>178675666</td>\n",
       "      <td>Dota 2</td>\n",
       "      <td>purchase</td>\n",
       "      <td>1.0</td>\n",
       "      <td>0</td>\n",
       "    </tr>\n",
       "    <tr>\n",
       "      <th>49854</th>\n",
       "      <td>178675666</td>\n",
       "      <td>Dota 2</td>\n",
       "      <td>play</td>\n",
       "      <td>58.0</td>\n",
       "      <td>0</td>\n",
       "    </tr>\n",
       "    <tr>\n",
       "      <th>49855</th>\n",
       "      <td>160310816</td>\n",
       "      <td>Dota 2</td>\n",
       "      <td>purchase</td>\n",
       "      <td>1.0</td>\n",
       "      <td>0</td>\n",
       "    </tr>\n",
       "    <tr>\n",
       "      <th>49856</th>\n",
       "      <td>160310816</td>\n",
       "      <td>Dota 2</td>\n",
       "      <td>play</td>\n",
       "      <td>32.0</td>\n",
       "      <td>0</td>\n",
       "    </tr>\n",
       "  </tbody>\n",
       "</table>\n",
       "<p>49857 rows × 5 columns</p>\n",
       "</div>"
      ],
      "text/plain": [
       "              ID                   GAME_NAME BEHAVIOUR  PLAY_PURCHASE  NONE\n",
       "0      151603712  The Elder Scrolls V Skyrim  purchase            1.0     0\n",
       "1      151603712  The Elder Scrolls V Skyrim      play          273.0     0\n",
       "2      151603712                   Fallout 4  purchase            1.0     0\n",
       "3      151603712                   Fallout 4      play           87.0     0\n",
       "4      151603712                       Spore  purchase            1.0     0\n",
       "...          ...                         ...       ...            ...   ...\n",
       "49852  221432905                     Gear Up  purchase            1.0     0\n",
       "49853  178675666                      Dota 2  purchase            1.0     0\n",
       "49854  178675666                      Dota 2      play           58.0     0\n",
       "49855  160310816                      Dota 2  purchase            1.0     0\n",
       "49856  160310816                      Dota 2      play           32.0     0\n",
       "\n",
       "[49857 rows x 5 columns]"
      ]
     },
     "execution_count": 12,
     "metadata": {},
     "output_type": "execute_result"
    }
   ],
   "source": [
    "df_expected"
   ]
  },
  {
   "cell_type": "code",
   "execution_count": null,
   "id": "6eefcfb5",
   "metadata": {},
   "outputs": [],
   "source": []
  }
 ],
 "metadata": {
  "kernelspec": {
   "display_name": "Python 3 (ipykernel)",
   "language": "python",
   "name": "python3"
  },
  "language_info": {
   "codemirror_mode": {
    "name": "ipython",
    "version": 3
   },
   "file_extension": ".py",
   "mimetype": "text/x-python",
   "name": "python",
   "nbconvert_exporter": "python",
   "pygments_lexer": "ipython3",
   "version": "3.9.12"
  },
  "toc": {
   "base_numbering": 1,
   "nav_menu": {},
   "number_sections": true,
   "sideBar": true,
   "skip_h1_title": false,
   "title_cell": "Table of Contents",
   "title_sidebar": "Contents",
   "toc_cell": false,
   "toc_position": {},
   "toc_section_display": true,
   "toc_window_display": false
  }
 },
 "nbformat": 4,
 "nbformat_minor": 5
}
