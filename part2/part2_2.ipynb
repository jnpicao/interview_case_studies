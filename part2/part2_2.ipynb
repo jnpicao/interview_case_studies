{
 "cells": [
  {
   "cell_type": "code",
   "execution_count": 1,
   "id": "a8bbbd71",
   "metadata": {
    "ExecuteTime": {
     "end_time": "2022-09-08T19:00:20.720464Z",
     "start_time": "2022-09-08T19:00:20.179940Z"
    }
   },
   "outputs": [],
   "source": [
    "import os\n",
    "import csv\n",
    "\n",
    "import pandas as pd\n",
    "import json\n",
    "\n",
    "from utils_part2 import clean_csv, Node"
   ]
  },
  {
   "cell_type": "markdown",
   "id": "ccc797fa",
   "metadata": {},
   "source": [
    "## Configurations"
   ]
  },
  {
   "cell_type": "code",
   "execution_count": 2,
   "id": "f1fdcf30",
   "metadata": {
    "ExecuteTime": {
     "end_time": "2022-09-08T19:00:20.736504Z",
     "start_time": "2022-09-08T19:00:20.722564Z"
    }
   },
   "outputs": [],
   "source": [
    "# input_file_path = os.path.join('.','input_data','algorithms part dataset.csv')\n",
    "input_file_path = os.path.join('.','input_data','algorithms part dataset smpl 10k.csv')\n",
    "# input_file_path = os.path.join('input_data', 'smpl.csv')\n",
    "\n",
    "clean_file = True"
   ]
  },
  {
   "cell_type": "code",
   "execution_count": 3,
   "id": "6e978bd6",
   "metadata": {
    "ExecuteTime": {
     "end_time": "2022-09-08T19:00:20.895843Z",
     "start_time": "2022-09-08T19:00:20.736504Z"
    }
   },
   "outputs": [],
   "source": [
    "if clean_file:\n",
    "    clean_csv(input_file_path)\n",
    "    input_file_path = input_file_path.replace('.csv', '_cln.csv')\n",
    "    \n",
    "try:\n",
    "    pd.read_csv(input_file_path)\n",
    "except ParserError:\n",
    "    print('Error parsing csv file')"
   ]
  },
  {
   "cell_type": "code",
   "execution_count": 4,
   "id": "32e1e7f0",
   "metadata": {
    "ExecuteTime": {
     "end_time": "2022-09-08T19:00:22.189430Z",
     "start_time": "2022-09-08T19:00:20.897906Z"
    }
   },
   "outputs": [
    {
     "name": "stdout",
     "output_type": "stream",
     "text": [
      "============================= test session starts =============================\n",
      "platform win32 -- Python 3.9.12, pytest-7.1.1, pluggy-1.0.0\n",
      "rootdir: C:\\Users\\jpicao\\git_repos\\interview_case_studies\\part2\n",
      "plugins: anyio-3.5.0\n",
      "collected 2 items\n",
      "\n",
      "test_utils_part2.py ..                                                   [100%]\n",
      "\n",
      "============================== 2 passed in 0.58s ==============================\n"
     ]
    }
   ],
   "source": [
    "# Run unit tests\n",
    "!pytest"
   ]
  },
  {
   "cell_type": "markdown",
   "id": "c98502e0",
   "metadata": {},
   "source": [
    "# `Node()` class description"
   ]
  },
  {
   "cell_type": "markdown",
   "id": "e5999414",
   "metadata": {},
   "source": [
    "## `Node()` class attributes"
   ]
  },
  {
   "cell_type": "markdown",
   "id": "5151f45b",
   "metadata": {},
   "source": [
    "- `self.value`: The actual data or value in the instance. In this exercise this attribute will contain the values coming from the provided csv file (except the column names, which define the node type).\n",
    "- `self.node_type`: Describes the type of information that the instance represents. In this exercise, the node_types will be the different columns in the provided csv file. \n",
    "- `self.children`: A list containing the instance children. Children are also instances of type `Node()`.\n",
    "- `self.count_rows`: An integer counting the number of table rows that are represented by the sub-tree starting in the current node. If `self` is a leaf node, then `self.count_rows` is used to count the number of duplicates (i.e., `self.count_rows > 1` means duplicates were found), otherwise it is used mainly for internal validation of the tree structure.\n",
    "- `self.node_hierarchy`: Defines the children node hierarchy levels of the sub-tree starting in the current node. For example, in this exercise the root node will have `self.node_hierarchy = ['ID', 'GAME_NAME', 'BEHAVIOUR', 'PLAY_PURCHASE', 'NONE]`. It is an unnecessary attribute that over complicates the class and quadratically increases the memory needed to store the tree, but I didn't have time to refactor."
   ]
  },
  {
   "cell_type": "markdown",
   "id": "12af5c2a",
   "metadata": {},
   "source": [
    "## `Node()` class attributes"
   ]
  },
  {
   "cell_type": "markdown",
   "id": "887adb50",
   "metadata": {},
   "source": [
    "- `self.add_row()`: Inserts a single table row to the tree structure.\n",
    "- `self.add_table()`: Loops over the table rows and calls `self.add_row()` for each row, thus converting a complete table into a tree structure at once.\n",
    "- `self.print_tree()`: Prints the tree structure to stdout.\n",
    "- `self.print_table()`: Converts a tree structure into a table and prints the result. If the parameter `to` is a string, then prints the resulting table to the file path defined by `to`. The parameter `duplicates` has three possible configurations: *ignore* to leave the table as is; *drop* to drop duplicates; and *find* to return duplicates only.\n",
    "- `self.tree_to_df()`: Convert the tree to a dataframe. Calls `self.print_table()` to a temporary file and reads the resulting file with pandas.read_csv()."
   ]
  },
  {
   "cell_type": "markdown",
   "id": "025ac0c3",
   "metadata": {},
   "source": [
    "# Examples"
   ]
  },
  {
   "cell_type": "markdown",
   "id": "e23df3b9",
   "metadata": {},
   "source": [
    "## Add table line by line"
   ]
  },
  {
   "cell_type": "code",
   "execution_count": 5,
   "id": "67d3b17f",
   "metadata": {
    "ExecuteTime": {
     "end_time": "2022-09-08T19:00:22.221020Z",
     "start_time": "2022-09-08T19:00:22.190675Z"
    }
   },
   "outputs": [],
   "source": [
    "df_input = pd.read_csv(input_file_path)"
   ]
  },
  {
   "cell_type": "code",
   "execution_count": 6,
   "id": "e10ab609",
   "metadata": {
    "ExecuteTime": {
     "end_time": "2022-09-08T19:00:22.247493Z",
     "start_time": "2022-09-08T19:00:22.221224Z"
    },
    "scrolled": true
   },
   "outputs": [
    {
     "data": {
      "text/html": [
       "<div>\n",
       "<style scoped>\n",
       "    .dataframe tbody tr th:only-of-type {\n",
       "        vertical-align: middle;\n",
       "    }\n",
       "\n",
       "    .dataframe tbody tr th {\n",
       "        vertical-align: top;\n",
       "    }\n",
       "\n",
       "    .dataframe thead th {\n",
       "        text-align: right;\n",
       "    }\n",
       "</style>\n",
       "<table border=\"1\" class=\"dataframe\">\n",
       "  <thead>\n",
       "    <tr style=\"text-align: right;\">\n",
       "      <th></th>\n",
       "      <th>ID</th>\n",
       "      <th>GAME_NAME</th>\n",
       "      <th>BEHAVIOUR</th>\n",
       "      <th>PLAY_PURCHASE</th>\n",
       "      <th>NONE</th>\n",
       "    </tr>\n",
       "  </thead>\n",
       "  <tbody>\n",
       "    <tr>\n",
       "      <th>0</th>\n",
       "      <td>151603712</td>\n",
       "      <td>The Elder Scrolls V Skyrim</td>\n",
       "      <td>purchase</td>\n",
       "      <td>1.0</td>\n",
       "      <td>0</td>\n",
       "    </tr>\n",
       "    <tr>\n",
       "      <th>1</th>\n",
       "      <td>151603712</td>\n",
       "      <td>The Elder Scrolls V Skyrim</td>\n",
       "      <td>play</td>\n",
       "      <td>273.0</td>\n",
       "      <td>0</td>\n",
       "    </tr>\n",
       "    <tr>\n",
       "      <th>2</th>\n",
       "      <td>151603712</td>\n",
       "      <td>Fallout 4</td>\n",
       "      <td>purchase</td>\n",
       "      <td>1.0</td>\n",
       "      <td>0</td>\n",
       "    </tr>\n",
       "    <tr>\n",
       "      <th>3</th>\n",
       "      <td>151603712</td>\n",
       "      <td>Fallout 4</td>\n",
       "      <td>play</td>\n",
       "      <td>87.0</td>\n",
       "      <td>0</td>\n",
       "    </tr>\n",
       "    <tr>\n",
       "      <th>4</th>\n",
       "      <td>151603712</td>\n",
       "      <td>Spore</td>\n",
       "      <td>purchase</td>\n",
       "      <td>1.0</td>\n",
       "      <td>0</td>\n",
       "    </tr>\n",
       "    <tr>\n",
       "      <th>...</th>\n",
       "      <td>...</td>\n",
       "      <td>...</td>\n",
       "      <td>...</td>\n",
       "      <td>...</td>\n",
       "      <td>...</td>\n",
       "    </tr>\n",
       "    <tr>\n",
       "      <th>9995</th>\n",
       "      <td>293691139</td>\n",
       "      <td>Moonbase Alpha</td>\n",
       "      <td>purchase</td>\n",
       "      <td>1.0</td>\n",
       "      <td>0</td>\n",
       "    </tr>\n",
       "    <tr>\n",
       "      <th>9996</th>\n",
       "      <td>293691139</td>\n",
       "      <td>Defiance</td>\n",
       "      <td>purchase</td>\n",
       "      <td>1.0</td>\n",
       "      <td>0</td>\n",
       "    </tr>\n",
       "    <tr>\n",
       "      <th>9997</th>\n",
       "      <td>293691139</td>\n",
       "      <td>Warframe</td>\n",
       "      <td>purchase</td>\n",
       "      <td>1.0</td>\n",
       "      <td>0</td>\n",
       "    </tr>\n",
       "    <tr>\n",
       "      <th>9998</th>\n",
       "      <td>293269191</td>\n",
       "      <td>Counter-Strike Global Offensive</td>\n",
       "      <td>purchase</td>\n",
       "      <td>1.0</td>\n",
       "      <td>0</td>\n",
       "    </tr>\n",
       "    <tr>\n",
       "      <th>9999</th>\n",
       "      <td>293269191</td>\n",
       "      <td>Counter-Strike Global Offensive</td>\n",
       "      <td>play</td>\n",
       "      <td>70.0</td>\n",
       "      <td>0</td>\n",
       "    </tr>\n",
       "  </tbody>\n",
       "</table>\n",
       "<p>10000 rows × 5 columns</p>\n",
       "</div>"
      ],
      "text/plain": [
       "             ID                        GAME_NAME BEHAVIOUR  PLAY_PURCHASE  \\\n",
       "0     151603712       The Elder Scrolls V Skyrim  purchase            1.0   \n",
       "1     151603712       The Elder Scrolls V Skyrim      play          273.0   \n",
       "2     151603712                        Fallout 4  purchase            1.0   \n",
       "3     151603712                        Fallout 4      play           87.0   \n",
       "4     151603712                            Spore  purchase            1.0   \n",
       "...         ...                              ...       ...            ...   \n",
       "9995  293691139                   Moonbase Alpha  purchase            1.0   \n",
       "9996  293691139                         Defiance  purchase            1.0   \n",
       "9997  293691139                         Warframe  purchase            1.0   \n",
       "9998  293269191  Counter-Strike Global Offensive  purchase            1.0   \n",
       "9999  293269191  Counter-Strike Global Offensive      play           70.0   \n",
       "\n",
       "      NONE  \n",
       "0        0  \n",
       "1        0  \n",
       "2        0  \n",
       "3        0  \n",
       "4        0  \n",
       "...    ...  \n",
       "9995     0  \n",
       "9996     0  \n",
       "9997     0  \n",
       "9998     0  \n",
       "9999     0  \n",
       "\n",
       "[10000 rows x 5 columns]"
      ]
     },
     "execution_count": 6,
     "metadata": {},
     "output_type": "execute_result"
    }
   ],
   "source": [
    "df_input"
   ]
  },
  {
   "cell_type": "code",
   "execution_count": 7,
   "id": "291e5abb",
   "metadata": {
    "ExecuteTime": {
     "end_time": "2022-09-08T19:00:22.272950Z",
     "start_time": "2022-09-08T19:00:22.247493Z"
    }
   },
   "outputs": [],
   "source": [
    "try:\n",
    "    del tree\n",
    "except NameError:\n",
    "    pass\n",
    "\n",
    "tree = Node(df_input.columns.to_list())"
   ]
  },
  {
   "cell_type": "markdown",
   "id": "15f8e072",
   "metadata": {},
   "source": [
    "Tree was initialized with `self.node_type` and `seld.node_hierarchy` but the remaining attributes are empty."
   ]
  },
  {
   "cell_type": "code",
   "execution_count": 8,
   "id": "2f9aac2f",
   "metadata": {
    "ExecuteTime": {
     "end_time": "2022-09-08T19:00:22.292145Z",
     "start_time": "2022-09-08T19:00:22.274065Z"
    },
    "scrolled": true
   },
   "outputs": [
    {
     "data": {
      "text/plain": [
       "'root'"
      ]
     },
     "execution_count": 8,
     "metadata": {},
     "output_type": "execute_result"
    }
   ],
   "source": [
    "tree.node_type"
   ]
  },
  {
   "cell_type": "code",
   "execution_count": 9,
   "id": "83798b37",
   "metadata": {
    "ExecuteTime": {
     "end_time": "2022-09-08T19:00:22.308249Z",
     "start_time": "2022-09-08T19:00:22.292145Z"
    }
   },
   "outputs": [
    {
     "data": {
      "text/plain": [
       "['ID', 'GAME_NAME', 'BEHAVIOUR', 'PLAY_PURCHASE', 'NONE']"
      ]
     },
     "execution_count": 9,
     "metadata": {},
     "output_type": "execute_result"
    }
   ],
   "source": [
    "tree.node_hierarchy"
   ]
  },
  {
   "cell_type": "code",
   "execution_count": 10,
   "id": "f6072515",
   "metadata": {
    "ExecuteTime": {
     "end_time": "2022-09-08T19:00:22.331574Z",
     "start_time": "2022-09-08T19:00:22.309249Z"
    }
   },
   "outputs": [
    {
     "data": {
      "text/plain": [
       "[]"
      ]
     },
     "execution_count": 10,
     "metadata": {},
     "output_type": "execute_result"
    }
   ],
   "source": [
    "tree.children"
   ]
  },
  {
   "cell_type": "code",
   "execution_count": 11,
   "id": "08e00fc8",
   "metadata": {
    "ExecuteTime": {
     "end_time": "2022-09-08T19:00:22.347756Z",
     "start_time": "2022-09-08T19:00:22.332075Z"
    }
   },
   "outputs": [],
   "source": [
    "tree.value"
   ]
  },
  {
   "cell_type": "code",
   "execution_count": 12,
   "id": "eef60ede",
   "metadata": {
    "ExecuteTime": {
     "end_time": "2022-09-08T19:00:22.373010Z",
     "start_time": "2022-09-08T19:00:22.349821Z"
    }
   },
   "outputs": [
    {
     "data": {
      "text/plain": [
       "0"
      ]
     },
     "execution_count": 12,
     "metadata": {},
     "output_type": "execute_result"
    }
   ],
   "source": [
    "tree.count_rows"
   ]
  },
  {
   "cell_type": "code",
   "execution_count": 13,
   "id": "5dbe3148",
   "metadata": {
    "ExecuteTime": {
     "end_time": "2022-09-08T19:00:22.400653Z",
     "start_time": "2022-09-08T19:00:22.373010Z"
    },
    "scrolled": true
   },
   "outputs": [
    {
     "name": "stdout",
     "output_type": "stream",
     "text": [
      " | root | None | 0\n"
     ]
    }
   ],
   "source": [
    "tree.print_tree()"
   ]
  },
  {
   "cell_type": "code",
   "execution_count": 14,
   "id": "f0fb987a",
   "metadata": {
    "ExecuteTime": {
     "end_time": "2022-09-08T19:00:22.431340Z",
     "start_time": "2022-09-08T19:00:22.401057Z"
    }
   },
   "outputs": [],
   "source": [
    "# Create tree line by line for ilustration only.\n",
    "# If table has more than 100 rows skip.\n",
    "if df_input.shape[0] < 100:\n",
    "    for index, row in df_input.iterrows():\n",
    "        print(f\"Add rom from idx {index}\")\n",
    "        tree.add_row(row)    \n",
    "        tree.print_tree()"
   ]
  },
  {
   "cell_type": "markdown",
   "id": "404bbd5a",
   "metadata": {},
   "source": [
    "### Validate the results"
   ]
  },
  {
   "cell_type": "markdown",
   "id": "b06c5124",
   "metadata": {},
   "source": [
    "#### Validate tree structure"
   ]
  },
  {
   "cell_type": "markdown",
   "id": "bbf1d791",
   "metadata": {},
   "source": [
    "The data must remain the same when converted to a tree a converted back to a table."
   ]
  },
  {
   "cell_type": "code",
   "execution_count": 15,
   "id": "33d50329",
   "metadata": {
    "ExecuteTime": {
     "end_time": "2022-09-08T19:00:22.457501Z",
     "start_time": "2022-09-08T19:00:22.431850Z"
    }
   },
   "outputs": [],
   "source": [
    "df_from_tree = tree.tree_to_df(duplicates ='ignore')"
   ]
  },
  {
   "cell_type": "code",
   "execution_count": 16,
   "id": "fa50ea4c",
   "metadata": {
    "ExecuteTime": {
     "end_time": "2022-09-08T19:00:22.980150Z",
     "start_time": "2022-09-08T19:00:22.457501Z"
    },
    "scrolled": true
   },
   "outputs": [
    {
     "ename": "AssertionError",
     "evalue": "DataFrame are different\n\nDataFrame shape mismatch\n[left]:  (0, 5)\n[right]: (10000, 5)",
     "output_type": "error",
     "traceback": [
      "\u001b[1;31m---------------------------------------------------------------------------\u001b[0m",
      "\u001b[1;31mAssertionError\u001b[0m                            Traceback (most recent call last)",
      "Input \u001b[1;32mIn [16]\u001b[0m, in \u001b[0;36m<cell line: 9>\u001b[1;34m()\u001b[0m\n\u001b[0;32m      1\u001b[0m actual_result \u001b[38;5;241m=\u001b[39m (df_from_tree\n\u001b[0;32m      2\u001b[0m                  \u001b[38;5;241m.\u001b[39msort_values(by\u001b[38;5;241m=\u001b[39mdf_from_tree\u001b[38;5;241m.\u001b[39mcolumns\u001b[38;5;241m.\u001b[39mto_list())\n\u001b[0;32m      3\u001b[0m                  \u001b[38;5;241m.\u001b[39mreset_index(drop\u001b[38;5;241m=\u001b[39m\u001b[38;5;28;01mTrue\u001b[39;00m))\n\u001b[0;32m      5\u001b[0m expected_result \u001b[38;5;241m=\u001b[39m (df_input\n\u001b[0;32m      6\u001b[0m                    \u001b[38;5;241m.\u001b[39msort_values(by\u001b[38;5;241m=\u001b[39mdf_input\u001b[38;5;241m.\u001b[39mcolumns\u001b[38;5;241m.\u001b[39mto_list())\n\u001b[0;32m      7\u001b[0m                    \u001b[38;5;241m.\u001b[39mreset_index(drop\u001b[38;5;241m=\u001b[39m\u001b[38;5;28;01mTrue\u001b[39;00m))\n\u001b[1;32m----> 9\u001b[0m \u001b[43mpd\u001b[49m\u001b[38;5;241;43m.\u001b[39;49m\u001b[43mtesting\u001b[49m\u001b[38;5;241;43m.\u001b[39;49m\u001b[43massert_frame_equal\u001b[49m\u001b[43m(\u001b[49m\u001b[43mactual_result\u001b[49m\u001b[43m,\u001b[49m\u001b[43m \u001b[49m\u001b[43mexpected_result\u001b[49m\u001b[43m,\u001b[49m\n\u001b[0;32m     10\u001b[0m \u001b[43m                              \u001b[49m\u001b[43mcheck_column_type\u001b[49m\u001b[38;5;241;43m=\u001b[39;49m\u001b[38;5;28;43;01mFalse\u001b[39;49;00m\u001b[43m,\u001b[49m\u001b[43m \u001b[49m\n\u001b[0;32m     11\u001b[0m \u001b[43m                              \u001b[49m\u001b[43mcheck_index_type\u001b[49m\u001b[38;5;241;43m=\u001b[39;49m\u001b[38;5;28;43;01mFalse\u001b[39;49;00m\u001b[43m,\u001b[49m\u001b[43m \u001b[49m\n\u001b[0;32m     12\u001b[0m \u001b[43m                              \u001b[49m\u001b[43mcheck_dtype\u001b[49m\u001b[38;5;241;43m=\u001b[39;49m\u001b[38;5;28;43;01mFalse\u001b[39;49;00m\u001b[43m)\u001b[49m\n",
      "    \u001b[1;31m[... skipping hidden 1 frame]\u001b[0m\n",
      "File \u001b[1;32m~\\anaconda3\\envs\\ml\\lib\\site-packages\\pandas\\_testing\\asserters.py:682\u001b[0m, in \u001b[0;36mraise_assert_detail\u001b[1;34m(obj, message, left, right, diff, index_values)\u001b[0m\n\u001b[0;32m    679\u001b[0m \u001b[38;5;28;01mif\u001b[39;00m diff \u001b[38;5;129;01mis\u001b[39;00m \u001b[38;5;129;01mnot\u001b[39;00m \u001b[38;5;28;01mNone\u001b[39;00m:\n\u001b[0;32m    680\u001b[0m     msg \u001b[38;5;241m+\u001b[39m\u001b[38;5;241m=\u001b[39m \u001b[38;5;124mf\u001b[39m\u001b[38;5;124m\"\u001b[39m\u001b[38;5;130;01m\\n\u001b[39;00m\u001b[38;5;124m[diff]: \u001b[39m\u001b[38;5;132;01m{\u001b[39;00mdiff\u001b[38;5;132;01m}\u001b[39;00m\u001b[38;5;124m\"\u001b[39m\n\u001b[1;32m--> 682\u001b[0m \u001b[38;5;28;01mraise\u001b[39;00m \u001b[38;5;167;01mAssertionError\u001b[39;00m(msg)\n",
      "\u001b[1;31mAssertionError\u001b[0m: DataFrame are different\n\nDataFrame shape mismatch\n[left]:  (0, 5)\n[right]: (10000, 5)"
     ]
    }
   ],
   "source": [
    "actual_result = (df_from_tree\n",
    "                 .sort_values(by=df_from_tree.columns.to_list())\n",
    "                 .reset_index(drop=True))\n",
    "\n",
    "expected_result = (df_input\n",
    "                   .sort_values(by=df_input.columns.to_list())\n",
    "                   .reset_index(drop=True))\n",
    "\n",
    "pd.testing.assert_frame_equal(actual_result, expected_result,\n",
    "                              check_column_type=False, \n",
    "                              check_index_type=False, \n",
    "                              check_dtype=False)"
   ]
  },
  {
   "cell_type": "markdown",
   "id": "8bafc5ec",
   "metadata": {},
   "source": [
    "#### Validate duplicates find"
   ]
  },
  {
   "cell_type": "markdown",
   "id": "5fa02868",
   "metadata": {},
   "source": [
    "Compare duplicates detection with pandas.DataFrame.duplicated()."
   ]
  },
  {
   "cell_type": "code",
   "execution_count": null,
   "id": "58268b7f",
   "metadata": {
    "ExecuteTime": {
     "end_time": "2022-09-08T19:00:22.982291Z",
     "start_time": "2022-09-08T19:00:22.982291Z"
    }
   },
   "outputs": [],
   "source": [
    "df_dups_from_tree = tree.tree_to_df(duplicates ='find')"
   ]
  },
  {
   "cell_type": "code",
   "execution_count": null,
   "id": "05c9952c",
   "metadata": {
    "ExecuteTime": {
     "end_time": "2022-09-08T19:00:22.984120Z",
     "start_time": "2022-09-08T19:00:22.984120Z"
    },
    "scrolled": true
   },
   "outputs": [],
   "source": [
    "actual_result = (df_dups_from_tree\n",
    "                 .sort_values(by=df_dups_from_tree.columns.to_list())\n",
    "                 .reset_index(drop=True))\n",
    "\n",
    "expected_result = (df_input.loc[df_input.duplicated(),:]\n",
    "                   .sort_values(by=df_dups_from_tree.columns.to_list())\n",
    "                   .reset_index(drop=True))\n",
    "\n",
    "pd.testing.assert_frame_equal(actual_result, expected_result,\n",
    "                              check_column_type=False, \n",
    "                              check_index_type=False, \n",
    "                              check_dtype=False)"
   ]
  },
  {
   "cell_type": "markdown",
   "id": "e56ec810",
   "metadata": {},
   "source": [
    "#### Validate duplicates drop"
   ]
  },
  {
   "cell_type": "markdown",
   "id": "e0724981",
   "metadata": {},
   "source": [
    "Compare duplicates detection with pandas.DataFrame.duplicated()."
   ]
  },
  {
   "cell_type": "code",
   "execution_count": null,
   "id": "ddeb5e63",
   "metadata": {
    "ExecuteTime": {
     "end_time": "2022-09-08T19:00:22.985148Z",
     "start_time": "2022-09-08T19:00:22.985148Z"
    }
   },
   "outputs": [],
   "source": [
    "df_drop_from_tree = tree.tree_to_df(duplicates ='drop')"
   ]
  },
  {
   "cell_type": "code",
   "execution_count": null,
   "id": "10e6fec0",
   "metadata": {
    "ExecuteTime": {
     "end_time": "2022-09-08T19:00:22.985918Z",
     "start_time": "2022-09-08T19:00:22.985918Z"
    },
    "scrolled": true
   },
   "outputs": [],
   "source": [
    "actual_result = (df_drop_from_tree\n",
    "                 .sort_values(by=df_dups_from_tree.columns.to_list())\n",
    "                 .reset_index(drop=True))\n",
    "\n",
    "expected_result = (df_input.drop_duplicates()\n",
    "                   .sort_values(by=df_dups_from_tree.columns.to_list())\n",
    "                   .reset_index(drop=True))\n",
    "\n",
    "pd.testing.assert_frame_equal(actual_result, expected_result,\n",
    "                              check_column_type=False, \n",
    "                              check_index_type=False, \n",
    "                              check_dtype=False)"
   ]
  },
  {
   "cell_type": "markdown",
   "id": "a589f7b2",
   "metadata": {
    "ExecuteTime": {
     "end_time": "2022-09-07T10:31:08.515286Z",
     "start_time": "2022-09-07T10:31:08.501443Z"
    }
   },
   "source": [
    "## At table at once"
   ]
  },
  {
   "cell_type": "code",
   "execution_count": 17,
   "id": "f046400d",
   "metadata": {
    "ExecuteTime": {
     "end_time": "2022-09-08T19:00:55.275114Z",
     "start_time": "2022-09-08T19:00:55.237179Z"
    }
   },
   "outputs": [
    {
     "data": {
      "text/html": [
       "<div>\n",
       "<style scoped>\n",
       "    .dataframe tbody tr th:only-of-type {\n",
       "        vertical-align: middle;\n",
       "    }\n",
       "\n",
       "    .dataframe tbody tr th {\n",
       "        vertical-align: top;\n",
       "    }\n",
       "\n",
       "    .dataframe thead th {\n",
       "        text-align: right;\n",
       "    }\n",
       "</style>\n",
       "<table border=\"1\" class=\"dataframe\">\n",
       "  <thead>\n",
       "    <tr style=\"text-align: right;\">\n",
       "      <th></th>\n",
       "      <th>ID</th>\n",
       "      <th>GAME_NAME</th>\n",
       "      <th>BEHAVIOUR</th>\n",
       "      <th>PLAY_PURCHASE</th>\n",
       "      <th>NONE</th>\n",
       "    </tr>\n",
       "  </thead>\n",
       "  <tbody>\n",
       "    <tr>\n",
       "      <th>0</th>\n",
       "      <td>151603712</td>\n",
       "      <td>The Elder Scrolls V Skyrim</td>\n",
       "      <td>purchase</td>\n",
       "      <td>1.0</td>\n",
       "      <td>0</td>\n",
       "    </tr>\n",
       "    <tr>\n",
       "      <th>1</th>\n",
       "      <td>151603712</td>\n",
       "      <td>The Elder Scrolls V Skyrim</td>\n",
       "      <td>play</td>\n",
       "      <td>273.0</td>\n",
       "      <td>0</td>\n",
       "    </tr>\n",
       "    <tr>\n",
       "      <th>2</th>\n",
       "      <td>151603712</td>\n",
       "      <td>Fallout 4</td>\n",
       "      <td>purchase</td>\n",
       "      <td>1.0</td>\n",
       "      <td>0</td>\n",
       "    </tr>\n",
       "    <tr>\n",
       "      <th>3</th>\n",
       "      <td>151603712</td>\n",
       "      <td>Fallout 4</td>\n",
       "      <td>play</td>\n",
       "      <td>87.0</td>\n",
       "      <td>0</td>\n",
       "    </tr>\n",
       "    <tr>\n",
       "      <th>4</th>\n",
       "      <td>151603712</td>\n",
       "      <td>Spore</td>\n",
       "      <td>purchase</td>\n",
       "      <td>1.0</td>\n",
       "      <td>0</td>\n",
       "    </tr>\n",
       "    <tr>\n",
       "      <th>...</th>\n",
       "      <td>...</td>\n",
       "      <td>...</td>\n",
       "      <td>...</td>\n",
       "      <td>...</td>\n",
       "      <td>...</td>\n",
       "    </tr>\n",
       "    <tr>\n",
       "      <th>9995</th>\n",
       "      <td>293691139</td>\n",
       "      <td>Moonbase Alpha</td>\n",
       "      <td>purchase</td>\n",
       "      <td>1.0</td>\n",
       "      <td>0</td>\n",
       "    </tr>\n",
       "    <tr>\n",
       "      <th>9996</th>\n",
       "      <td>293691139</td>\n",
       "      <td>Defiance</td>\n",
       "      <td>purchase</td>\n",
       "      <td>1.0</td>\n",
       "      <td>0</td>\n",
       "    </tr>\n",
       "    <tr>\n",
       "      <th>9997</th>\n",
       "      <td>293691139</td>\n",
       "      <td>Warframe</td>\n",
       "      <td>purchase</td>\n",
       "      <td>1.0</td>\n",
       "      <td>0</td>\n",
       "    </tr>\n",
       "    <tr>\n",
       "      <th>9998</th>\n",
       "      <td>293269191</td>\n",
       "      <td>Counter-Strike Global Offensive</td>\n",
       "      <td>purchase</td>\n",
       "      <td>1.0</td>\n",
       "      <td>0</td>\n",
       "    </tr>\n",
       "    <tr>\n",
       "      <th>9999</th>\n",
       "      <td>293269191</td>\n",
       "      <td>Counter-Strike Global Offensive</td>\n",
       "      <td>play</td>\n",
       "      <td>70.0</td>\n",
       "      <td>0</td>\n",
       "    </tr>\n",
       "  </tbody>\n",
       "</table>\n",
       "<p>10000 rows × 5 columns</p>\n",
       "</div>"
      ],
      "text/plain": [
       "             ID                        GAME_NAME BEHAVIOUR  PLAY_PURCHASE  \\\n",
       "0     151603712       The Elder Scrolls V Skyrim  purchase            1.0   \n",
       "1     151603712       The Elder Scrolls V Skyrim      play          273.0   \n",
       "2     151603712                        Fallout 4  purchase            1.0   \n",
       "3     151603712                        Fallout 4      play           87.0   \n",
       "4     151603712                            Spore  purchase            1.0   \n",
       "...         ...                              ...       ...            ...   \n",
       "9995  293691139                   Moonbase Alpha  purchase            1.0   \n",
       "9996  293691139                         Defiance  purchase            1.0   \n",
       "9997  293691139                         Warframe  purchase            1.0   \n",
       "9998  293269191  Counter-Strike Global Offensive  purchase            1.0   \n",
       "9999  293269191  Counter-Strike Global Offensive      play           70.0   \n",
       "\n",
       "      NONE  \n",
       "0        0  \n",
       "1        0  \n",
       "2        0  \n",
       "3        0  \n",
       "4        0  \n",
       "...    ...  \n",
       "9995     0  \n",
       "9996     0  \n",
       "9997     0  \n",
       "9998     0  \n",
       "9999     0  \n",
       "\n",
       "[10000 rows x 5 columns]"
      ]
     },
     "execution_count": 17,
     "metadata": {},
     "output_type": "execute_result"
    }
   ],
   "source": [
    "df_input"
   ]
  },
  {
   "cell_type": "markdown",
   "id": "d556b295",
   "metadata": {},
   "source": [
    "Create tree structure from table."
   ]
  },
  {
   "cell_type": "code",
   "execution_count": 18,
   "id": "26ee977d",
   "metadata": {
    "ExecuteTime": {
     "end_time": "2022-09-08T19:01:59.810398Z",
     "start_time": "2022-09-08T19:00:56.492920Z"
    }
   },
   "outputs": [],
   "source": [
    "try:\n",
    "    del tree\n",
    "except NameError:\n",
    "    pass\n",
    "\n",
    "tree = Node(df_input.columns.to_list())\n",
    "tree.add_table(df_input)"
   ]
  },
  {
   "cell_type": "markdown",
   "id": "d98f510d",
   "metadata": {},
   "source": [
    "### Validate the results"
   ]
  },
  {
   "cell_type": "markdown",
   "id": "8bcb36e9",
   "metadata": {},
   "source": [
    "#### Validate tree structure"
   ]
  },
  {
   "cell_type": "markdown",
   "id": "22a1aed6",
   "metadata": {},
   "source": [
    "The data must remain the same when converted to a tree a converted back to a table."
   ]
  },
  {
   "cell_type": "code",
   "execution_count": 19,
   "id": "99083c73",
   "metadata": {
    "ExecuteTime": {
     "end_time": "2022-09-08T19:02:31.985004Z",
     "start_time": "2022-09-08T19:02:30.188748Z"
    }
   },
   "outputs": [],
   "source": [
    "df_from_tree = tree.tree_to_df(duplicates ='ignore')"
   ]
  },
  {
   "cell_type": "code",
   "execution_count": 20,
   "id": "995e8f47",
   "metadata": {
    "ExecuteTime": {
     "end_time": "2022-09-08T19:02:35.462745Z",
     "start_time": "2022-09-08T19:02:35.374437Z"
    },
    "scrolled": true
   },
   "outputs": [],
   "source": [
    "actual_result = (df_from_tree\n",
    "                 .sort_values(by=df_from_tree.columns.to_list())\n",
    "                 .reset_index(drop=True))\n",
    "\n",
    "expected_result = (df_input\n",
    "                   .sort_values(by=df_input.columns.to_list())\n",
    "                   .reset_index(drop=True))\n",
    "\n",
    "pd.testing.assert_frame_equal(actual_result, expected_result)"
   ]
  },
  {
   "cell_type": "markdown",
   "id": "d5b36de5",
   "metadata": {},
   "source": [
    "#### Validate duplicates"
   ]
  },
  {
   "cell_type": "markdown",
   "id": "811ec514",
   "metadata": {},
   "source": [
    "Compare duplicates detection with pandas.DataFrame.duplicated()."
   ]
  },
  {
   "cell_type": "code",
   "execution_count": 21,
   "id": "1a0359e2",
   "metadata": {
    "ExecuteTime": {
     "end_time": "2022-09-08T19:02:37.075912Z",
     "start_time": "2022-09-08T19:02:37.017391Z"
    }
   },
   "outputs": [],
   "source": [
    "df_dups_from_tree = tree.tree_to_df(duplicates ='find')"
   ]
  },
  {
   "cell_type": "code",
   "execution_count": 22,
   "id": "d9e97733",
   "metadata": {
    "ExecuteTime": {
     "end_time": "2022-09-08T19:02:39.055723Z",
     "start_time": "2022-09-08T19:02:39.022637Z"
    }
   },
   "outputs": [],
   "source": [
    "actual_result = (df_dups_from_tree\n",
    "                 .sort_values(by=df_dups_from_tree.columns.to_list())\n",
    "                 .reset_index(drop=True))\n",
    "\n",
    "expected_result = (df_input.loc[df_input.duplicated(),:]\n",
    "                   .sort_values(by=df_dups_from_tree.columns.to_list())\n",
    "                   .reset_index(drop=True))\n",
    "\n",
    "pd.testing.assert_frame_equal(actual_result, expected_result,\n",
    "                              check_column_type=False, \n",
    "                              check_index_type=False, \n",
    "                              check_dtype=False)"
   ]
  },
  {
   "cell_type": "markdown",
   "id": "68a16c62",
   "metadata": {},
   "source": [
    "#### Validate duplicates drop"
   ]
  },
  {
   "cell_type": "markdown",
   "id": "70538aed",
   "metadata": {},
   "source": [
    "Compare duplicates detection with pandas.DataFrame.duplicated()."
   ]
  },
  {
   "cell_type": "code",
   "execution_count": 23,
   "id": "21d67b67",
   "metadata": {
    "ExecuteTime": {
     "end_time": "2022-09-08T19:02:42.239855Z",
     "start_time": "2022-09-08T19:02:40.357551Z"
    }
   },
   "outputs": [],
   "source": [
    "df_drop_from_tree = tree.tree_to_df(duplicates ='drop')"
   ]
  },
  {
   "cell_type": "code",
   "execution_count": 24,
   "id": "4d103385",
   "metadata": {
    "ExecuteTime": {
     "end_time": "2022-09-08T19:02:42.340006Z",
     "start_time": "2022-09-08T19:02:42.239855Z"
    },
    "scrolled": true
   },
   "outputs": [],
   "source": [
    "actual_result = (df_drop_from_tree\n",
    "                 .sort_values(by=df_dups_from_tree.columns.to_list())\n",
    "                 .reset_index(drop=True))\n",
    "\n",
    "expected_result = (df_input.drop_duplicates()\n",
    "                   .sort_values(by=df_dups_from_tree.columns.to_list())\n",
    "                   .reset_index(drop=True))\n",
    "\n",
    "pd.testing.assert_frame_equal(actual_result, expected_result,\n",
    "                              check_column_type=False, \n",
    "                              check_index_type=False, \n",
    "                              check_dtype=False)"
   ]
  },
  {
   "cell_type": "code",
   "execution_count": null,
   "id": "9ea36984",
   "metadata": {},
   "outputs": [],
   "source": []
  },
  {
   "cell_type": "code",
   "execution_count": 25,
   "id": "05541616",
   "metadata": {
    "ExecuteTime": {
     "end_time": "2022-09-08T19:02:56.632036Z",
     "start_time": "2022-09-08T19:02:56.616494Z"
    }
   },
   "outputs": [],
   "source": [
    "try:\n",
    "    del tree\n",
    "except NameError:\n",
    "    pass"
   ]
  },
  {
   "cell_type": "code",
   "execution_count": null,
   "id": "2d8bda00",
   "metadata": {},
   "outputs": [],
   "source": []
  }
 ],
 "metadata": {
  "kernelspec": {
   "display_name": "Python 3 (ipykernel)",
   "language": "python",
   "name": "python3"
  },
  "language_info": {
   "codemirror_mode": {
    "name": "ipython",
    "version": 3
   },
   "file_extension": ".py",
   "mimetype": "text/x-python",
   "name": "python",
   "nbconvert_exporter": "python",
   "pygments_lexer": "ipython3",
   "version": "3.9.12"
  },
  "toc": {
   "base_numbering": 1,
   "nav_menu": {},
   "number_sections": true,
   "sideBar": true,
   "skip_h1_title": false,
   "title_cell": "Table of Contents",
   "title_sidebar": "Contents",
   "toc_cell": false,
   "toc_position": {},
   "toc_section_display": true,
   "toc_window_display": false
  }
 },
 "nbformat": 4,
 "nbformat_minor": 5
}
