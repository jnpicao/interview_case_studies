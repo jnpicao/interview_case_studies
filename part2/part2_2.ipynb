{
 "cells": [
  {
   "cell_type": "code",
   "execution_count": 1,
   "id": "a8bbbd71",
   "metadata": {
    "ExecuteTime": {
     "end_time": "2022-09-08T19:18:33.580314Z",
     "start_time": "2022-09-08T19:18:33.064011Z"
    }
   },
   "outputs": [],
   "source": [
    "import os\n",
    "import csv\n",
    "\n",
    "import pandas as pd\n",
    "import json\n",
    "\n",
    "from utils_part2 import clean_csv, Node"
   ]
  },
  {
   "cell_type": "markdown",
   "id": "ccc797fa",
   "metadata": {},
   "source": [
    "## Configurations"
   ]
  },
  {
   "cell_type": "code",
   "execution_count": 2,
   "id": "f1fdcf30",
   "metadata": {
    "ExecuteTime": {
     "end_time": "2022-09-08T19:18:33.596166Z",
     "start_time": "2022-09-08T19:18:33.580314Z"
    }
   },
   "outputs": [],
   "source": [
    "# input_file_path = os.path.join('.','input_data','algorithms part dataset.csv')\n",
    "input_file_path = os.path.join('.','input_data','algorithms part dataset smpl 10k.csv')\n",
    "# input_file_path = os.path.join('input_data', 'smpl.csv')\n",
    "\n",
    "clean_file = True"
   ]
  },
  {
   "cell_type": "code",
   "execution_count": 3,
   "id": "e4a3c2ad",
   "metadata": {
    "ExecuteTime": {
     "end_time": "2022-09-08T19:18:33.745924Z",
     "start_time": "2022-09-08T19:18:33.596994Z"
    }
   },
   "outputs": [],
   "source": [
    "if clean_file:\n",
    "    clean_csv(input_file_path)\n",
    "    input_file_path = input_file_path.replace('.csv', '_cln.csv')\n",
    "    \n",
    "try:\n",
    "    pd.read_csv(input_file_path)\n",
    "except ParserError:\n",
    "    print('Error parsing csv file')"
   ]
  },
  {
   "cell_type": "code",
   "execution_count": 4,
   "id": "35751f62",
   "metadata": {
    "ExecuteTime": {
     "end_time": "2022-09-08T19:18:33.761535Z",
     "start_time": "2022-09-08T19:18:33.745924Z"
    }
   },
   "outputs": [],
   "source": [
    "if os.path.getsize(input_file_path) < 1000:\n",
    "    run_tree_line_by_line = True\n",
    "else:\n",
    "    run_tree_line_by_line = False"
   ]
  },
  {
   "cell_type": "code",
   "execution_count": 5,
   "id": "32e1e7f0",
   "metadata": {
    "ExecuteTime": {
     "end_time": "2022-09-08T19:18:34.951376Z",
     "start_time": "2022-09-08T19:18:33.761736Z"
    }
   },
   "outputs": [
    {
     "name": "stdout",
     "output_type": "stream",
     "text": [
      "============================= test session starts =============================\n",
      "platform win32 -- Python 3.9.12, pytest-7.1.1, pluggy-1.0.0\n",
      "rootdir: C:\\Users\\jpicao\\git_repos\\interview_case_studies\\part2\n",
      "plugins: anyio-3.5.0\n",
      "collected 2 items\n",
      "\n",
      "test_utils_part2.py ..                                                   [100%]\n",
      "\n",
      "============================== 2 passed in 0.55s ==============================\n"
     ]
    }
   ],
   "source": [
    "# Run unit tests\n",
    "!pytest"
   ]
  },
  {
   "cell_type": "markdown",
   "id": "c98502e0",
   "metadata": {},
   "source": [
    "# `Node()` class description"
   ]
  },
  {
   "cell_type": "markdown",
   "id": "e5999414",
   "metadata": {},
   "source": [
    "## `Node()` class attributes"
   ]
  },
  {
   "cell_type": "markdown",
   "id": "5151f45b",
   "metadata": {},
   "source": [
    "- `self.value`: The actual data or value in the instance. In this exercise this attribute will contain the values coming from the provided csv file (except the column names, which define the node type).\n",
    "- `self.node_type`: Describes the type of information that the instance represents. In this exercise, the node_types will be the different columns in the provided csv file. \n",
    "- `self.children`: A list containing the instance children. Children are also instances of type `Node()`.\n",
    "- `self.count_rows`: An integer counting the number of table rows that are represented by the sub-tree starting in the current node. If `self` is a leaf node, then `self.count_rows` is used to count the number of duplicates (i.e., `self.count_rows > 1` means duplicates were found), otherwise it is used mainly for internal validation of the tree structure.\n",
    "- `self.node_hierarchy`: Defines the children node hierarchy levels of the sub-tree starting in the current node. For example, in this exercise the root node will have `self.node_hierarchy = ['ID', 'GAME_NAME', 'BEHAVIOUR', 'PLAY_PURCHASE', 'NONE]`. It is an unnecessary attribute that over complicates the class and quadratically increases the memory needed to store the tree, but I didn't have time to refactor."
   ]
  },
  {
   "cell_type": "markdown",
   "id": "12af5c2a",
   "metadata": {},
   "source": [
    "## `Node()` class attributes"
   ]
  },
  {
   "cell_type": "markdown",
   "id": "ad554ef0",
   "metadata": {},
   "source": [
    "- `self.add_row()`: Inserts a single table row to the tree structure.\n",
    "- `self.add_table()`: Loops over the table rows and calls `self.add_row()` for each row, thus converting a complete table into a tree structure at once.\n",
    "- `self.print_tree()`: Prints the tree structure to stdout.\n",
    "- `self.print_table()`: Converts a tree structure into a table and prints the result. If the parameter `to` is a string, then prints the resulting table to the file path defined by `to`. The parameter `duplicates` has three possible configurations: *ignore* to leave the table as is; *drop* to drop duplicates; and *find* to return duplicates only.\n",
    "- `self.tree_to_df()`: Convert the tree to a dataframe. Calls `self.print_table()` to a temporary file and reads the resulting file with pandas.read_csv()."
   ]
  },
  {
   "cell_type": "markdown",
   "id": "83803f83",
   "metadata": {},
   "source": [
    "# Examples"
   ]
  },
  {
   "cell_type": "markdown",
   "id": "4db03450",
   "metadata": {},
   "source": [
    "## Add table line by line"
   ]
  },
  {
   "cell_type": "code",
   "execution_count": 6,
   "id": "cebce489",
   "metadata": {
    "ExecuteTime": {
     "end_time": "2022-09-08T19:18:34.979575Z",
     "start_time": "2022-09-08T19:18:34.951818Z"
    }
   },
   "outputs": [],
   "source": [
    "df_input = pd.read_csv(input_file_path)"
   ]
  },
  {
   "cell_type": "code",
   "execution_count": 7,
   "id": "28fd63f9",
   "metadata": {
    "ExecuteTime": {
     "end_time": "2022-09-08T19:18:35.011485Z",
     "start_time": "2022-09-08T19:18:34.981516Z"
    },
    "scrolled": true
   },
   "outputs": [
    {
     "data": {
      "text/html": [
       "<div>\n",
       "<style scoped>\n",
       "    .dataframe tbody tr th:only-of-type {\n",
       "        vertical-align: middle;\n",
       "    }\n",
       "\n",
       "    .dataframe tbody tr th {\n",
       "        vertical-align: top;\n",
       "    }\n",
       "\n",
       "    .dataframe thead th {\n",
       "        text-align: right;\n",
       "    }\n",
       "</style>\n",
       "<table border=\"1\" class=\"dataframe\">\n",
       "  <thead>\n",
       "    <tr style=\"text-align: right;\">\n",
       "      <th></th>\n",
       "      <th>ID</th>\n",
       "      <th>GAME_NAME</th>\n",
       "      <th>BEHAVIOUR</th>\n",
       "      <th>PLAY_PURCHASE</th>\n",
       "      <th>NONE</th>\n",
       "    </tr>\n",
       "  </thead>\n",
       "  <tbody>\n",
       "    <tr>\n",
       "      <th>0</th>\n",
       "      <td>151603712</td>\n",
       "      <td>The Elder Scrolls V Skyrim</td>\n",
       "      <td>purchase</td>\n",
       "      <td>1.0</td>\n",
       "      <td>0</td>\n",
       "    </tr>\n",
       "    <tr>\n",
       "      <th>1</th>\n",
       "      <td>151603712</td>\n",
       "      <td>The Elder Scrolls V Skyrim</td>\n",
       "      <td>play</td>\n",
       "      <td>273.0</td>\n",
       "      <td>0</td>\n",
       "    </tr>\n",
       "    <tr>\n",
       "      <th>2</th>\n",
       "      <td>151603712</td>\n",
       "      <td>Fallout 4</td>\n",
       "      <td>purchase</td>\n",
       "      <td>1.0</td>\n",
       "      <td>0</td>\n",
       "    </tr>\n",
       "    <tr>\n",
       "      <th>3</th>\n",
       "      <td>151603712</td>\n",
       "      <td>Fallout 4</td>\n",
       "      <td>play</td>\n",
       "      <td>87.0</td>\n",
       "      <td>0</td>\n",
       "    </tr>\n",
       "    <tr>\n",
       "      <th>4</th>\n",
       "      <td>151603712</td>\n",
       "      <td>Spore</td>\n",
       "      <td>purchase</td>\n",
       "      <td>1.0</td>\n",
       "      <td>0</td>\n",
       "    </tr>\n",
       "    <tr>\n",
       "      <th>...</th>\n",
       "      <td>...</td>\n",
       "      <td>...</td>\n",
       "      <td>...</td>\n",
       "      <td>...</td>\n",
       "      <td>...</td>\n",
       "    </tr>\n",
       "    <tr>\n",
       "      <th>9995</th>\n",
       "      <td>293691139</td>\n",
       "      <td>Moonbase Alpha</td>\n",
       "      <td>purchase</td>\n",
       "      <td>1.0</td>\n",
       "      <td>0</td>\n",
       "    </tr>\n",
       "    <tr>\n",
       "      <th>9996</th>\n",
       "      <td>293691139</td>\n",
       "      <td>Defiance</td>\n",
       "      <td>purchase</td>\n",
       "      <td>1.0</td>\n",
       "      <td>0</td>\n",
       "    </tr>\n",
       "    <tr>\n",
       "      <th>9997</th>\n",
       "      <td>293691139</td>\n",
       "      <td>Warframe</td>\n",
       "      <td>purchase</td>\n",
       "      <td>1.0</td>\n",
       "      <td>0</td>\n",
       "    </tr>\n",
       "    <tr>\n",
       "      <th>9998</th>\n",
       "      <td>293269191</td>\n",
       "      <td>Counter-Strike Global Offensive</td>\n",
       "      <td>purchase</td>\n",
       "      <td>1.0</td>\n",
       "      <td>0</td>\n",
       "    </tr>\n",
       "    <tr>\n",
       "      <th>9999</th>\n",
       "      <td>293269191</td>\n",
       "      <td>Counter-Strike Global Offensive</td>\n",
       "      <td>play</td>\n",
       "      <td>70.0</td>\n",
       "      <td>0</td>\n",
       "    </tr>\n",
       "  </tbody>\n",
       "</table>\n",
       "<p>10000 rows × 5 columns</p>\n",
       "</div>"
      ],
      "text/plain": [
       "             ID                        GAME_NAME BEHAVIOUR  PLAY_PURCHASE  \\\n",
       "0     151603712       The Elder Scrolls V Skyrim  purchase            1.0   \n",
       "1     151603712       The Elder Scrolls V Skyrim      play          273.0   \n",
       "2     151603712                        Fallout 4  purchase            1.0   \n",
       "3     151603712                        Fallout 4      play           87.0   \n",
       "4     151603712                            Spore  purchase            1.0   \n",
       "...         ...                              ...       ...            ...   \n",
       "9995  293691139                   Moonbase Alpha  purchase            1.0   \n",
       "9996  293691139                         Defiance  purchase            1.0   \n",
       "9997  293691139                         Warframe  purchase            1.0   \n",
       "9998  293269191  Counter-Strike Global Offensive  purchase            1.0   \n",
       "9999  293269191  Counter-Strike Global Offensive      play           70.0   \n",
       "\n",
       "      NONE  \n",
       "0        0  \n",
       "1        0  \n",
       "2        0  \n",
       "3        0  \n",
       "4        0  \n",
       "...    ...  \n",
       "9995     0  \n",
       "9996     0  \n",
       "9997     0  \n",
       "9998     0  \n",
       "9999     0  \n",
       "\n",
       "[10000 rows x 5 columns]"
      ]
     },
     "execution_count": 7,
     "metadata": {},
     "output_type": "execute_result"
    }
   ],
   "source": [
    "df_input"
   ]
  },
  {
   "cell_type": "code",
   "execution_count": 8,
   "id": "37bc4ba2",
   "metadata": {
    "ExecuteTime": {
     "end_time": "2022-09-08T19:18:35.029031Z",
     "start_time": "2022-09-08T19:18:35.012588Z"
    }
   },
   "outputs": [],
   "source": [
    "try:\n",
    "    del tree\n",
    "except NameError:\n",
    "    pass\n",
    "\n",
    "tree = Node(df_input.columns.to_list())"
   ]
  },
  {
   "cell_type": "markdown",
   "id": "06b90792",
   "metadata": {},
   "source": [
    "Tree was initialized with `self.node_type` and `seld.node_hierarchy` but the remaining attributes are empty."
   ]
  },
  {
   "cell_type": "code",
   "execution_count": 9,
   "id": "889f3e73",
   "metadata": {
    "ExecuteTime": {
     "end_time": "2022-09-08T19:18:35.044692Z",
     "start_time": "2022-09-08T19:18:35.030904Z"
    },
    "scrolled": true
   },
   "outputs": [
    {
     "data": {
      "text/plain": [
       "'root'"
      ]
     },
     "execution_count": 9,
     "metadata": {},
     "output_type": "execute_result"
    }
   ],
   "source": [
    "tree.node_type"
   ]
  },
  {
   "cell_type": "code",
   "execution_count": 10,
   "id": "7a0bea68",
   "metadata": {
    "ExecuteTime": {
     "end_time": "2022-09-08T19:18:35.061056Z",
     "start_time": "2022-09-08T19:18:35.047808Z"
    }
   },
   "outputs": [
    {
     "data": {
      "text/plain": [
       "['ID', 'GAME_NAME', 'BEHAVIOUR', 'PLAY_PURCHASE', 'NONE']"
      ]
     },
     "execution_count": 10,
     "metadata": {},
     "output_type": "execute_result"
    }
   ],
   "source": [
    "tree.node_hierarchy"
   ]
  },
  {
   "cell_type": "code",
   "execution_count": 11,
   "id": "2fcb7daf",
   "metadata": {
    "ExecuteTime": {
     "end_time": "2022-09-08T19:18:35.076880Z",
     "start_time": "2022-09-08T19:18:35.062982Z"
    }
   },
   "outputs": [
    {
     "data": {
      "text/plain": [
       "[]"
      ]
     },
     "execution_count": 11,
     "metadata": {},
     "output_type": "execute_result"
    }
   ],
   "source": [
    "tree.children"
   ]
  },
  {
   "cell_type": "code",
   "execution_count": 12,
   "id": "4194fcdc",
   "metadata": {
    "ExecuteTime": {
     "end_time": "2022-09-08T19:18:35.094709Z",
     "start_time": "2022-09-08T19:18:35.078052Z"
    }
   },
   "outputs": [],
   "source": [
    "tree.value"
   ]
  },
  {
   "cell_type": "code",
   "execution_count": 13,
   "id": "0f70b149",
   "metadata": {
    "ExecuteTime": {
     "end_time": "2022-09-08T19:18:35.110696Z",
     "start_time": "2022-09-08T19:18:35.095210Z"
    }
   },
   "outputs": [
    {
     "data": {
      "text/plain": [
       "0"
      ]
     },
     "execution_count": 13,
     "metadata": {},
     "output_type": "execute_result"
    }
   ],
   "source": [
    "tree.count_rows"
   ]
  },
  {
   "cell_type": "code",
   "execution_count": 14,
   "id": "19b364b1",
   "metadata": {
    "ExecuteTime": {
     "end_time": "2022-09-08T19:18:35.129869Z",
     "start_time": "2022-09-08T19:18:35.112569Z"
    },
    "scrolled": true
   },
   "outputs": [
    {
     "name": "stdout",
     "output_type": "stream",
     "text": [
      " | root | None | 0\n"
     ]
    }
   ],
   "source": [
    "tree.print_tree()"
   ]
  },
  {
   "cell_type": "code",
   "execution_count": 15,
   "id": "1f7a83e9",
   "metadata": {
    "ExecuteTime": {
     "end_time": "2022-09-08T19:18:35.145270Z",
     "start_time": "2022-09-08T19:18:35.132076Z"
    }
   },
   "outputs": [],
   "source": [
    "# Create tree line by line for ilustration only.\n",
    "# If table size is greater than 1 KB  skip.\n",
    "if run_tree_line_by_line:\n",
    "    for index, row in df_input.iterrows():\n",
    "        print(f\"Add rom from idx {index}\")\n",
    "        tree.add_row(row)    \n",
    "        tree.print_tree()"
   ]
  },
  {
   "cell_type": "markdown",
   "id": "d6b8571d",
   "metadata": {},
   "source": [
    "### Validate the results"
   ]
  },
  {
   "cell_type": "markdown",
   "id": "7cb500bd",
   "metadata": {},
   "source": [
    "#### Validate tree structure"
   ]
  },
  {
   "cell_type": "markdown",
   "id": "e744ef57",
   "metadata": {},
   "source": [
    "The data must remain the same when converted to a tree a converted back to a table."
   ]
  },
  {
   "cell_type": "code",
   "execution_count": 16,
   "id": "74502709",
   "metadata": {
    "ExecuteTime": {
     "end_time": "2022-09-08T19:18:35.170680Z",
     "start_time": "2022-09-08T19:18:35.147165Z"
    }
   },
   "outputs": [],
   "source": [
    "df_from_tree = tree.tree_to_df(duplicates ='ignore')"
   ]
  },
  {
   "cell_type": "code",
   "execution_count": 17,
   "id": "d1d255bd",
   "metadata": {
    "ExecuteTime": {
     "end_time": "2022-09-08T19:18:35.189725Z",
     "start_time": "2022-09-08T19:18:35.172258Z"
    },
    "scrolled": true
   },
   "outputs": [],
   "source": [
    "if run_tree_line_by_line:\n",
    "    actual_result = (df_from_tree\n",
    "                     .sort_values(by=df_from_tree.columns.to_list())\n",
    "                     .reset_index(drop=True))\n",
    "\n",
    "    expected_result = (df_input\n",
    "                       .sort_values(by=df_input.columns.to_list())\n",
    "                       .reset_index(drop=True))\n",
    "\n",
    "    pd.testing.assert_frame_equal(actual_result, expected_result,\n",
    "                                  check_column_type=False, \n",
    "                                  check_index_type=False, \n",
    "                                  check_dtype=False)"
   ]
  },
  {
   "cell_type": "markdown",
   "id": "a29df4ef",
   "metadata": {},
   "source": [
    "#### Validate duplicates find"
   ]
  },
  {
   "cell_type": "markdown",
   "id": "277022fb",
   "metadata": {},
   "source": [
    "Compare duplicates detection with pandas.DataFrame.duplicated()."
   ]
  },
  {
   "cell_type": "code",
   "execution_count": 18,
   "id": "deb4bb7b",
   "metadata": {
    "ExecuteTime": {
     "end_time": "2022-09-08T19:18:35.209857Z",
     "start_time": "2022-09-08T19:18:35.191643Z"
    }
   },
   "outputs": [],
   "source": [
    "df_dups_from_tree = tree.tree_to_df(duplicates ='find')"
   ]
  },
  {
   "cell_type": "code",
   "execution_count": 19,
   "id": "6b0b27f3",
   "metadata": {
    "ExecuteTime": {
     "end_time": "2022-09-08T19:18:35.228543Z",
     "start_time": "2022-09-08T19:18:35.212399Z"
    },
    "scrolled": true
   },
   "outputs": [],
   "source": [
    "if run_tree_line_by_line:\n",
    "    actual_result = (df_dups_from_tree\n",
    "                     .sort_values(by=df_dups_from_tree.columns.to_list())\n",
    "                     .reset_index(drop=True))\n",
    "\n",
    "    expected_result = (df_input.loc[df_input.duplicated(),:]\n",
    "                       .sort_values(by=df_dups_from_tree.columns.to_list())\n",
    "                       .reset_index(drop=True))\n",
    "\n",
    "    pd.testing.assert_frame_equal(actual_result, expected_result,\n",
    "                                  check_column_type=False, \n",
    "                                  check_index_type=False, \n",
    "                                  check_dtype=False)"
   ]
  },
  {
   "cell_type": "markdown",
   "id": "5baf413e",
   "metadata": {},
   "source": [
    "#### Validate duplicates drop"
   ]
  },
  {
   "cell_type": "markdown",
   "id": "71a4b4fc",
   "metadata": {},
   "source": [
    "Compare duplicates detection with pandas.DataFrame.duplicated()."
   ]
  },
  {
   "cell_type": "code",
   "execution_count": 20,
   "id": "b06dcf40",
   "metadata": {
    "ExecuteTime": {
     "end_time": "2022-09-08T19:18:35.243688Z",
     "start_time": "2022-09-08T19:18:35.230699Z"
    }
   },
   "outputs": [],
   "source": [
    "df_drop_from_tree = tree.tree_to_df(duplicates ='drop')"
   ]
  },
  {
   "cell_type": "code",
   "execution_count": 21,
   "id": "c6a768f4",
   "metadata": {
    "ExecuteTime": {
     "end_time": "2022-09-08T19:18:35.259327Z",
     "start_time": "2022-09-08T19:18:35.245479Z"
    },
    "scrolled": true
   },
   "outputs": [],
   "source": [
    "if run_tree_line_by_line:\n",
    "    actual_result = (df_drop_from_tree\n",
    "                     .sort_values(by=df_dups_from_tree.columns.to_list())\n",
    "                     .reset_index(drop=True))\n",
    "\n",
    "    expected_result = (df_input.drop_duplicates()\n",
    "                       .sort_values(by=df_dups_from_tree.columns.to_list())\n",
    "                       .reset_index(drop=True))\n",
    "\n",
    "    pd.testing.assert_frame_equal(actual_result, expected_result,\n",
    "                                  check_column_type=False, \n",
    "                                  check_index_type=False, \n",
    "                                  check_dtype=False)"
   ]
  },
  {
   "cell_type": "markdown",
   "id": "7ad228a5",
   "metadata": {
    "ExecuteTime": {
     "end_time": "2022-09-07T10:31:08.515286Z",
     "start_time": "2022-09-07T10:31:08.501443Z"
    }
   },
   "source": [
    "## At table at once"
   ]
  },
  {
   "cell_type": "code",
   "execution_count": 22,
   "id": "db7f6c29",
   "metadata": {
    "ExecuteTime": {
     "end_time": "2022-09-08T19:18:35.274311Z",
     "start_time": "2022-09-08T19:18:35.261453Z"
    }
   },
   "outputs": [
    {
     "data": {
      "text/html": [
       "<div>\n",
       "<style scoped>\n",
       "    .dataframe tbody tr th:only-of-type {\n",
       "        vertical-align: middle;\n",
       "    }\n",
       "\n",
       "    .dataframe tbody tr th {\n",
       "        vertical-align: top;\n",
       "    }\n",
       "\n",
       "    .dataframe thead th {\n",
       "        text-align: right;\n",
       "    }\n",
       "</style>\n",
       "<table border=\"1\" class=\"dataframe\">\n",
       "  <thead>\n",
       "    <tr style=\"text-align: right;\">\n",
       "      <th></th>\n",
       "      <th>ID</th>\n",
       "      <th>GAME_NAME</th>\n",
       "      <th>BEHAVIOUR</th>\n",
       "      <th>PLAY_PURCHASE</th>\n",
       "      <th>NONE</th>\n",
       "    </tr>\n",
       "  </thead>\n",
       "  <tbody>\n",
       "    <tr>\n",
       "      <th>0</th>\n",
       "      <td>151603712</td>\n",
       "      <td>The Elder Scrolls V Skyrim</td>\n",
       "      <td>purchase</td>\n",
       "      <td>1.0</td>\n",
       "      <td>0</td>\n",
       "    </tr>\n",
       "    <tr>\n",
       "      <th>1</th>\n",
       "      <td>151603712</td>\n",
       "      <td>The Elder Scrolls V Skyrim</td>\n",
       "      <td>play</td>\n",
       "      <td>273.0</td>\n",
       "      <td>0</td>\n",
       "    </tr>\n",
       "    <tr>\n",
       "      <th>2</th>\n",
       "      <td>151603712</td>\n",
       "      <td>Fallout 4</td>\n",
       "      <td>purchase</td>\n",
       "      <td>1.0</td>\n",
       "      <td>0</td>\n",
       "    </tr>\n",
       "    <tr>\n",
       "      <th>3</th>\n",
       "      <td>151603712</td>\n",
       "      <td>Fallout 4</td>\n",
       "      <td>play</td>\n",
       "      <td>87.0</td>\n",
       "      <td>0</td>\n",
       "    </tr>\n",
       "    <tr>\n",
       "      <th>4</th>\n",
       "      <td>151603712</td>\n",
       "      <td>Spore</td>\n",
       "      <td>purchase</td>\n",
       "      <td>1.0</td>\n",
       "      <td>0</td>\n",
       "    </tr>\n",
       "    <tr>\n",
       "      <th>...</th>\n",
       "      <td>...</td>\n",
       "      <td>...</td>\n",
       "      <td>...</td>\n",
       "      <td>...</td>\n",
       "      <td>...</td>\n",
       "    </tr>\n",
       "    <tr>\n",
       "      <th>9995</th>\n",
       "      <td>293691139</td>\n",
       "      <td>Moonbase Alpha</td>\n",
       "      <td>purchase</td>\n",
       "      <td>1.0</td>\n",
       "      <td>0</td>\n",
       "    </tr>\n",
       "    <tr>\n",
       "      <th>9996</th>\n",
       "      <td>293691139</td>\n",
       "      <td>Defiance</td>\n",
       "      <td>purchase</td>\n",
       "      <td>1.0</td>\n",
       "      <td>0</td>\n",
       "    </tr>\n",
       "    <tr>\n",
       "      <th>9997</th>\n",
       "      <td>293691139</td>\n",
       "      <td>Warframe</td>\n",
       "      <td>purchase</td>\n",
       "      <td>1.0</td>\n",
       "      <td>0</td>\n",
       "    </tr>\n",
       "    <tr>\n",
       "      <th>9998</th>\n",
       "      <td>293269191</td>\n",
       "      <td>Counter-Strike Global Offensive</td>\n",
       "      <td>purchase</td>\n",
       "      <td>1.0</td>\n",
       "      <td>0</td>\n",
       "    </tr>\n",
       "    <tr>\n",
       "      <th>9999</th>\n",
       "      <td>293269191</td>\n",
       "      <td>Counter-Strike Global Offensive</td>\n",
       "      <td>play</td>\n",
       "      <td>70.0</td>\n",
       "      <td>0</td>\n",
       "    </tr>\n",
       "  </tbody>\n",
       "</table>\n",
       "<p>10000 rows × 5 columns</p>\n",
       "</div>"
      ],
      "text/plain": [
       "             ID                        GAME_NAME BEHAVIOUR  PLAY_PURCHASE  \\\n",
       "0     151603712       The Elder Scrolls V Skyrim  purchase            1.0   \n",
       "1     151603712       The Elder Scrolls V Skyrim      play          273.0   \n",
       "2     151603712                        Fallout 4  purchase            1.0   \n",
       "3     151603712                        Fallout 4      play           87.0   \n",
       "4     151603712                            Spore  purchase            1.0   \n",
       "...         ...                              ...       ...            ...   \n",
       "9995  293691139                   Moonbase Alpha  purchase            1.0   \n",
       "9996  293691139                         Defiance  purchase            1.0   \n",
       "9997  293691139                         Warframe  purchase            1.0   \n",
       "9998  293269191  Counter-Strike Global Offensive  purchase            1.0   \n",
       "9999  293269191  Counter-Strike Global Offensive      play           70.0   \n",
       "\n",
       "      NONE  \n",
       "0        0  \n",
       "1        0  \n",
       "2        0  \n",
       "3        0  \n",
       "4        0  \n",
       "...    ...  \n",
       "9995     0  \n",
       "9996     0  \n",
       "9997     0  \n",
       "9998     0  \n",
       "9999     0  \n",
       "\n",
       "[10000 rows x 5 columns]"
      ]
     },
     "execution_count": 22,
     "metadata": {},
     "output_type": "execute_result"
    }
   ],
   "source": [
    "df_input"
   ]
  },
  {
   "cell_type": "markdown",
   "id": "a1e935ef",
   "metadata": {},
   "source": [
    "Create tree structure from table."
   ]
  },
  {
   "cell_type": "code",
   "execution_count": 23,
   "id": "44bc8825",
   "metadata": {
    "ExecuteTime": {
     "end_time": "2022-09-08T19:19:36.706891Z",
     "start_time": "2022-09-08T19:18:35.274311Z"
    }
   },
   "outputs": [],
   "source": [
    "try:\n",
    "    del tree\n",
    "except NameError:\n",
    "    pass\n",
    "\n",
    "tree = Node(df_input.columns.to_list())\n",
    "tree.add_table(df_input)"
   ]
  },
  {
   "cell_type": "markdown",
   "id": "d94b169d",
   "metadata": {},
   "source": [
    "### Validate the results"
   ]
  },
  {
   "cell_type": "markdown",
   "id": "df722a57",
   "metadata": {},
   "source": [
    "#### Validate tree structure"
   ]
  },
  {
   "cell_type": "markdown",
   "id": "8b39ef23",
   "metadata": {},
   "source": [
    "The data must remain the same when converted to a tree a converted back to a table."
   ]
  },
  {
   "cell_type": "code",
   "execution_count": 24,
   "id": "3d4aa100",
   "metadata": {
    "ExecuteTime": {
     "end_time": "2022-09-08T19:19:38.523761Z",
     "start_time": "2022-09-08T19:19:36.708993Z"
    }
   },
   "outputs": [],
   "source": [
    "df_from_tree = tree.tree_to_df(duplicates ='ignore')"
   ]
  },
  {
   "cell_type": "code",
   "execution_count": 25,
   "id": "c551624e",
   "metadata": {
    "ExecuteTime": {
     "end_time": "2022-09-08T19:19:38.615629Z",
     "start_time": "2022-09-08T19:19:38.525273Z"
    },
    "scrolled": true
   },
   "outputs": [],
   "source": [
    "actual_result = (df_from_tree\n",
    "                 .sort_values(by=df_from_tree.columns.to_list())\n",
    "                 .reset_index(drop=True))\n",
    "\n",
    "expected_result = (df_input\n",
    "                   .sort_values(by=df_input.columns.to_list())\n",
    "                   .reset_index(drop=True))\n",
    "\n",
    "pd.testing.assert_frame_equal(actual_result, expected_result)"
   ]
  },
  {
   "cell_type": "markdown",
   "id": "f19538dd",
   "metadata": {},
   "source": [
    "#### Validate duplicates"
   ]
  },
  {
   "cell_type": "markdown",
   "id": "34cfc707",
   "metadata": {},
   "source": [
    "Compare duplicates detection with pandas.DataFrame.duplicated()."
   ]
  },
  {
   "cell_type": "code",
   "execution_count": 26,
   "id": "e468b3fd",
   "metadata": {
    "ExecuteTime": {
     "end_time": "2022-09-08T19:19:38.666564Z",
     "start_time": "2022-09-08T19:19:38.617337Z"
    }
   },
   "outputs": [],
   "source": [
    "df_dups_from_tree = tree.tree_to_df(duplicates ='find')"
   ]
  },
  {
   "cell_type": "code",
   "execution_count": 27,
   "id": "d96fbfdc",
   "metadata": {
    "ExecuteTime": {
     "end_time": "2022-09-08T19:19:38.682920Z",
     "start_time": "2022-09-08T19:19:38.666814Z"
    }
   },
   "outputs": [],
   "source": [
    "actual_result = (df_dups_from_tree\n",
    "                 .sort_values(by=df_dups_from_tree.columns.to_list())\n",
    "                 .reset_index(drop=True))\n",
    "\n",
    "expected_result = (df_input.loc[df_input.duplicated(),:]\n",
    "                   .sort_values(by=df_dups_from_tree.columns.to_list())\n",
    "                   .reset_index(drop=True))\n",
    "\n",
    "pd.testing.assert_frame_equal(actual_result, expected_result,\n",
    "                              check_column_type=False, \n",
    "                              check_index_type=False, \n",
    "                              check_dtype=False)"
   ]
  },
  {
   "cell_type": "markdown",
   "id": "133588b3",
   "metadata": {},
   "source": [
    "#### Validate duplicates drop"
   ]
  },
  {
   "cell_type": "markdown",
   "id": "dfea6103",
   "metadata": {},
   "source": [
    "Compare duplicates detection with pandas.DataFrame.duplicated()."
   ]
  },
  {
   "cell_type": "code",
   "execution_count": 28,
   "id": "6594ba09",
   "metadata": {
    "ExecuteTime": {
     "end_time": "2022-09-08T19:19:40.443409Z",
     "start_time": "2022-09-08T19:19:38.684500Z"
    }
   },
   "outputs": [],
   "source": [
    "df_drop_from_tree = tree.tree_to_df(duplicates ='drop')"
   ]
  },
  {
   "cell_type": "code",
   "execution_count": 29,
   "id": "ff5dac1b",
   "metadata": {
    "ExecuteTime": {
     "end_time": "2022-09-08T19:19:40.539340Z",
     "start_time": "2022-09-08T19:19:40.443409Z"
    },
    "scrolled": true
   },
   "outputs": [],
   "source": [
    "actual_result = (df_drop_from_tree\n",
    "                 .sort_values(by=df_dups_from_tree.columns.to_list())\n",
    "                 .reset_index(drop=True))\n",
    "\n",
    "expected_result = (df_input.drop_duplicates()\n",
    "                   .sort_values(by=df_dups_from_tree.columns.to_list())\n",
    "                   .reset_index(drop=True))\n",
    "\n",
    "pd.testing.assert_frame_equal(actual_result, expected_result,\n",
    "                              check_column_type=False, \n",
    "                              check_index_type=False, \n",
    "                              check_dtype=False)"
   ]
  },
  {
   "cell_type": "code",
   "execution_count": null,
   "id": "23550654",
   "metadata": {},
   "outputs": [],
   "source": []
  },
  {
   "cell_type": "code",
   "execution_count": 30,
   "id": "86d5359c",
   "metadata": {
    "ExecuteTime": {
     "end_time": "2022-09-08T19:19:40.568267Z",
     "start_time": "2022-09-08T19:19:40.539340Z"
    }
   },
   "outputs": [],
   "source": [
    "# try:\n",
    "#     del tree\n",
    "# except NameError:\n",
    "#     pass"
   ]
  },
  {
   "cell_type": "code",
   "execution_count": null,
   "id": "c8a94dd4",
   "metadata": {},
   "outputs": [],
   "source": []
  }
 ],
 "metadata": {
  "kernelspec": {
   "display_name": "Python 3 (ipykernel)",
   "language": "python",
   "name": "python3"
  },
  "language_info": {
   "codemirror_mode": {
    "name": "ipython",
    "version": 3
   },
   "file_extension": ".py",
   "mimetype": "text/x-python",
   "name": "python",
   "nbconvert_exporter": "python",
   "pygments_lexer": "ipython3",
   "version": "3.9.12"
  },
  "toc": {
   "base_numbering": 1,
   "nav_menu": {},
   "number_sections": true,
   "sideBar": true,
   "skip_h1_title": false,
   "title_cell": "Table of Contents",
   "title_sidebar": "Contents",
   "toc_cell": false,
   "toc_position": {},
   "toc_section_display": true,
   "toc_window_display": false
  }
 },
 "nbformat": 4,
 "nbformat_minor": 5
}
