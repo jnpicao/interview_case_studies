{
 "cells": [
  {
   "cell_type": "code",
   "execution_count": 1,
   "id": "a8bbbd71",
   "metadata": {
    "ExecuteTime": {
     "end_time": "2022-09-08T10:37:24.088320Z",
     "start_time": "2022-09-08T10:37:23.403062Z"
    }
   },
   "outputs": [],
   "source": [
    "import os\n",
    "import csv\n",
    "\n",
    "import pandas as pd\n",
    "import json\n",
    "\n",
    "from utils_part2 import clean_csv, Node"
   ]
  },
  {
   "cell_type": "markdown",
   "id": "ccc797fa",
   "metadata": {},
   "source": [
    "## Configurations"
   ]
  },
  {
   "cell_type": "code",
   "execution_count": 2,
   "id": "f1fdcf30",
   "metadata": {
    "ExecuteTime": {
     "end_time": "2022-09-08T10:37:39.811181Z",
     "start_time": "2022-09-08T10:37:39.770409Z"
    }
   },
   "outputs": [],
   "source": [
    "input_file_path = os.path.join('.','input_data','algorithms part dataset.csv')\n",
    "clean_file = True"
   ]
  },
  {
   "cell_type": "code",
   "execution_count": 3,
   "id": "32e1e7f0",
   "metadata": {
    "ExecuteTime": {
     "end_time": "2022-09-08T10:37:41.961513Z",
     "start_time": "2022-09-08T10:37:40.658675Z"
    }
   },
   "outputs": [
    {
     "name": "stdout",
     "output_type": "stream",
     "text": [
      "============================= test session starts =============================\n",
      "platform win32 -- Python 3.9.12, pytest-7.1.1, pluggy-1.0.0\n",
      "rootdir: C:\\Users\\jpicao\\git_repos\\interview_case_studies\\part2\n",
      "plugins: anyio-3.5.0\n",
      "collected 2 items\n",
      "\n",
      "test_utils_part2.py ..                                                   [100%]\n",
      "\n",
      "============================== 2 passed in 0.54s ==============================\n"
     ]
    }
   ],
   "source": [
    "# Run unit tests\n",
    "!pytest"
   ]
  },
  {
   "cell_type": "markdown",
   "id": "c98502e0",
   "metadata": {},
   "source": [
    "# `Node()` class description"
   ]
  },
  {
   "cell_type": "markdown",
   "id": "e5999414",
   "metadata": {},
   "source": [
    "## `Node()` class attributes"
   ]
  },
  {
   "cell_type": "markdown",
   "id": "5151f45b",
   "metadata": {},
   "source": [
    "- `self.value`: The actual data or value in the instance. In this exercise this attribute will contain the values coming from the provided csv file (except the column names, which define the node type).\n",
    "- `self.node_type`: Describes the type of information that the instance represents. In this exercise, the node_types will be the different columns in the provided csv file. \n",
    "- `self.children`: A list containing the instance children. Children are also instances of type `Node()`.\n",
    "- `self.count_rows`: An integer counting the number of table rows that are represented by the sub-tree starting in the current node. If `self` is a leaf node, then `self.count_rows` is used to count the number of duplicates (i.e., `self.count_rows > 1` means duplicates were found), otherwise it is used mainly for internal validation of the tree structure.\n",
    "- `self.node_hierarchy`: Defines the children node hierarchy levels of the sub-tree starting in the current node. For example, in this exercise the root node will have `self.node_hierarchy = ['ID', 'GAME_NAME', 'BEHAVIOUR', 'PLAY_PURCHASE', 'NONE]`. It is probably an unnecessary attribute that over complicates the class, but didn't have time to refactor."
   ]
  },
  {
   "cell_type": "markdown",
   "id": "12af5c2a",
   "metadata": {},
   "source": [
    "## `Node()` class attributes"
   ]
  },
  {
   "cell_type": "code",
   "execution_count": null,
   "id": "bcd5bf97",
   "metadata": {},
   "outputs": [],
   "source": []
  },
  {
   "cell_type": "code",
   "execution_count": null,
   "id": "7a316061",
   "metadata": {},
   "outputs": [],
   "source": []
  },
  {
   "cell_type": "code",
   "execution_count": null,
   "id": "c79226f0",
   "metadata": {},
   "outputs": [],
   "source": []
  },
  {
   "cell_type": "code",
   "execution_count": null,
   "id": "99fedae1",
   "metadata": {},
   "outputs": [],
   "source": []
  },
  {
   "cell_type": "code",
   "execution_count": null,
   "id": "c10ac1d1",
   "metadata": {},
   "outputs": [],
   "source": []
  },
  {
   "cell_type": "markdown",
   "id": "d2e689e9",
   "metadata": {},
   "source": [
    "# Compare result with pandas"
   ]
  },
  {
   "cell_type": "code",
   "execution_count": 4,
   "id": "06ccf5f3",
   "metadata": {
    "ExecuteTime": {
     "end_time": "2022-09-08T10:37:46.928974Z",
     "start_time": "2022-09-08T10:37:46.903532Z"
    }
   },
   "outputs": [
    {
     "data": {
      "text/plain": [
       "'.\\\\input_data\\\\algorithms part dataset.csv'"
      ]
     },
     "execution_count": 4,
     "metadata": {},
     "output_type": "execute_result"
    }
   ],
   "source": [
    "input_file_path"
   ]
  },
  {
   "cell_type": "code",
   "execution_count": 5,
   "id": "b3bf156f",
   "metadata": {
    "ExecuteTime": {
     "end_time": "2022-09-08T10:37:51.530155Z",
     "start_time": "2022-09-08T10:37:49.133755Z"
    }
   },
   "outputs": [],
   "source": [
    "if clean_file:\n",
    "    clean_csv(input_file_path)\n",
    "    input_file_path = input_file_path.replace('.csv', '_cln.csv')"
   ]
  },
  {
   "cell_type": "code",
   "execution_count": 6,
   "id": "cb91aa99",
   "metadata": {
    "ExecuteTime": {
     "end_time": "2022-09-08T10:37:52.246501Z",
     "start_time": "2022-09-08T10:37:52.230774Z"
    }
   },
   "outputs": [
    {
     "data": {
      "text/plain": [
       "'.\\\\input_data\\\\algorithms part dataset_cln.csv'"
      ]
     },
     "execution_count": 6,
     "metadata": {},
     "output_type": "execute_result"
    }
   ],
   "source": [
    "input_file_path"
   ]
  },
  {
   "cell_type": "code",
   "execution_count": 7,
   "id": "90942771",
   "metadata": {
    "ExecuteTime": {
     "end_time": "2022-09-08T10:38:05.413200Z",
     "start_time": "2022-09-08T10:38:05.266214Z"
    }
   },
   "outputs": [],
   "source": [
    "df_input = pd.read_csv(input_file_path).iloc[:1000,:]"
   ]
  },
  {
   "cell_type": "code",
   "execution_count": 8,
   "id": "b71bc7d1",
   "metadata": {
    "ExecuteTime": {
     "end_time": "2022-09-08T10:38:06.277139Z",
     "start_time": "2022-09-08T10:38:06.225682Z"
    }
   },
   "outputs": [
    {
     "data": {
      "text/html": [
       "<div>\n",
       "<style scoped>\n",
       "    .dataframe tbody tr th:only-of-type {\n",
       "        vertical-align: middle;\n",
       "    }\n",
       "\n",
       "    .dataframe tbody tr th {\n",
       "        vertical-align: top;\n",
       "    }\n",
       "\n",
       "    .dataframe thead th {\n",
       "        text-align: right;\n",
       "    }\n",
       "</style>\n",
       "<table border=\"1\" class=\"dataframe\">\n",
       "  <thead>\n",
       "    <tr style=\"text-align: right;\">\n",
       "      <th></th>\n",
       "      <th>ID</th>\n",
       "      <th>GAME_NAME</th>\n",
       "      <th>BEHAVIOUR</th>\n",
       "      <th>PLAY_PURCHASE</th>\n",
       "      <th>NONE</th>\n",
       "    </tr>\n",
       "  </thead>\n",
       "  <tbody>\n",
       "    <tr>\n",
       "      <th>0</th>\n",
       "      <td>151603712</td>\n",
       "      <td>The Elder Scrolls V Skyrim</td>\n",
       "      <td>purchase</td>\n",
       "      <td>1.0</td>\n",
       "      <td>0</td>\n",
       "    </tr>\n",
       "    <tr>\n",
       "      <th>1</th>\n",
       "      <td>151603712</td>\n",
       "      <td>The Elder Scrolls V Skyrim</td>\n",
       "      <td>play</td>\n",
       "      <td>273.0</td>\n",
       "      <td>0</td>\n",
       "    </tr>\n",
       "    <tr>\n",
       "      <th>2</th>\n",
       "      <td>151603712</td>\n",
       "      <td>Fallout 4</td>\n",
       "      <td>purchase</td>\n",
       "      <td>1.0</td>\n",
       "      <td>0</td>\n",
       "    </tr>\n",
       "    <tr>\n",
       "      <th>3</th>\n",
       "      <td>151603712</td>\n",
       "      <td>Fallout 4</td>\n",
       "      <td>play</td>\n",
       "      <td>87.0</td>\n",
       "      <td>0</td>\n",
       "    </tr>\n",
       "    <tr>\n",
       "      <th>4</th>\n",
       "      <td>151603712</td>\n",
       "      <td>Spore</td>\n",
       "      <td>purchase</td>\n",
       "      <td>1.0</td>\n",
       "      <td>0</td>\n",
       "    </tr>\n",
       "    <tr>\n",
       "      <th>...</th>\n",
       "      <td>...</td>\n",
       "      <td>...</td>\n",
       "      <td>...</td>\n",
       "      <td>...</td>\n",
       "      <td>...</td>\n",
       "    </tr>\n",
       "    <tr>\n",
       "      <th>995</th>\n",
       "      <td>97298878</td>\n",
       "      <td>Burnout Paradise The Ultimate Box</td>\n",
       "      <td>play</td>\n",
       "      <td>0.6</td>\n",
       "      <td>0</td>\n",
       "    </tr>\n",
       "    <tr>\n",
       "      <th>996</th>\n",
       "      <td>97298878</td>\n",
       "      <td>Mirror's Edge</td>\n",
       "      <td>purchase</td>\n",
       "      <td>1.0</td>\n",
       "      <td>0</td>\n",
       "    </tr>\n",
       "    <tr>\n",
       "      <th>997</th>\n",
       "      <td>97298878</td>\n",
       "      <td>Mirror's Edge</td>\n",
       "      <td>play</td>\n",
       "      <td>0.5</td>\n",
       "      <td>0</td>\n",
       "    </tr>\n",
       "    <tr>\n",
       "      <th>998</th>\n",
       "      <td>97298878</td>\n",
       "      <td>Crysis 2 Maximum Edition</td>\n",
       "      <td>purchase</td>\n",
       "      <td>1.0</td>\n",
       "      <td>0</td>\n",
       "    </tr>\n",
       "    <tr>\n",
       "      <th>999</th>\n",
       "      <td>97298878</td>\n",
       "      <td>Crysis 2 Maximum Edition</td>\n",
       "      <td>play</td>\n",
       "      <td>0.5</td>\n",
       "      <td>0</td>\n",
       "    </tr>\n",
       "  </tbody>\n",
       "</table>\n",
       "<p>1000 rows × 5 columns</p>\n",
       "</div>"
      ],
      "text/plain": [
       "            ID                          GAME_NAME BEHAVIOUR  PLAY_PURCHASE  \\\n",
       "0    151603712         The Elder Scrolls V Skyrim  purchase            1.0   \n",
       "1    151603712         The Elder Scrolls V Skyrim      play          273.0   \n",
       "2    151603712                          Fallout 4  purchase            1.0   \n",
       "3    151603712                          Fallout 4      play           87.0   \n",
       "4    151603712                              Spore  purchase            1.0   \n",
       "..         ...                                ...       ...            ...   \n",
       "995   97298878  Burnout Paradise The Ultimate Box      play            0.6   \n",
       "996   97298878                      Mirror's Edge  purchase            1.0   \n",
       "997   97298878                      Mirror's Edge      play            0.5   \n",
       "998   97298878           Crysis 2 Maximum Edition  purchase            1.0   \n",
       "999   97298878           Crysis 2 Maximum Edition      play            0.5   \n",
       "\n",
       "     NONE  \n",
       "0       0  \n",
       "1       0  \n",
       "2       0  \n",
       "3       0  \n",
       "4       0  \n",
       "..    ...  \n",
       "995     0  \n",
       "996     0  \n",
       "997     0  \n",
       "998     0  \n",
       "999     0  \n",
       "\n",
       "[1000 rows x 5 columns]"
      ]
     },
     "execution_count": 8,
     "metadata": {},
     "output_type": "execute_result"
    }
   ],
   "source": [
    "df_input"
   ]
  },
  {
   "cell_type": "code",
   "execution_count": 9,
   "id": "73bc91ce",
   "metadata": {
    "ExecuteTime": {
     "end_time": "2022-09-08T10:38:09.332316Z",
     "start_time": "2022-09-08T10:38:09.316946Z"
    }
   },
   "outputs": [],
   "source": [
    "try:\n",
    "    del tree\n",
    "except NameError:\n",
    "    pass\n",
    "\n",
    "tree = Node(df_input.columns.to_list())"
   ]
  },
  {
   "cell_type": "code",
   "execution_count": 10,
   "id": "cf4a7453",
   "metadata": {
    "ExecuteTime": {
     "end_time": "2022-09-08T10:38:11.299605Z",
     "start_time": "2022-09-08T10:38:10.201797Z"
    }
   },
   "outputs": [],
   "source": [
    "tree.add_table(df_input)"
   ]
  },
  {
   "cell_type": "code",
   "execution_count": 11,
   "id": "aa00d43a",
   "metadata": {
    "ExecuteTime": {
     "end_time": "2022-09-08T10:38:12.238898Z",
     "start_time": "2022-09-08T10:38:12.032761Z"
    }
   },
   "outputs": [],
   "source": [
    "df_out = tree.tree_to_df(duplicates ='drop')"
   ]
  },
  {
   "cell_type": "code",
   "execution_count": 12,
   "id": "be9ae1d1",
   "metadata": {
    "ExecuteTime": {
     "end_time": "2022-09-08T10:38:13.220084Z",
     "start_time": "2022-09-08T10:38:13.188142Z"
    }
   },
   "outputs": [
    {
     "data": {
      "text/html": [
       "<div>\n",
       "<style scoped>\n",
       "    .dataframe tbody tr th:only-of-type {\n",
       "        vertical-align: middle;\n",
       "    }\n",
       "\n",
       "    .dataframe tbody tr th {\n",
       "        vertical-align: top;\n",
       "    }\n",
       "\n",
       "    .dataframe thead th {\n",
       "        text-align: right;\n",
       "    }\n",
       "</style>\n",
       "<table border=\"1\" class=\"dataframe\">\n",
       "  <thead>\n",
       "    <tr style=\"text-align: right;\">\n",
       "      <th></th>\n",
       "      <th>ID</th>\n",
       "      <th>GAME_NAME</th>\n",
       "      <th>BEHAVIOUR</th>\n",
       "      <th>PLAY_PURCHASE</th>\n",
       "      <th>NONE</th>\n",
       "    </tr>\n",
       "  </thead>\n",
       "  <tbody>\n",
       "    <tr>\n",
       "      <th>0</th>\n",
       "      <td>151603712</td>\n",
       "      <td>The Elder Scrolls V Skyrim</td>\n",
       "      <td>purchase</td>\n",
       "      <td>1.0</td>\n",
       "      <td>0</td>\n",
       "    </tr>\n",
       "    <tr>\n",
       "      <th>1</th>\n",
       "      <td>151603712</td>\n",
       "      <td>The Elder Scrolls V Skyrim</td>\n",
       "      <td>play</td>\n",
       "      <td>273.0</td>\n",
       "      <td>0</td>\n",
       "    </tr>\n",
       "    <tr>\n",
       "      <th>2</th>\n",
       "      <td>151603712</td>\n",
       "      <td>Fallout 4</td>\n",
       "      <td>purchase</td>\n",
       "      <td>1.0</td>\n",
       "      <td>0</td>\n",
       "    </tr>\n",
       "    <tr>\n",
       "      <th>3</th>\n",
       "      <td>151603712</td>\n",
       "      <td>Fallout 4</td>\n",
       "      <td>play</td>\n",
       "      <td>87.0</td>\n",
       "      <td>0</td>\n",
       "    </tr>\n",
       "    <tr>\n",
       "      <th>4</th>\n",
       "      <td>151603712</td>\n",
       "      <td>Spore</td>\n",
       "      <td>purchase</td>\n",
       "      <td>1.0</td>\n",
       "      <td>0</td>\n",
       "    </tr>\n",
       "    <tr>\n",
       "      <th>...</th>\n",
       "      <td>...</td>\n",
       "      <td>...</td>\n",
       "      <td>...</td>\n",
       "      <td>...</td>\n",
       "      <td>...</td>\n",
       "    </tr>\n",
       "    <tr>\n",
       "      <th>995</th>\n",
       "      <td>97298878</td>\n",
       "      <td>Burnout Paradise The Ultimate Box</td>\n",
       "      <td>play</td>\n",
       "      <td>0.6</td>\n",
       "      <td>0</td>\n",
       "    </tr>\n",
       "    <tr>\n",
       "      <th>996</th>\n",
       "      <td>97298878</td>\n",
       "      <td>Mirror's Edge</td>\n",
       "      <td>purchase</td>\n",
       "      <td>1.0</td>\n",
       "      <td>0</td>\n",
       "    </tr>\n",
       "    <tr>\n",
       "      <th>997</th>\n",
       "      <td>97298878</td>\n",
       "      <td>Mirror's Edge</td>\n",
       "      <td>play</td>\n",
       "      <td>0.5</td>\n",
       "      <td>0</td>\n",
       "    </tr>\n",
       "    <tr>\n",
       "      <th>998</th>\n",
       "      <td>97298878</td>\n",
       "      <td>Crysis 2 Maximum Edition</td>\n",
       "      <td>purchase</td>\n",
       "      <td>1.0</td>\n",
       "      <td>0</td>\n",
       "    </tr>\n",
       "    <tr>\n",
       "      <th>999</th>\n",
       "      <td>97298878</td>\n",
       "      <td>Crysis 2 Maximum Edition</td>\n",
       "      <td>play</td>\n",
       "      <td>0.5</td>\n",
       "      <td>0</td>\n",
       "    </tr>\n",
       "  </tbody>\n",
       "</table>\n",
       "<p>1000 rows × 5 columns</p>\n",
       "</div>"
      ],
      "text/plain": [
       "            ID                          GAME_NAME BEHAVIOUR  PLAY_PURCHASE  \\\n",
       "0    151603712         The Elder Scrolls V Skyrim  purchase            1.0   \n",
       "1    151603712         The Elder Scrolls V Skyrim      play          273.0   \n",
       "2    151603712                          Fallout 4  purchase            1.0   \n",
       "3    151603712                          Fallout 4      play           87.0   \n",
       "4    151603712                              Spore  purchase            1.0   \n",
       "..         ...                                ...       ...            ...   \n",
       "995   97298878  Burnout Paradise The Ultimate Box      play            0.6   \n",
       "996   97298878                      Mirror's Edge  purchase            1.0   \n",
       "997   97298878                      Mirror's Edge      play            0.5   \n",
       "998   97298878           Crysis 2 Maximum Edition  purchase            1.0   \n",
       "999   97298878           Crysis 2 Maximum Edition      play            0.5   \n",
       "\n",
       "     NONE  \n",
       "0       0  \n",
       "1       0  \n",
       "2       0  \n",
       "3       0  \n",
       "4       0  \n",
       "..    ...  \n",
       "995     0  \n",
       "996     0  \n",
       "997     0  \n",
       "998     0  \n",
       "999     0  \n",
       "\n",
       "[1000 rows x 5 columns]"
      ]
     },
     "execution_count": 12,
     "metadata": {},
     "output_type": "execute_result"
    }
   ],
   "source": [
    "df_out"
   ]
  },
  {
   "cell_type": "code",
   "execution_count": 13,
   "id": "80e22937",
   "metadata": {
    "ExecuteTime": {
     "end_time": "2022-09-08T10:38:14.884966Z",
     "start_time": "2022-09-08T10:38:14.827700Z"
    }
   },
   "outputs": [],
   "source": [
    "pd.testing.assert_frame_equal(df_out, df_input.drop_duplicates().reset_index(drop=True))"
   ]
  },
  {
   "cell_type": "code",
   "execution_count": null,
   "id": "6eb8c1c1",
   "metadata": {},
   "outputs": [],
   "source": []
  },
  {
   "cell_type": "code",
   "execution_count": null,
   "id": "87c6dfdc",
   "metadata": {},
   "outputs": [],
   "source": []
  },
  {
   "cell_type": "code",
   "execution_count": null,
   "id": "1058980d",
   "metadata": {},
   "outputs": [],
   "source": []
  },
  {
   "cell_type": "code",
   "execution_count": null,
   "id": "d7212f57",
   "metadata": {},
   "outputs": [],
   "source": []
  },
  {
   "cell_type": "code",
   "execution_count": null,
   "id": "4a49996d",
   "metadata": {},
   "outputs": [],
   "source": []
  },
  {
   "cell_type": "code",
   "execution_count": null,
   "id": "3339bcc7",
   "metadata": {},
   "outputs": [],
   "source": [
    "row_values_dict = {a:'', }.values()"
   ]
  },
  {
   "cell_type": "code",
   "execution_count": null,
   "id": "edb6736d",
   "metadata": {},
   "outputs": [],
   "source": [
    "row_str = ','.join(str(value) for value in row_values_dict.values()) + '\\n'"
   ]
  },
  {
   "cell_type": "code",
   "execution_count": null,
   "id": "84a226c8",
   "metadata": {},
   "outputs": [],
   "source": [
    "[53875128,Sir, You Are Being Hunted,purchase,1.0,0]"
   ]
  },
  {
   "cell_type": "code",
   "execution_count": 25,
   "id": "0822eb06",
   "metadata": {
    "ExecuteTime": {
     "end_time": "2022-09-07T21:53:33.210027Z",
     "start_time": "2022-09-07T21:53:33.188726Z"
    }
   },
   "outputs": [
    {
     "data": {
      "text/plain": [
       "'1,3,4'"
      ]
     },
     "execution_count": 25,
     "metadata": {},
     "output_type": "execute_result"
    }
   ],
   "source": [
    "','.join(['1', '3', '4'])"
   ]
  },
  {
   "cell_type": "code",
   "execution_count": null,
   "id": "3ca129df",
   "metadata": {},
   "outputs": [],
   "source": []
  },
  {
   "cell_type": "code",
   "execution_count": null,
   "id": "bf74db17",
   "metadata": {
    "ExecuteTime": {
     "end_time": "2022-09-07T14:48:11.542303Z",
     "start_time": "2022-09-07T14:48:11.515011Z"
    }
   },
   "outputs": [],
   "source": [
    "del tree\n",
    "tree = Node(df_easy.columns.to_list())"
   ]
  },
  {
   "cell_type": "code",
   "execution_count": null,
   "id": "1841efd2",
   "metadata": {
    "ExecuteTime": {
     "end_time": "2022-09-07T14:48:11.559122Z",
     "start_time": "2022-09-07T14:48:11.543480Z"
    }
   },
   "outputs": [],
   "source": [
    "tree.add_table(df_easy)"
   ]
  },
  {
   "cell_type": "code",
   "execution_count": null,
   "id": "6e4c3510",
   "metadata": {
    "ExecuteTime": {
     "end_time": "2022-09-07T14:48:11.576410Z",
     "start_time": "2022-09-07T14:48:11.560645Z"
    }
   },
   "outputs": [],
   "source": [
    "tree.print_tree()"
   ]
  },
  {
   "cell_type": "code",
   "execution_count": null,
   "id": "8192155c",
   "metadata": {
    "ExecuteTime": {
     "end_time": "2022-09-07T14:48:11.592688Z",
     "start_time": "2022-09-07T14:48:11.576909Z"
    }
   },
   "outputs": [],
   "source": [
    "tree.print_table(duplicates='ignore')"
   ]
  },
  {
   "cell_type": "code",
   "execution_count": null,
   "id": "8959af21",
   "metadata": {
    "ExecuteTime": {
     "end_time": "2022-09-07T14:48:39.765628Z",
     "start_time": "2022-09-07T14:48:39.733441Z"
    }
   },
   "outputs": [],
   "source": [
    "tree.tree_to_df(duplicates ='ignore')"
   ]
  },
  {
   "cell_type": "code",
   "execution_count": null,
   "id": "0560806b",
   "metadata": {
    "ExecuteTime": {
     "end_time": "2022-09-07T14:48:11.634895Z",
     "start_time": "2022-09-07T14:48:11.618054Z"
    }
   },
   "outputs": [],
   "source": [
    "df_3"
   ]
  },
  {
   "cell_type": "code",
   "execution_count": null,
   "id": "731f3639",
   "metadata": {},
   "outputs": [],
   "source": []
  },
  {
   "cell_type": "code",
   "execution_count": null,
   "id": "253abf7a",
   "metadata": {},
   "outputs": [],
   "source": []
  },
  {
   "cell_type": "code",
   "execution_count": null,
   "id": "fa42c432",
   "metadata": {},
   "outputs": [],
   "source": []
  },
  {
   "cell_type": "code",
   "execution_count": null,
   "id": "699a4d51",
   "metadata": {},
   "outputs": [],
   "source": []
  },
  {
   "cell_type": "code",
   "execution_count": null,
   "id": "a1d54758",
   "metadata": {},
   "outputs": [],
   "source": []
  },
  {
   "cell_type": "code",
   "execution_count": null,
   "id": "6e1ae569",
   "metadata": {},
   "outputs": [],
   "source": []
  },
  {
   "cell_type": "code",
   "execution_count": null,
   "id": "9ef97cdf",
   "metadata": {},
   "outputs": [],
   "source": []
  },
  {
   "cell_type": "code",
   "execution_count": null,
   "id": "1e4f8a7a",
   "metadata": {},
   "outputs": [],
   "source": []
  },
  {
   "cell_type": "code",
   "execution_count": 59,
   "id": "c1a806dd",
   "metadata": {
    "ExecuteTime": {
     "end_time": "2022-09-07T18:55:19.432176Z",
     "start_time": "2022-09-07T18:55:18.426734Z"
    },
    "scrolled": false
   },
   "outputs": [],
   "source": [
    "input_file_path = os.path.join('.','input_data','algorithms part dataset.csv')\n",
    "clean_csv_4(input_file_path)"
   ]
  },
  {
   "cell_type": "code",
   "execution_count": 51,
   "id": "f493c2d2",
   "metadata": {
    "ExecuteTime": {
     "end_time": "2022-09-07T18:52:50.441290Z",
     "start_time": "2022-09-07T18:52:50.397964Z"
    }
   },
   "outputs": [],
   "source": [
    "line = 'ID,GAME_NAME,BEHAVIOUR,PLAY_PURCHASE,NONE;\\r\\n'\n",
    "line = '\"151603712,\"\"The Elder Scrolls V Skyrim\"\",purchase,1.0,0\";\\r\\n'"
   ]
  },
  {
   "cell_type": "code",
   "execution_count": 52,
   "id": "38089c61",
   "metadata": {
    "ExecuteTime": {
     "end_time": "2022-09-07T18:52:51.273684Z",
     "start_time": "2022-09-07T18:52:51.258056Z"
    }
   },
   "outputs": [],
   "source": [
    "cln_row = line\n",
    "cln_row = re.sub(r'^\"', '', cln_row)\n",
    "cln_row = re.sub(r'\\r\\n$', r'\\n', cln_row)\n",
    "cln_row = re.sub(r'\";$', '', cln_row)"
   ]
  },
  {
   "cell_type": "code",
   "execution_count": 53,
   "id": "4854ce61",
   "metadata": {
    "ExecuteTime": {
     "end_time": "2022-09-07T18:52:52.196128Z",
     "start_time": "2022-09-07T18:52:52.180447Z"
    }
   },
   "outputs": [
    {
     "data": {
      "text/plain": [
       "'151603712,\"\"The Elder Scrolls V Skyrim\"\",purchase,1.0,0\\n'"
      ]
     },
     "execution_count": 53,
     "metadata": {},
     "output_type": "execute_result"
    }
   ],
   "source": [
    "cln_row"
   ]
  },
  {
   "cell_type": "code",
   "execution_count": null,
   "id": "03a8648a",
   "metadata": {},
   "outputs": [],
   "source": []
  },
  {
   "cell_type": "code",
   "execution_count": null,
   "id": "9742927b",
   "metadata": {},
   "outputs": [],
   "source": []
  },
  {
   "cell_type": "code",
   "execution_count": 13,
   "id": "99809f75",
   "metadata": {
    "ExecuteTime": {
     "end_time": "2022-09-07T18:26:32.787062Z",
     "start_time": "2022-09-07T18:26:32.754465Z"
    }
   },
   "outputs": [],
   "source": [
    "    with open('ahjdvcj.csv', 'w', newline='') as csvfile:\n",
    "        # writer = csv.writer(csvfile, delimiter=',', quotechar='\"', quoting=csv.QUOTE_MINIMAL)\n",
    "        writer = csv.writer(csvfile, delimiter=',')\n",
    "        \n",
    "        for row in final_list_of_rows[:10]:\n",
    "            writer.writerow(row)"
   ]
  },
  {
   "cell_type": "code",
   "execution_count": null,
   "id": "10d23c7e",
   "metadata": {},
   "outputs": [],
   "source": []
  },
  {
   "cell_type": "code",
   "execution_count": null,
   "id": "dbcdac46",
   "metadata": {
    "ExecuteTime": {
     "end_time": "2022-09-07T17:51:20.814415Z",
     "start_time": "2022-09-07T17:51:20.794313Z"
    }
   },
   "outputs": [],
   "source": [
    "len(row)"
   ]
  },
  {
   "cell_type": "code",
   "execution_count": 22,
   "id": "2721d1da",
   "metadata": {
    "ExecuteTime": {
     "end_time": "2022-09-07T18:36:23.885003Z",
     "start_time": "2022-09-07T18:36:23.857178Z"
    }
   },
   "outputs": [],
   "source": [
    "import re"
   ]
  },
  {
   "cell_type": "code",
   "execution_count": 44,
   "id": "ea432649",
   "metadata": {
    "ExecuteTime": {
     "end_time": "2022-09-07T18:49:05.965655Z",
     "start_time": "2022-09-07T18:49:05.925126Z"
    }
   },
   "outputs": [
    {
     "data": {
      "text/plain": [
       "'\"151603712,\"\"The Elder Scrolls V Skyrim\"\",purchase,1.0,0'"
      ]
     },
     "execution_count": 44,
     "metadata": {},
     "output_type": "execute_result"
    }
   ],
   "source": [
    "re.sub(r'\";\\r\\n$', r'', '\"151603712,\"\"The Elder Scrolls V Skyrim\"\",purchase,1.0,0\";\\r\\n')"
   ]
  },
  {
   "cell_type": "code",
   "execution_count": null,
   "id": "484fe69a",
   "metadata": {},
   "outputs": [],
   "source": [
    "re.sub(r'^\"', '', '\"\"BioShoock\"\"')"
   ]
  },
  {
   "cell_type": "code",
   "execution_count": 24,
   "id": "b2a589f4",
   "metadata": {
    "ExecuteTime": {
     "end_time": "2022-09-07T18:36:45.779569Z",
     "start_time": "2022-09-07T18:36:45.743200Z"
    }
   },
   "outputs": [
    {
     "data": {
      "text/plain": [
       "'\"BioShoock\"\"'"
      ]
     },
     "execution_count": 24,
     "metadata": {},
     "output_type": "execute_result"
    }
   ],
   "source": [
    "re.sub(r'^\"', '', '\"\"BioShoock\"\"')"
   ]
  },
  {
   "cell_type": "code",
   "execution_count": null,
   "id": "1d2e0220",
   "metadata": {
    "ExecuteTime": {
     "end_time": "2022-09-07T18:07:27.176864Z",
     "start_time": "2022-09-07T18:07:27.157735Z"
    }
   },
   "outputs": [],
   "source": [
    "re.sub(r'\"{1}(?=\\w*)','','\"53875128')"
   ]
  },
  {
   "cell_type": "code",
   "execution_count": null,
   "id": "36f72616",
   "metadata": {
    "ExecuteTime": {
     "end_time": "2022-09-07T18:11:33.970161Z",
     "start_time": "2022-09-07T18:11:33.955554Z"
    }
   },
   "outputs": [],
   "source": [
    "re.sub(r'\"{1}(?=.+^\")','','\"53875128')"
   ]
  },
  {
   "cell_type": "code",
   "execution_count": null,
   "id": "e967e2e8",
   "metadata": {},
   "outputs": [],
   "source": [
    "re.sub(r'\"{1}(?=.+)^[\"]','','\"53875128')"
   ]
  },
  {
   "cell_type": "code",
   "execution_count": null,
   "id": "e0b3c1cb",
   "metadata": {},
   "outputs": [],
   "source": [
    "(?=u)"
   ]
  },
  {
   "cell_type": "code",
   "execution_count": null,
   "id": "b76422fc",
   "metadata": {
    "ExecuteTime": {
     "end_time": "2022-09-07T17:50:45.360043Z",
     "start_time": "2022-09-07T17:50:45.334522Z"
    }
   },
   "outputs": [],
   "source": [
    "row[3]"
   ]
  },
  {
   "cell_type": "code",
   "execution_count": null,
   "id": "57196994",
   "metadata": {},
   "outputs": [],
   "source": []
  },
  {
   "cell_type": "code",
   "execution_count": 6,
   "id": "2efd7be0",
   "metadata": {
    "ExecuteTime": {
     "end_time": "2022-09-07T18:22:21.061705Z",
     "start_time": "2022-09-07T18:22:20.858710Z"
    }
   },
   "outputs": [],
   "source": [
    "\n",
    "with open(input_file_path, newline='') as csvfile:\n",
    "    reader = csv.reader(csvfile, quotechar='\"', delimiter=',', quoting=csv.QUOTE_NONE)\n",
    "    \n",
    "    # Initializations\n",
    "    final_list_of_rows = []\n",
    "    i = 0\n",
    "\n",
    "    for row in reader:\n",
    "        i += 1\n",
    "        if i>375 and i<385:\n",
    "            row_cln = row.copy()\n",
    "            if len(row_cln) == 0:\n",
    "                # empty row\n",
    "                continue\n",
    "            else:\n",
    "                final_list_of_rows.append(row_cln[1:-2])       \n",
    "#         i += 1\n",
    "        \n",
    "#         if i>375 and i<385:\n",
    "#             print(type(row), ': ', row)\n",
    "    "
   ]
  },
  {
   "cell_type": "code",
   "execution_count": null,
   "id": "94666ea1",
   "metadata": {
    "ExecuteTime": {
     "end_time": "2022-09-07T17:49:14.618817Z",
     "start_time": "2022-09-07T17:49:14.574009Z"
    }
   },
   "outputs": [],
   "source": [
    "final_list_of_rows"
   ]
  },
  {
   "cell_type": "code",
   "execution_count": null,
   "id": "7360df90",
   "metadata": {
    "ExecuteTime": {
     "end_time": "2022-09-07T17:51:05.888548Z",
     "start_time": "2022-09-07T17:51:05.664158Z"
    }
   },
   "outputs": [],
   "source": [
    "pd.read_csv(input_file_path)"
   ]
  },
  {
   "cell_type": "code",
   "execution_count": null,
   "id": "4aefe058",
   "metadata": {},
   "outputs": [],
   "source": []
  },
  {
   "cell_type": "code",
   "execution_count": null,
   "id": "d2eb26e8",
   "metadata": {},
   "outputs": [],
   "source": []
  },
  {
   "cell_type": "code",
   "execution_count": null,
   "id": "1b7e4927",
   "metadata": {},
   "outputs": [],
   "source": []
  },
  {
   "cell_type": "code",
   "execution_count": 3,
   "id": "06f16282",
   "metadata": {
    "ExecuteTime": {
     "end_time": "2022-09-07T18:20:55.680308Z",
     "start_time": "2022-09-07T18:20:54.927784Z"
    }
   },
   "outputs": [],
   "source": [
    "if clean_file:\n",
    "    clean_csv_3(input_file_path)\n",
    "    input_file_path = input_file_path.replace('.csv', '_cln.csv')"
   ]
  },
  {
   "cell_type": "code",
   "execution_count": 4,
   "id": "000cf3fb",
   "metadata": {
    "ExecuteTime": {
     "end_time": "2022-09-07T18:20:57.286164Z",
     "start_time": "2022-09-07T18:20:57.257692Z"
    }
   },
   "outputs": [
    {
     "data": {
      "text/plain": [
       "'.\\\\input_data\\\\algorithms part dataset_cln.csv'"
      ]
     },
     "execution_count": 4,
     "metadata": {},
     "output_type": "execute_result"
    }
   ],
   "source": [
    "input_file_path"
   ]
  },
  {
   "cell_type": "code",
   "execution_count": 5,
   "id": "f337345e",
   "metadata": {
    "ExecuteTime": {
     "end_time": "2022-09-07T18:20:58.916027Z",
     "start_time": "2022-09-07T18:20:58.200809Z"
    }
   },
   "outputs": [
    {
     "ename": "ParserError",
     "evalue": "Error tokenizing data. C error: Expected 5 fields in line 379, saw 6\n",
     "output_type": "error",
     "traceback": [
      "\u001b[1;31m---------------------------------------------------------------------------\u001b[0m",
      "\u001b[1;31mParserError\u001b[0m                               Traceback (most recent call last)",
      "Input \u001b[1;32mIn [5]\u001b[0m, in \u001b[0;36m<cell line: 1>\u001b[1;34m()\u001b[0m\n\u001b[1;32m----> 1\u001b[0m df_in \u001b[38;5;241m=\u001b[39m \u001b[43mpd\u001b[49m\u001b[38;5;241;43m.\u001b[39;49m\u001b[43mread_csv\u001b[49m\u001b[43m(\u001b[49m\u001b[43minput_file_path\u001b[49m\u001b[43m)\u001b[49m\n",
      "File \u001b[1;32m~\\anaconda3\\envs\\ml\\lib\\site-packages\\pandas\\util\\_decorators.py:311\u001b[0m, in \u001b[0;36mdeprecate_nonkeyword_arguments.<locals>.decorate.<locals>.wrapper\u001b[1;34m(*args, **kwargs)\u001b[0m\n\u001b[0;32m    305\u001b[0m \u001b[38;5;28;01mif\u001b[39;00m \u001b[38;5;28mlen\u001b[39m(args) \u001b[38;5;241m>\u001b[39m num_allow_args:\n\u001b[0;32m    306\u001b[0m     warnings\u001b[38;5;241m.\u001b[39mwarn(\n\u001b[0;32m    307\u001b[0m         msg\u001b[38;5;241m.\u001b[39mformat(arguments\u001b[38;5;241m=\u001b[39marguments),\n\u001b[0;32m    308\u001b[0m         \u001b[38;5;167;01mFutureWarning\u001b[39;00m,\n\u001b[0;32m    309\u001b[0m         stacklevel\u001b[38;5;241m=\u001b[39mstacklevel,\n\u001b[0;32m    310\u001b[0m     )\n\u001b[1;32m--> 311\u001b[0m \u001b[38;5;28;01mreturn\u001b[39;00m func(\u001b[38;5;241m*\u001b[39margs, \u001b[38;5;241m*\u001b[39m\u001b[38;5;241m*\u001b[39mkwargs)\n",
      "File \u001b[1;32m~\\anaconda3\\envs\\ml\\lib\\site-packages\\pandas\\io\\parsers\\readers.py:680\u001b[0m, in \u001b[0;36mread_csv\u001b[1;34m(filepath_or_buffer, sep, delimiter, header, names, index_col, usecols, squeeze, prefix, mangle_dupe_cols, dtype, engine, converters, true_values, false_values, skipinitialspace, skiprows, skipfooter, nrows, na_values, keep_default_na, na_filter, verbose, skip_blank_lines, parse_dates, infer_datetime_format, keep_date_col, date_parser, dayfirst, cache_dates, iterator, chunksize, compression, thousands, decimal, lineterminator, quotechar, quoting, doublequote, escapechar, comment, encoding, encoding_errors, dialect, error_bad_lines, warn_bad_lines, on_bad_lines, delim_whitespace, low_memory, memory_map, float_precision, storage_options)\u001b[0m\n\u001b[0;32m    665\u001b[0m kwds_defaults \u001b[38;5;241m=\u001b[39m _refine_defaults_read(\n\u001b[0;32m    666\u001b[0m     dialect,\n\u001b[0;32m    667\u001b[0m     delimiter,\n\u001b[1;32m   (...)\u001b[0m\n\u001b[0;32m    676\u001b[0m     defaults\u001b[38;5;241m=\u001b[39m{\u001b[38;5;124m\"\u001b[39m\u001b[38;5;124mdelimiter\u001b[39m\u001b[38;5;124m\"\u001b[39m: \u001b[38;5;124m\"\u001b[39m\u001b[38;5;124m,\u001b[39m\u001b[38;5;124m\"\u001b[39m},\n\u001b[0;32m    677\u001b[0m )\n\u001b[0;32m    678\u001b[0m kwds\u001b[38;5;241m.\u001b[39mupdate(kwds_defaults)\n\u001b[1;32m--> 680\u001b[0m \u001b[38;5;28;01mreturn\u001b[39;00m \u001b[43m_read\u001b[49m\u001b[43m(\u001b[49m\u001b[43mfilepath_or_buffer\u001b[49m\u001b[43m,\u001b[49m\u001b[43m \u001b[49m\u001b[43mkwds\u001b[49m\u001b[43m)\u001b[49m\n",
      "File \u001b[1;32m~\\anaconda3\\envs\\ml\\lib\\site-packages\\pandas\\io\\parsers\\readers.py:581\u001b[0m, in \u001b[0;36m_read\u001b[1;34m(filepath_or_buffer, kwds)\u001b[0m\n\u001b[0;32m    578\u001b[0m     \u001b[38;5;28;01mreturn\u001b[39;00m parser\n\u001b[0;32m    580\u001b[0m \u001b[38;5;28;01mwith\u001b[39;00m parser:\n\u001b[1;32m--> 581\u001b[0m     \u001b[38;5;28;01mreturn\u001b[39;00m \u001b[43mparser\u001b[49m\u001b[38;5;241;43m.\u001b[39;49m\u001b[43mread\u001b[49m\u001b[43m(\u001b[49m\u001b[43mnrows\u001b[49m\u001b[43m)\u001b[49m\n",
      "File \u001b[1;32m~\\anaconda3\\envs\\ml\\lib\\site-packages\\pandas\\io\\parsers\\readers.py:1254\u001b[0m, in \u001b[0;36mTextFileReader.read\u001b[1;34m(self, nrows)\u001b[0m\n\u001b[0;32m   1252\u001b[0m nrows \u001b[38;5;241m=\u001b[39m validate_integer(\u001b[38;5;124m\"\u001b[39m\u001b[38;5;124mnrows\u001b[39m\u001b[38;5;124m\"\u001b[39m, nrows)\n\u001b[0;32m   1253\u001b[0m \u001b[38;5;28;01mtry\u001b[39;00m:\n\u001b[1;32m-> 1254\u001b[0m     index, columns, col_dict \u001b[38;5;241m=\u001b[39m \u001b[38;5;28;43mself\u001b[39;49m\u001b[38;5;241;43m.\u001b[39;49m\u001b[43m_engine\u001b[49m\u001b[38;5;241;43m.\u001b[39;49m\u001b[43mread\u001b[49m\u001b[43m(\u001b[49m\u001b[43mnrows\u001b[49m\u001b[43m)\u001b[49m\n\u001b[0;32m   1255\u001b[0m \u001b[38;5;28;01mexcept\u001b[39;00m \u001b[38;5;167;01mException\u001b[39;00m:\n\u001b[0;32m   1256\u001b[0m     \u001b[38;5;28mself\u001b[39m\u001b[38;5;241m.\u001b[39mclose()\n",
      "File \u001b[1;32m~\\anaconda3\\envs\\ml\\lib\\site-packages\\pandas\\io\\parsers\\c_parser_wrapper.py:225\u001b[0m, in \u001b[0;36mCParserWrapper.read\u001b[1;34m(self, nrows)\u001b[0m\n\u001b[0;32m    223\u001b[0m \u001b[38;5;28;01mtry\u001b[39;00m:\n\u001b[0;32m    224\u001b[0m     \u001b[38;5;28;01mif\u001b[39;00m \u001b[38;5;28mself\u001b[39m\u001b[38;5;241m.\u001b[39mlow_memory:\n\u001b[1;32m--> 225\u001b[0m         chunks \u001b[38;5;241m=\u001b[39m \u001b[38;5;28;43mself\u001b[39;49m\u001b[38;5;241;43m.\u001b[39;49m\u001b[43m_reader\u001b[49m\u001b[38;5;241;43m.\u001b[39;49m\u001b[43mread_low_memory\u001b[49m\u001b[43m(\u001b[49m\u001b[43mnrows\u001b[49m\u001b[43m)\u001b[49m\n\u001b[0;32m    226\u001b[0m         \u001b[38;5;66;03m# destructive to chunks\u001b[39;00m\n\u001b[0;32m    227\u001b[0m         data \u001b[38;5;241m=\u001b[39m _concatenate_chunks(chunks)\n",
      "File \u001b[1;32m~\\anaconda3\\envs\\ml\\lib\\site-packages\\pandas\\_libs\\parsers.pyx:805\u001b[0m, in \u001b[0;36mpandas._libs.parsers.TextReader.read_low_memory\u001b[1;34m()\u001b[0m\n",
      "File \u001b[1;32m~\\anaconda3\\envs\\ml\\lib\\site-packages\\pandas\\_libs\\parsers.pyx:861\u001b[0m, in \u001b[0;36mpandas._libs.parsers.TextReader._read_rows\u001b[1;34m()\u001b[0m\n",
      "File \u001b[1;32m~\\anaconda3\\envs\\ml\\lib\\site-packages\\pandas\\_libs\\parsers.pyx:847\u001b[0m, in \u001b[0;36mpandas._libs.parsers.TextReader._tokenize_rows\u001b[1;34m()\u001b[0m\n",
      "File \u001b[1;32m~\\anaconda3\\envs\\ml\\lib\\site-packages\\pandas\\_libs\\parsers.pyx:1960\u001b[0m, in \u001b[0;36mpandas._libs.parsers.raise_parser_error\u001b[1;34m()\u001b[0m\n",
      "\u001b[1;31mParserError\u001b[0m: Error tokenizing data. C error: Expected 5 fields in line 379, saw 6\n"
     ]
    }
   ],
   "source": [
    "df_in = pd.read_csv(input_file_path)"
   ]
  },
  {
   "cell_type": "code",
   "execution_count": null,
   "id": "e3b45de2",
   "metadata": {
    "ExecuteTime": {
     "end_time": "2022-09-07T14:48:11.542303Z",
     "start_time": "2022-09-07T14:48:11.515011Z"
    }
   },
   "outputs": [],
   "source": [
    "del tree\n",
    "tree = Node(df_easy.columns.to_list())"
   ]
  },
  {
   "cell_type": "code",
   "execution_count": null,
   "id": "556f068b",
   "metadata": {
    "ExecuteTime": {
     "end_time": "2022-09-07T14:48:11.559122Z",
     "start_time": "2022-09-07T14:48:11.543480Z"
    }
   },
   "outputs": [],
   "source": [
    "tree.add_table(df_easy)"
   ]
  },
  {
   "cell_type": "code",
   "execution_count": null,
   "id": "d6f9e288",
   "metadata": {
    "ExecuteTime": {
     "end_time": "2022-09-07T14:48:11.576410Z",
     "start_time": "2022-09-07T14:48:11.560645Z"
    }
   },
   "outputs": [],
   "source": [
    "tree.print_tree()"
   ]
  },
  {
   "cell_type": "code",
   "execution_count": null,
   "id": "9c501f26",
   "metadata": {
    "ExecuteTime": {
     "end_time": "2022-09-07T14:48:11.592688Z",
     "start_time": "2022-09-07T14:48:11.576909Z"
    }
   },
   "outputs": [],
   "source": [
    "tree.print_table(duplicates='ignore')"
   ]
  },
  {
   "cell_type": "code",
   "execution_count": null,
   "id": "19380e42",
   "metadata": {
    "ExecuteTime": {
     "end_time": "2022-09-07T14:48:39.765628Z",
     "start_time": "2022-09-07T14:48:39.733441Z"
    }
   },
   "outputs": [],
   "source": [
    "tree.tree_to_df(duplicates ='ignore')"
   ]
  },
  {
   "cell_type": "code",
   "execution_count": null,
   "id": "bb8ed44b",
   "metadata": {},
   "outputs": [],
   "source": []
  },
  {
   "cell_type": "code",
   "execution_count": null,
   "id": "61e263dc",
   "metadata": {},
   "outputs": [],
   "source": []
  },
  {
   "cell_type": "code",
   "execution_count": null,
   "id": "df748fa0",
   "metadata": {},
   "outputs": [],
   "source": []
  },
  {
   "cell_type": "code",
   "execution_count": null,
   "id": "09840539",
   "metadata": {},
   "outputs": [],
   "source": []
  },
  {
   "cell_type": "code",
   "execution_count": null,
   "id": "c2b0c1c3",
   "metadata": {},
   "outputs": [],
   "source": []
  },
  {
   "cell_type": "code",
   "execution_count": null,
   "id": "86b34dd5",
   "metadata": {
    "ExecuteTime": {
     "end_time": "2022-09-07T14:48:11.010606Z",
     "start_time": "2022-09-07T14:48:10.994824Z"
    }
   },
   "outputs": [],
   "source": [
    "# import anytree"
   ]
  },
  {
   "cell_type": "code",
   "execution_count": null,
   "id": "831e58aa",
   "metadata": {
    "ExecuteTime": {
     "end_time": "2022-09-07T14:48:11.026006Z",
     "start_time": "2022-09-07T14:48:11.010606Z"
    }
   },
   "outputs": [],
   "source": [
    "clean_csv(os.path.join('.', 'smpl.csv'))"
   ]
  },
  {
   "cell_type": "code",
   "execution_count": null,
   "id": "ff99df89",
   "metadata": {
    "ExecuteTime": {
     "end_time": "2022-09-07T14:48:11.046486Z",
     "start_time": "2022-09-07T14:48:11.026507Z"
    }
   },
   "outputs": [],
   "source": [
    "input_file_path = os.path.join('.', 'smpl_cln.csv')"
   ]
  },
  {
   "cell_type": "code",
   "execution_count": null,
   "id": "c5b9c958",
   "metadata": {
    "ExecuteTime": {
     "end_time": "2022-09-07T14:48:11.062128Z",
     "start_time": "2022-09-07T14:48:11.046486Z"
    }
   },
   "outputs": [],
   "source": [
    "type(input_file_path)"
   ]
  },
  {
   "cell_type": "code",
   "execution_count": null,
   "id": "c70ddb04",
   "metadata": {
    "ExecuteTime": {
     "end_time": "2022-09-07T14:48:11.078697Z",
     "start_time": "2022-09-07T14:48:11.063035Z"
    }
   },
   "outputs": [],
   "source": [
    "df = pd.read_csv(input_file_path)"
   ]
  },
  {
   "cell_type": "code",
   "execution_count": null,
   "id": "db20a5ad",
   "metadata": {
    "ExecuteTime": {
     "end_time": "2022-09-07T14:48:11.094335Z",
     "start_time": "2022-09-07T14:48:11.078697Z"
    }
   },
   "outputs": [],
   "source": [
    "df"
   ]
  },
  {
   "cell_type": "code",
   "execution_count": null,
   "id": "5c3aaa1e",
   "metadata": {
    "ExecuteTime": {
     "end_time": "2022-09-07T16:00:47.165701Z",
     "start_time": "2022-09-07T16:00:47.149619Z"
    }
   },
   "outputs": [],
   "source": [
    "df_in = df[['GAME_NAME']]"
   ]
  },
  {
   "cell_type": "code",
   "execution_count": null,
   "id": "f9171e8b",
   "metadata": {
    "ExecuteTime": {
     "end_time": "2022-09-07T16:02:59.949958Z",
     "start_time": "2022-09-07T16:02:59.934270Z"
    }
   },
   "outputs": [],
   "source": [
    "df[['GAME_NAME']].to_dict()"
   ]
  },
  {
   "cell_type": "code",
   "execution_count": null,
   "id": "76f01cb7",
   "metadata": {
    "ExecuteTime": {
     "end_time": "2022-09-07T16:03:15.442719Z",
     "start_time": "2022-09-07T16:03:15.427054Z"
    }
   },
   "outputs": [],
   "source": [
    "df_out = pd.DataFrame(\n",
    "    {'GAME_NAME': {0: 'The Elder Scrolls V Skyrim',\n",
    "  1: 'The Elder Scrolls V Skyrim',\n",
    "  2: 'Fallout 4',\n",
    "  3: 'Fallout 4',\n",
    "  4: 'Fallout 4',\n",
    "  5: 'Spore',\n",
    "  6: 'Spore',\n",
    "  7: 'Spore',\n",
    "  8: 'Fallout New Vegas'}}\n",
    ")"
   ]
  },
  {
   "cell_type": "code",
   "execution_count": null,
   "id": "df8c38c3",
   "metadata": {
    "ExecuteTime": {
     "end_time": "2022-09-07T16:29:24.009831Z",
     "start_time": "2022-09-07T16:29:21.885899Z"
    }
   },
   "outputs": [],
   "source": [
    "!pytest"
   ]
  },
  {
   "cell_type": "code",
   "execution_count": null,
   "id": "84de6467",
   "metadata": {
    "ExecuteTime": {
     "end_time": "2022-09-07T16:03:16.659792Z",
     "start_time": "2022-09-07T16:03:16.615907Z"
    }
   },
   "outputs": [],
   "source": [
    "df_out.equals(df_in)"
   ]
  },
  {
   "cell_type": "code",
   "execution_count": null,
   "id": "117b54f3",
   "metadata": {
    "ExecuteTime": {
     "end_time": "2022-09-07T16:02:35.151299Z",
     "start_time": "2022-09-07T16:02:34.562177Z"
    }
   },
   "outputs": [],
   "source": [
    "pd.testing.assert_frame_equal(df_in, df_out, check_dtype=False)"
   ]
  },
  {
   "cell_type": "code",
   "execution_count": null,
   "id": "50e2b11f",
   "metadata": {
    "ExecuteTime": {
     "end_time": "2022-09-07T16:02:00.236474Z",
     "start_time": "2022-09-07T16:02:00.195421Z"
    }
   },
   "outputs": [],
   "source": [
    "df_in"
   ]
  },
  {
   "cell_type": "code",
   "execution_count": null,
   "id": "83f0c057",
   "metadata": {
    "ExecuteTime": {
     "end_time": "2022-09-07T16:02:00.716669Z",
     "start_time": "2022-09-07T16:02:00.700881Z"
    }
   },
   "outputs": [],
   "source": [
    "df_out"
   ]
  },
  {
   "cell_type": "code",
   "execution_count": null,
   "id": "890fe78c",
   "metadata": {
    "ExecuteTime": {
     "end_time": "2022-09-07T15:59:44.989718Z",
     "start_time": "2022-09-07T15:59:44.964904Z"
    }
   },
   "outputs": [],
   "source": [
    "pd.DataFrame({'GAME_NAME': {0: 'The Elder Scrolls V Skyrim',\n",
    "  1: 'The Elder Scrolls V Skyrim',\n",
    "  2: 'Fallout 4',\n",
    "  3: 'Fallout 4',\n",
    "  4: 'Fallout 4',\n",
    "  5: 'Spore',\n",
    "  6: 'Spore',\n",
    "  7: 'Spore',\n",
    "  8: 'Fallout New Vegas'}})"
   ]
  },
  {
   "cell_type": "markdown",
   "id": "6c7a09b6",
   "metadata": {},
   "source": [
    "## Add table line by line"
   ]
  },
  {
   "cell_type": "code",
   "execution_count": null,
   "id": "89259396",
   "metadata": {
    "ExecuteTime": {
     "end_time": "2022-09-07T15:59:04.401780Z",
     "start_time": "2022-09-07T15:59:04.354150Z"
    },
    "scrolled": true
   },
   "outputs": [],
   "source": [
    "df_easy = df[['GAME_NAME', 'BEHAVIOUR', 'ID']]\n",
    "# df_easy = df[['GAME_NAME']]\n",
    "df_easy"
   ]
  },
  {
   "cell_type": "code",
   "execution_count": null,
   "id": "b99ba496",
   "metadata": {
    "ExecuteTime": {
     "end_time": "2022-09-07T14:48:11.126063Z",
     "start_time": "2022-09-07T14:48:11.110880Z"
    }
   },
   "outputs": [],
   "source": [
    "tree = Node(df_easy.columns.to_list())"
   ]
  },
  {
   "cell_type": "code",
   "execution_count": null,
   "id": "100d869b",
   "metadata": {
    "ExecuteTime": {
     "end_time": "2022-09-07T14:48:11.142098Z",
     "start_time": "2022-09-07T14:48:11.129907Z"
    },
    "scrolled": true
   },
   "outputs": [],
   "source": [
    "tree.node_type"
   ]
  },
  {
   "cell_type": "code",
   "execution_count": null,
   "id": "0a93ffb9",
   "metadata": {
    "ExecuteTime": {
     "end_time": "2022-09-07T14:48:11.157674Z",
     "start_time": "2022-09-07T14:48:11.144335Z"
    }
   },
   "outputs": [],
   "source": [
    "tree.node_hierarchy"
   ]
  },
  {
   "cell_type": "code",
   "execution_count": null,
   "id": "86e82d83",
   "metadata": {
    "ExecuteTime": {
     "end_time": "2022-09-07T14:48:11.173457Z",
     "start_time": "2022-09-07T14:48:11.160093Z"
    }
   },
   "outputs": [],
   "source": [
    "tree.children"
   ]
  },
  {
   "cell_type": "code",
   "execution_count": null,
   "id": "9fa9d02e",
   "metadata": {
    "ExecuteTime": {
     "end_time": "2022-09-07T14:48:11.189191Z",
     "start_time": "2022-09-07T14:48:11.175414Z"
    }
   },
   "outputs": [],
   "source": [
    "tree.value"
   ]
  },
  {
   "cell_type": "code",
   "execution_count": null,
   "id": "e17999b6",
   "metadata": {
    "ExecuteTime": {
     "end_time": "2022-09-07T14:48:11.210094Z",
     "start_time": "2022-09-07T14:48:11.191081Z"
    }
   },
   "outputs": [],
   "source": [
    "tree.count_rows"
   ]
  },
  {
   "cell_type": "code",
   "execution_count": null,
   "id": "49b05616",
   "metadata": {
    "ExecuteTime": {
     "end_time": "2022-09-07T14:48:11.226002Z",
     "start_time": "2022-09-07T14:48:11.210094Z"
    }
   },
   "outputs": [],
   "source": [
    "tree.print_tree()"
   ]
  },
  {
   "cell_type": "code",
   "execution_count": null,
   "id": "cee38d3c",
   "metadata": {
    "ExecuteTime": {
     "end_time": "2022-09-07T14:48:11.242692Z",
     "start_time": "2022-09-07T14:48:11.226504Z"
    }
   },
   "outputs": [],
   "source": [
    "row = df_easy.iloc[5,:]\n",
    "row"
   ]
  },
  {
   "cell_type": "code",
   "execution_count": null,
   "id": "5f4290cb",
   "metadata": {
    "ExecuteTime": {
     "end_time": "2022-09-07T14:48:11.258919Z",
     "start_time": "2022-09-07T14:48:11.243196Z"
    }
   },
   "outputs": [],
   "source": [
    "for index, row in df_easy.iterrows():\n",
    "    print(row.to_list(), ' added. \\n')"
   ]
  },
  {
   "cell_type": "code",
   "execution_count": null,
   "id": "5d20dc7e",
   "metadata": {
    "ExecuteTime": {
     "end_time": "2022-09-07T14:48:11.308846Z",
     "start_time": "2022-09-07T14:48:11.259479Z"
    }
   },
   "outputs": [],
   "source": [
    "for index, row in df_easy.iterrows():\n",
    "    tree.add_row(row)\n",
    "    print(row.to_list(), ' added. \\n')\n",
    "    tree._validate_row_counts()\n",
    "    tree.print_tree(ident_count=0)\n",
    "    print('\\n')"
   ]
  },
  {
   "cell_type": "code",
   "execution_count": null,
   "id": "775e5d08",
   "metadata": {
    "ExecuteTime": {
     "end_time": "2022-09-07T16:42:43.310872Z",
     "start_time": "2022-09-07T16:42:43.281840Z"
    }
   },
   "outputs": [],
   "source": [
    "df_easy"
   ]
  },
  {
   "cell_type": "code",
   "execution_count": null,
   "id": "4302103d",
   "metadata": {
    "ExecuteTime": {
     "end_time": "2022-09-07T14:48:11.342035Z",
     "start_time": "2022-09-07T14:48:11.326321Z"
    },
    "scrolled": true
   },
   "outputs": [],
   "source": [
    "tree.print_table()"
   ]
  },
  {
   "cell_type": "code",
   "execution_count": null,
   "id": "188e3cb8",
   "metadata": {
    "ExecuteTime": {
     "end_time": "2022-09-07T14:48:11.357663Z",
     "start_time": "2022-09-07T14:48:11.342035Z"
    },
    "scrolled": true
   },
   "outputs": [],
   "source": [
    "tree.print_table(duplicates='find')"
   ]
  },
  {
   "cell_type": "code",
   "execution_count": null,
   "id": "22636f6a",
   "metadata": {
    "ExecuteTime": {
     "end_time": "2022-09-07T14:48:11.376198Z",
     "start_time": "2022-09-07T14:48:11.359770Z"
    },
    "scrolled": true
   },
   "outputs": [],
   "source": [
    "tree.print_table(duplicates='ignore')"
   ]
  },
  {
   "cell_type": "code",
   "execution_count": null,
   "id": "c8a35fa5",
   "metadata": {
    "ExecuteTime": {
     "end_time": "2022-09-07T14:48:11.392392Z",
     "start_time": "2022-09-07T14:48:11.376700Z"
    },
    "scrolled": false
   },
   "outputs": [],
   "source": [
    "tree.print_table()"
   ]
  },
  {
   "cell_type": "code",
   "execution_count": null,
   "id": "63df0f3a",
   "metadata": {
    "ExecuteTime": {
     "end_time": "2022-09-07T14:48:11.417675Z",
     "start_time": "2022-09-07T14:48:11.393289Z"
    }
   },
   "outputs": [],
   "source": [
    "tree.print_table(duplicates='ignore', to='test.csv')"
   ]
  },
  {
   "cell_type": "code",
   "execution_count": null,
   "id": "96011e58",
   "metadata": {
    "ExecuteTime": {
     "end_time": "2022-09-07T14:48:11.442359Z",
     "start_time": "2022-09-07T14:48:11.417675Z"
    }
   },
   "outputs": [],
   "source": [
    "type(df)"
   ]
  },
  {
   "cell_type": "code",
   "execution_count": null,
   "id": "4c80b429",
   "metadata": {
    "ExecuteTime": {
     "end_time": "2022-09-07T14:48:11.459076Z",
     "start_time": "2022-09-07T14:48:11.443309Z"
    }
   },
   "outputs": [],
   "source": [
    "isinstance(df, pd.core.frame.DataFrame)"
   ]
  },
  {
   "cell_type": "code",
   "execution_count": null,
   "id": "556c8977",
   "metadata": {},
   "outputs": [],
   "source": []
  },
  {
   "cell_type": "code",
   "execution_count": null,
   "id": "66ffec0b",
   "metadata": {},
   "outputs": [],
   "source": []
  },
  {
   "cell_type": "code",
   "execution_count": null,
   "id": "9d0bd561",
   "metadata": {
    "ExecuteTime": {
     "end_time": "2022-09-07T14:48:11.475693Z",
     "start_time": "2022-09-07T14:48:11.459533Z"
    },
    "scrolled": true
   },
   "outputs": [],
   "source": [
    "tree.print_table(duplicates='ignore')"
   ]
  },
  {
   "cell_type": "code",
   "execution_count": null,
   "id": "aeb088b3",
   "metadata": {
    "ExecuteTime": {
     "end_time": "2022-09-07T14:48:11.492671Z",
     "start_time": "2022-09-07T14:48:11.476654Z"
    }
   },
   "outputs": [],
   "source": [
    "tree.print_table(duplicates='find')"
   ]
  },
  {
   "cell_type": "code",
   "execution_count": null,
   "id": "4ee566b5",
   "metadata": {
    "ExecuteTime": {
     "end_time": "2022-09-07T16:53:44.327580Z",
     "start_time": "2022-09-07T16:53:43.121866Z"
    }
   },
   "outputs": [],
   "source": [
    "!pytest"
   ]
  },
  {
   "cell_type": "markdown",
   "id": "eb14504e",
   "metadata": {
    "ExecuteTime": {
     "end_time": "2022-09-07T10:31:08.515286Z",
     "start_time": "2022-09-07T10:31:08.501443Z"
    }
   },
   "source": [
    "## At table at once"
   ]
  },
  {
   "cell_type": "code",
   "execution_count": null,
   "id": "840c03b0",
   "metadata": {
    "ExecuteTime": {
     "end_time": "2022-09-07T14:48:11.515011Z",
     "start_time": "2022-09-07T14:48:11.493673Z"
    }
   },
   "outputs": [],
   "source": [
    "df_easy"
   ]
  },
  {
   "cell_type": "code",
   "execution_count": null,
   "id": "f317fb03",
   "metadata": {
    "ExecuteTime": {
     "end_time": "2022-09-07T14:48:11.542303Z",
     "start_time": "2022-09-07T14:48:11.515011Z"
    }
   },
   "outputs": [],
   "source": [
    "del tree\n",
    "tree = Node(df_easy.columns.to_list())"
   ]
  },
  {
   "cell_type": "code",
   "execution_count": null,
   "id": "1bd37788",
   "metadata": {
    "ExecuteTime": {
     "end_time": "2022-09-07T14:48:11.559122Z",
     "start_time": "2022-09-07T14:48:11.543480Z"
    }
   },
   "outputs": [],
   "source": [
    "tree.add_table(df_easy)"
   ]
  },
  {
   "cell_type": "code",
   "execution_count": null,
   "id": "c4e406e3",
   "metadata": {
    "ExecuteTime": {
     "end_time": "2022-09-07T14:48:11.576410Z",
     "start_time": "2022-09-07T14:48:11.560645Z"
    }
   },
   "outputs": [],
   "source": [
    "tree.print_tree()"
   ]
  },
  {
   "cell_type": "code",
   "execution_count": null,
   "id": "720037dd",
   "metadata": {
    "ExecuteTime": {
     "end_time": "2022-09-07T14:48:11.592688Z",
     "start_time": "2022-09-07T14:48:11.576909Z"
    }
   },
   "outputs": [],
   "source": [
    "tree.print_table(duplicates='ignore')"
   ]
  },
  {
   "cell_type": "code",
   "execution_count": null,
   "id": "da48b30a",
   "metadata": {
    "ExecuteTime": {
     "end_time": "2022-09-07T14:48:39.765628Z",
     "start_time": "2022-09-07T14:48:39.733441Z"
    }
   },
   "outputs": [],
   "source": [
    "tree.tree_to_df(duplicates ='ignore')"
   ]
  },
  {
   "cell_type": "code",
   "execution_count": null,
   "id": "97c89e42",
   "metadata": {
    "ExecuteTime": {
     "end_time": "2022-09-07T14:48:11.634895Z",
     "start_time": "2022-09-07T14:48:11.618054Z"
    }
   },
   "outputs": [],
   "source": [
    "df_3"
   ]
  },
  {
   "cell_type": "code",
   "execution_count": null,
   "id": "c9e4c388",
   "metadata": {},
   "outputs": [],
   "source": []
  },
  {
   "cell_type": "code",
   "execution_count": null,
   "id": "5ce86cd2",
   "metadata": {},
   "outputs": [],
   "source": []
  },
  {
   "cell_type": "code",
   "execution_count": null,
   "id": "87230cce",
   "metadata": {},
   "outputs": [],
   "source": []
  },
  {
   "cell_type": "code",
   "execution_count": null,
   "id": "75c664db",
   "metadata": {},
   "outputs": [],
   "source": []
  },
  {
   "cell_type": "code",
   "execution_count": null,
   "id": "f94b6d44",
   "metadata": {},
   "outputs": [],
   "source": []
  },
  {
   "cell_type": "code",
   "execution_count": null,
   "id": "241fd302",
   "metadata": {},
   "outputs": [],
   "source": []
  },
  {
   "cell_type": "code",
   "execution_count": null,
   "id": "957e35b6",
   "metadata": {},
   "outputs": [],
   "source": []
  },
  {
   "cell_type": "code",
   "execution_count": null,
   "id": "c3066173",
   "metadata": {},
   "outputs": [],
   "source": []
  },
  {
   "cell_type": "code",
   "execution_count": null,
   "id": "80d8b841",
   "metadata": {},
   "outputs": [],
   "source": []
  },
  {
   "cell_type": "code",
   "execution_count": null,
   "id": "f354fd7d",
   "metadata": {
    "ExecuteTime": {
     "end_time": "2022-09-07T14:48:11.651537Z",
     "start_time": "2022-09-07T14:48:11.635396Z"
    }
   },
   "outputs": [],
   "source": [
    "class Tree(object):\n",
    "    \"Generic tree node.\"\n",
    "    def __init__(self, name='root', children=None):\n",
    "        self.name = name\n",
    "        self.children = []\n",
    "        if children is not None:\n",
    "            for child in children:\n",
    "                self.add_child(child)\n",
    "    def __repr__(self):\n",
    "        return self.name\n",
    "    def add_child(self, node):\n",
    "        assert isinstance(node, Tree)\n",
    "        self.children.append(node)"
   ]
  },
  {
   "cell_type": "code",
   "execution_count": null,
   "id": "19a89955",
   "metadata": {},
   "outputs": [],
   "source": []
  },
  {
   "cell_type": "code",
   "execution_count": null,
   "id": "2a222a3a",
   "metadata": {},
   "outputs": [],
   "source": []
  },
  {
   "cell_type": "code",
   "execution_count": null,
   "id": "5632f095",
   "metadata": {},
   "outputs": [],
   "source": []
  }
 ],
 "metadata": {
  "kernelspec": {
   "display_name": "Python 3 (ipykernel)",
   "language": "python",
   "name": "python3"
  },
  "language_info": {
   "codemirror_mode": {
    "name": "ipython",
    "version": 3
   },
   "file_extension": ".py",
   "mimetype": "text/x-python",
   "name": "python",
   "nbconvert_exporter": "python",
   "pygments_lexer": "ipython3",
   "version": "3.9.12"
  },
  "toc": {
   "base_numbering": 1,
   "nav_menu": {},
   "number_sections": true,
   "sideBar": true,
   "skip_h1_title": false,
   "title_cell": "Table of Contents",
   "title_sidebar": "Contents",
   "toc_cell": false,
   "toc_position": {},
   "toc_section_display": true,
   "toc_window_display": false
  }
 },
 "nbformat": 4,
 "nbformat_minor": 5
}
