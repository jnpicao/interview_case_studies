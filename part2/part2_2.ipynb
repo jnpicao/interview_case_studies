{
 "cells": [
  {
   "cell_type": "code",
   "execution_count": 1,
   "id": "a8bbbd71",
   "metadata": {
    "ExecuteTime": {
     "end_time": "2022-09-08T22:00:23.559761Z",
     "start_time": "2022-09-08T22:00:23.074191Z"
    }
   },
   "outputs": [],
   "source": [
    "import os\n",
    "import csv\n",
    "\n",
    "import pandas as pd\n",
    "import json\n",
    "\n",
    "from utils_part2 import clean_csv, Node"
   ]
  },
  {
   "cell_type": "markdown",
   "id": "ccc797fa",
   "metadata": {},
   "source": [
    "## Configurations"
   ]
  },
  {
   "cell_type": "code",
   "execution_count": 2,
   "id": "f1fdcf30",
   "metadata": {
    "ExecuteTime": {
     "end_time": "2022-09-08T22:00:23.575561Z",
     "start_time": "2022-09-08T22:00:23.559761Z"
    }
   },
   "outputs": [],
   "source": [
    "input_file_path = os.path.join('.','input_data','algorithms part dataset.csv')\n",
    "# input_file_path = os.path.join('.','input_data','algorithms part dataset smpl 50k.csv')\n",
    "# input_file_path = os.path.join('input_data', 'smpl.csv')\n",
    "\n",
    "clean_file = True"
   ]
  },
  {
   "cell_type": "code",
   "execution_count": 3,
   "id": "a3e2c5de",
   "metadata": {
    "ExecuteTime": {
     "end_time": "2022-09-08T22:00:25.642210Z",
     "start_time": "2022-09-08T22:00:23.577372Z"
    }
   },
   "outputs": [],
   "source": [
    "if clean_file:\n",
    "    clean_csv(input_file_path)\n",
    "    input_file_path = input_file_path.replace('.csv', '_cln.csv')\n",
    "    \n",
    "try:\n",
    "    pd.read_csv(input_file_path)\n",
    "except ParserError:\n",
    "    print('Error parsing csv file')"
   ]
  },
  {
   "cell_type": "code",
   "execution_count": 4,
   "id": "4f4df406",
   "metadata": {
    "ExecuteTime": {
     "end_time": "2022-09-08T22:00:25.658184Z",
     "start_time": "2022-09-08T22:00:25.642210Z"
    }
   },
   "outputs": [],
   "source": [
    "if os.path.getsize(input_file_path) < 1000:\n",
    "    run_tree_line_by_line = True\n",
    "else:\n",
    "    run_tree_line_by_line = False"
   ]
  },
  {
   "cell_type": "code",
   "execution_count": 5,
   "id": "32e1e7f0",
   "metadata": {
    "ExecuteTime": {
     "end_time": "2022-09-08T22:00:26.886841Z",
     "start_time": "2022-09-08T22:00:25.659192Z"
    }
   },
   "outputs": [
    {
     "name": "stdout",
     "output_type": "stream",
     "text": [
      "============================= test session starts =============================\n",
      "platform win32 -- Python 3.9.12, pytest-7.1.1, pluggy-1.0.0\n",
      "rootdir: C:\\Users\\jpicao\\git_repos\\interview_case_studies\\part2\n",
      "plugins: anyio-3.5.0\n",
      "collected 2 items\n",
      "\n",
      "test_utils_part2.py ..                                                   [100%]\n",
      "\n",
      "============================== 2 passed in 0.52s ==============================\n"
     ]
    }
   ],
   "source": [
    "# Run unit tests\n",
    "!pytest"
   ]
  },
  {
   "cell_type": "markdown",
   "id": "c98502e0",
   "metadata": {},
   "source": [
    "# `Node()` class description"
   ]
  },
  {
   "cell_type": "markdown",
   "id": "e5999414",
   "metadata": {},
   "source": [
    "## `Node()` class attributes"
   ]
  },
  {
   "cell_type": "markdown",
   "id": "5151f45b",
   "metadata": {},
   "source": [
    "- `self.value`: The actual data or value in the instance. In this exercise this attribute will contain the values coming from the provided csv file (except the column names, which define the node type).\n",
    "- `self.node_type`: Describes the type of information that the instance represents. In this exercise, the node_types will be the different columns in the provided csv file. \n",
    "- `self.children`: A list containing the instance children. Children are also instances of type `Node()`.\n",
    "- `self.count_rows`: An integer counting the number of table rows that are represented by the sub-tree starting in the current node. If `self` is a leaf node, then `self.count_rows` is used to count the number of duplicates (i.e., `self.count_rows > 1` means duplicates were found), otherwise it is used mainly for internal validation of the tree structure.\n",
    "- `self.node_hierarchy`: Defines the children node hierarchy levels of the sub-tree starting in the current node. For example, in this exercise the root node will have `self.node_hierarchy = ['ID', 'GAME_NAME', 'BEHAVIOUR', 'PLAY_PURCHASE', 'NONE]`. It is an unnecessary attribute that over complicates the class and quadratically increases the memory needed to store the tree, but I didn't have time to refactor."
   ]
  },
  {
   "cell_type": "markdown",
   "id": "12af5c2a",
   "metadata": {},
   "source": [
    "## `Node()` class methods"
   ]
  },
  {
   "cell_type": "markdown",
   "id": "c8905f96",
   "metadata": {},
   "source": [
    "- `self.add_row()`: Inserts a single table row to the tree structure.\n",
    "- `self.add_table()`: Loops over the table rows and calls `self.add_row()` for each row, thus converting a complete table into a tree structure at once.\n",
    "- `self.print_tree()`: Prints the tree structure to stdout.\n",
    "- `self.print_table()`: Converts a tree structure into a table and prints the result. If the parameter `to` is a string, then prints the resulting table to the file path defined by `to`. The parameter `duplicates` has three possible configurations: *ignore* to leave the table as is; *drop* to drop duplicates; and *find* to return duplicates only.\n",
    "- `self.tree_to_df()`: Convert the tree to a dataframe. Calls `self.print_table()` to a temporary file and reads the resulting file with pandas.read_csv()."
   ]
  },
  {
   "cell_type": "markdown",
   "id": "a6ae7f80",
   "metadata": {},
   "source": [
    "# Examples"
   ]
  },
  {
   "cell_type": "markdown",
   "id": "817126c7",
   "metadata": {},
   "source": [
    "## Add table line by line"
   ]
  },
  {
   "cell_type": "code",
   "execution_count": 6,
   "id": "605846e3",
   "metadata": {
    "ExecuteTime": {
     "end_time": "2022-09-08T22:00:26.993411Z",
     "start_time": "2022-09-08T22:00:26.886841Z"
    }
   },
   "outputs": [],
   "source": [
    "df_input = pd.read_csv(input_file_path)"
   ]
  },
  {
   "cell_type": "code",
   "execution_count": 7,
   "id": "b64da43c",
   "metadata": {
    "ExecuteTime": {
     "end_time": "2022-09-08T22:00:27.025472Z",
     "start_time": "2022-09-08T22:00:26.993912Z"
    },
    "scrolled": true
   },
   "outputs": [
    {
     "data": {
      "text/html": [
       "<div>\n",
       "<style scoped>\n",
       "    .dataframe tbody tr th:only-of-type {\n",
       "        vertical-align: middle;\n",
       "    }\n",
       "\n",
       "    .dataframe tbody tr th {\n",
       "        vertical-align: top;\n",
       "    }\n",
       "\n",
       "    .dataframe thead th {\n",
       "        text-align: right;\n",
       "    }\n",
       "</style>\n",
       "<table border=\"1\" class=\"dataframe\">\n",
       "  <thead>\n",
       "    <tr style=\"text-align: right;\">\n",
       "      <th></th>\n",
       "      <th>ID</th>\n",
       "      <th>GAME_NAME</th>\n",
       "      <th>BEHAVIOUR</th>\n",
       "      <th>PLAY_PURCHASE</th>\n",
       "      <th>NONE</th>\n",
       "    </tr>\n",
       "  </thead>\n",
       "  <tbody>\n",
       "    <tr>\n",
       "      <th>0</th>\n",
       "      <td>151603712</td>\n",
       "      <td>The Elder Scrolls V Skyrim</td>\n",
       "      <td>purchase</td>\n",
       "      <td>1.0</td>\n",
       "      <td>0</td>\n",
       "    </tr>\n",
       "    <tr>\n",
       "      <th>1</th>\n",
       "      <td>151603712</td>\n",
       "      <td>The Elder Scrolls V Skyrim</td>\n",
       "      <td>play</td>\n",
       "      <td>273.0</td>\n",
       "      <td>0</td>\n",
       "    </tr>\n",
       "    <tr>\n",
       "      <th>2</th>\n",
       "      <td>151603712</td>\n",
       "      <td>Fallout 4</td>\n",
       "      <td>purchase</td>\n",
       "      <td>1.0</td>\n",
       "      <td>0</td>\n",
       "    </tr>\n",
       "    <tr>\n",
       "      <th>3</th>\n",
       "      <td>151603712</td>\n",
       "      <td>Fallout 4</td>\n",
       "      <td>play</td>\n",
       "      <td>87.0</td>\n",
       "      <td>0</td>\n",
       "    </tr>\n",
       "    <tr>\n",
       "      <th>4</th>\n",
       "      <td>151603712</td>\n",
       "      <td>Spore</td>\n",
       "      <td>purchase</td>\n",
       "      <td>1.0</td>\n",
       "      <td>0</td>\n",
       "    </tr>\n",
       "    <tr>\n",
       "      <th>...</th>\n",
       "      <td>...</td>\n",
       "      <td>...</td>\n",
       "      <td>...</td>\n",
       "      <td>...</td>\n",
       "      <td>...</td>\n",
       "    </tr>\n",
       "    <tr>\n",
       "      <th>199995</th>\n",
       "      <td>128470551</td>\n",
       "      <td>Titan Souls</td>\n",
       "      <td>play</td>\n",
       "      <td>1.5</td>\n",
       "      <td>0</td>\n",
       "    </tr>\n",
       "    <tr>\n",
       "      <th>199996</th>\n",
       "      <td>128470551</td>\n",
       "      <td>Grand Theft Auto Vice City</td>\n",
       "      <td>purchase</td>\n",
       "      <td>1.0</td>\n",
       "      <td>0</td>\n",
       "    </tr>\n",
       "    <tr>\n",
       "      <th>199997</th>\n",
       "      <td>128470551</td>\n",
       "      <td>Grand Theft Auto Vice City</td>\n",
       "      <td>play</td>\n",
       "      <td>1.5</td>\n",
       "      <td>0</td>\n",
       "    </tr>\n",
       "    <tr>\n",
       "      <th>199998</th>\n",
       "      <td>128470551</td>\n",
       "      <td>RUSH</td>\n",
       "      <td>purchase</td>\n",
       "      <td>1.0</td>\n",
       "      <td>0</td>\n",
       "    </tr>\n",
       "    <tr>\n",
       "      <th>199999</th>\n",
       "      <td>128470551</td>\n",
       "      <td>RUSH</td>\n",
       "      <td>play</td>\n",
       "      <td>1.4</td>\n",
       "      <td>0</td>\n",
       "    </tr>\n",
       "  </tbody>\n",
       "</table>\n",
       "<p>200000 rows × 5 columns</p>\n",
       "</div>"
      ],
      "text/plain": [
       "               ID                   GAME_NAME BEHAVIOUR  PLAY_PURCHASE  NONE\n",
       "0       151603712  The Elder Scrolls V Skyrim  purchase            1.0     0\n",
       "1       151603712  The Elder Scrolls V Skyrim      play          273.0     0\n",
       "2       151603712                   Fallout 4  purchase            1.0     0\n",
       "3       151603712                   Fallout 4      play           87.0     0\n",
       "4       151603712                       Spore  purchase            1.0     0\n",
       "...           ...                         ...       ...            ...   ...\n",
       "199995  128470551                 Titan Souls      play            1.5     0\n",
       "199996  128470551  Grand Theft Auto Vice City  purchase            1.0     0\n",
       "199997  128470551  Grand Theft Auto Vice City      play            1.5     0\n",
       "199998  128470551                        RUSH  purchase            1.0     0\n",
       "199999  128470551                        RUSH      play            1.4     0\n",
       "\n",
       "[200000 rows x 5 columns]"
      ]
     },
     "execution_count": 7,
     "metadata": {},
     "output_type": "execute_result"
    }
   ],
   "source": [
    "df_input"
   ]
  },
  {
   "cell_type": "code",
   "execution_count": 8,
   "id": "154bb119",
   "metadata": {
    "ExecuteTime": {
     "end_time": "2022-09-08T22:00:27.044144Z",
     "start_time": "2022-09-08T22:00:27.028002Z"
    }
   },
   "outputs": [],
   "source": [
    "try:\n",
    "    del tree\n",
    "except NameError:\n",
    "    pass\n",
    "\n",
    "tree = Node(df_input.columns.to_list())"
   ]
  },
  {
   "cell_type": "markdown",
   "id": "f463bc7a",
   "metadata": {},
   "source": [
    "Tree was initialized with `self.node_type` and `seld.node_hierarchy` but the remaining attributes are empty."
   ]
  },
  {
   "cell_type": "code",
   "execution_count": 9,
   "id": "374bce35",
   "metadata": {
    "ExecuteTime": {
     "end_time": "2022-09-08T22:00:27.065525Z",
     "start_time": "2022-09-08T22:00:27.044144Z"
    },
    "scrolled": true
   },
   "outputs": [
    {
     "data": {
      "text/plain": [
       "'root'"
      ]
     },
     "execution_count": 9,
     "metadata": {},
     "output_type": "execute_result"
    }
   ],
   "source": [
    "tree.node_type"
   ]
  },
  {
   "cell_type": "code",
   "execution_count": 10,
   "id": "6e78c8ab",
   "metadata": {
    "ExecuteTime": {
     "end_time": "2022-09-08T22:00:27.081421Z",
     "start_time": "2022-09-08T22:00:27.065525Z"
    }
   },
   "outputs": [
    {
     "data": {
      "text/plain": [
       "['ID', 'GAME_NAME', 'BEHAVIOUR', 'PLAY_PURCHASE', 'NONE']"
      ]
     },
     "execution_count": 10,
     "metadata": {},
     "output_type": "execute_result"
    }
   ],
   "source": [
    "tree.node_hierarchy"
   ]
  },
  {
   "cell_type": "code",
   "execution_count": 11,
   "id": "9656ee31",
   "metadata": {
    "ExecuteTime": {
     "end_time": "2022-09-08T22:00:27.110047Z",
     "start_time": "2022-09-08T22:00:27.081421Z"
    }
   },
   "outputs": [
    {
     "data": {
      "text/plain": [
       "[]"
      ]
     },
     "execution_count": 11,
     "metadata": {},
     "output_type": "execute_result"
    }
   ],
   "source": [
    "tree.children"
   ]
  },
  {
   "cell_type": "code",
   "execution_count": 12,
   "id": "ad3dd6bd",
   "metadata": {
    "ExecuteTime": {
     "end_time": "2022-09-08T22:00:27.126522Z",
     "start_time": "2022-09-08T22:00:27.110295Z"
    }
   },
   "outputs": [],
   "source": [
    "tree.value"
   ]
  },
  {
   "cell_type": "code",
   "execution_count": 13,
   "id": "e08032d0",
   "metadata": {
    "ExecuteTime": {
     "end_time": "2022-09-08T22:00:27.144072Z",
     "start_time": "2022-09-08T22:00:27.128028Z"
    }
   },
   "outputs": [
    {
     "data": {
      "text/plain": [
       "0"
      ]
     },
     "execution_count": 13,
     "metadata": {},
     "output_type": "execute_result"
    }
   ],
   "source": [
    "tree.count_rows"
   ]
  },
  {
   "cell_type": "code",
   "execution_count": 14,
   "id": "02e7e921",
   "metadata": {
    "ExecuteTime": {
     "end_time": "2022-09-08T22:00:27.160636Z",
     "start_time": "2022-09-08T22:00:27.144072Z"
    },
    "scrolled": true
   },
   "outputs": [
    {
     "name": "stdout",
     "output_type": "stream",
     "text": [
      " | root | None | 0\n"
     ]
    }
   ],
   "source": [
    "tree.print_tree()"
   ]
  },
  {
   "cell_type": "code",
   "execution_count": 15,
   "id": "88f4d18e",
   "metadata": {
    "ExecuteTime": {
     "end_time": "2022-09-08T22:00:27.176455Z",
     "start_time": "2022-09-08T22:00:27.160636Z"
    }
   },
   "outputs": [],
   "source": [
    "# Create tree line by line for ilustration only.\n",
    "# If table size is greater than 1 KB  skip.\n",
    "if run_tree_line_by_line:\n",
    "    for index, row in df_input.iterrows():\n",
    "        print(f\"Add rom from idx {index}\")\n",
    "        tree.add_row(row)    \n",
    "        tree.print_tree()"
   ]
  },
  {
   "cell_type": "markdown",
   "id": "6fb85d73",
   "metadata": {},
   "source": [
    "### Validate the results"
   ]
  },
  {
   "cell_type": "markdown",
   "id": "804e58cc",
   "metadata": {},
   "source": [
    "#### Validate tree structure"
   ]
  },
  {
   "cell_type": "markdown",
   "id": "25a56fb8",
   "metadata": {},
   "source": [
    "The data must remain the same when converted to a tree a converted back to a table."
   ]
  },
  {
   "cell_type": "code",
   "execution_count": 16,
   "id": "c56ca7b1",
   "metadata": {
    "ExecuteTime": {
     "end_time": "2022-09-08T22:00:27.197734Z",
     "start_time": "2022-09-08T22:00:27.176955Z"
    }
   },
   "outputs": [],
   "source": [
    "df_from_tree = tree.tree_to_df(duplicates ='ignore')"
   ]
  },
  {
   "cell_type": "code",
   "execution_count": 17,
   "id": "565bbf27",
   "metadata": {
    "ExecuteTime": {
     "end_time": "2022-09-08T22:00:27.213300Z",
     "start_time": "2022-09-08T22:00:27.197734Z"
    },
    "scrolled": true
   },
   "outputs": [],
   "source": [
    "if run_tree_line_by_line:\n",
    "    actual_result = (df_from_tree\n",
    "                     .sort_values(by=df_from_tree.columns.to_list())\n",
    "                     .reset_index(drop=True))\n",
    "\n",
    "    expected_result = (df_input\n",
    "                       .sort_values(by=df_input.columns.to_list())\n",
    "                       .reset_index(drop=True))\n",
    "\n",
    "    pd.testing.assert_frame_equal(actual_result, expected_result,\n",
    "                                  check_column_type=False, \n",
    "                                  check_index_type=False, \n",
    "                                  check_dtype=False)"
   ]
  },
  {
   "cell_type": "markdown",
   "id": "6941851e",
   "metadata": {},
   "source": [
    "#### Validate duplicates find"
   ]
  },
  {
   "cell_type": "markdown",
   "id": "dad90c89",
   "metadata": {},
   "source": [
    "Compare duplicates detection with pandas.DataFrame.duplicated()."
   ]
  },
  {
   "cell_type": "code",
   "execution_count": 18,
   "id": "cb1bd068",
   "metadata": {
    "ExecuteTime": {
     "end_time": "2022-09-08T22:00:27.243951Z",
     "start_time": "2022-09-08T22:00:27.213300Z"
    }
   },
   "outputs": [],
   "source": [
    "df_dups_from_tree = tree.tree_to_df(duplicates ='find')"
   ]
  },
  {
   "cell_type": "code",
   "execution_count": 19,
   "id": "386918a9",
   "metadata": {
    "ExecuteTime": {
     "end_time": "2022-09-08T22:00:27.260264Z",
     "start_time": "2022-09-08T22:00:27.244733Z"
    },
    "scrolled": true
   },
   "outputs": [],
   "source": [
    "if run_tree_line_by_line:\n",
    "    actual_result = (df_dups_from_tree\n",
    "                     .sort_values(by=df_dups_from_tree.columns.to_list())\n",
    "                     .reset_index(drop=True))\n",
    "\n",
    "    expected_result = (df_input.loc[df_input.duplicated(),:]\n",
    "                       .sort_values(by=df_dups_from_tree.columns.to_list())\n",
    "                       .reset_index(drop=True))\n",
    "\n",
    "    pd.testing.assert_frame_equal(actual_result, expected_result,\n",
    "                                  check_column_type=False, \n",
    "                                  check_index_type=False, \n",
    "                                  check_dtype=False)"
   ]
  },
  {
   "cell_type": "markdown",
   "id": "6ba1006c",
   "metadata": {},
   "source": [
    "#### Validate duplicates drop"
   ]
  },
  {
   "cell_type": "markdown",
   "id": "b3ef6285",
   "metadata": {},
   "source": [
    "Compare duplicates detection with pandas.DataFrame.duplicated()."
   ]
  },
  {
   "cell_type": "code",
   "execution_count": 20,
   "id": "3496633e",
   "metadata": {
    "ExecuteTime": {
     "end_time": "2022-09-08T22:00:27.282350Z",
     "start_time": "2022-09-08T22:00:27.261840Z"
    }
   },
   "outputs": [],
   "source": [
    "df_drop_from_tree = tree.tree_to_df(duplicates ='drop')"
   ]
  },
  {
   "cell_type": "code",
   "execution_count": 21,
   "id": "07d72eed",
   "metadata": {
    "ExecuteTime": {
     "end_time": "2022-09-08T22:00:27.297978Z",
     "start_time": "2022-09-08T22:00:27.282350Z"
    },
    "scrolled": true
   },
   "outputs": [],
   "source": [
    "if run_tree_line_by_line:\n",
    "    actual_result = (df_drop_from_tree\n",
    "                     .sort_values(by=df_dups_from_tree.columns.to_list())\n",
    "                     .reset_index(drop=True))\n",
    "\n",
    "    expected_result = (df_input.drop_duplicates()\n",
    "                       .sort_values(by=df_dups_from_tree.columns.to_list())\n",
    "                       .reset_index(drop=True))\n",
    "\n",
    "    pd.testing.assert_frame_equal(actual_result, expected_result,\n",
    "                                  check_column_type=False, \n",
    "                                  check_index_type=False, \n",
    "                                  check_dtype=False)"
   ]
  },
  {
   "cell_type": "markdown",
   "id": "fe7d5e68",
   "metadata": {
    "ExecuteTime": {
     "end_time": "2022-09-07T10:31:08.515286Z",
     "start_time": "2022-09-07T10:31:08.501443Z"
    }
   },
   "source": [
    "## At table at once"
   ]
  },
  {
   "cell_type": "code",
   "execution_count": 22,
   "id": "f9e6fda6",
   "metadata": {
    "ExecuteTime": {
     "end_time": "2022-09-08T22:00:27.313677Z",
     "start_time": "2022-09-08T22:00:27.297978Z"
    }
   },
   "outputs": [
    {
     "data": {
      "text/html": [
       "<div>\n",
       "<style scoped>\n",
       "    .dataframe tbody tr th:only-of-type {\n",
       "        vertical-align: middle;\n",
       "    }\n",
       "\n",
       "    .dataframe tbody tr th {\n",
       "        vertical-align: top;\n",
       "    }\n",
       "\n",
       "    .dataframe thead th {\n",
       "        text-align: right;\n",
       "    }\n",
       "</style>\n",
       "<table border=\"1\" class=\"dataframe\">\n",
       "  <thead>\n",
       "    <tr style=\"text-align: right;\">\n",
       "      <th></th>\n",
       "      <th>ID</th>\n",
       "      <th>GAME_NAME</th>\n",
       "      <th>BEHAVIOUR</th>\n",
       "      <th>PLAY_PURCHASE</th>\n",
       "      <th>NONE</th>\n",
       "    </tr>\n",
       "  </thead>\n",
       "  <tbody>\n",
       "    <tr>\n",
       "      <th>0</th>\n",
       "      <td>151603712</td>\n",
       "      <td>The Elder Scrolls V Skyrim</td>\n",
       "      <td>purchase</td>\n",
       "      <td>1.0</td>\n",
       "      <td>0</td>\n",
       "    </tr>\n",
       "    <tr>\n",
       "      <th>1</th>\n",
       "      <td>151603712</td>\n",
       "      <td>The Elder Scrolls V Skyrim</td>\n",
       "      <td>play</td>\n",
       "      <td>273.0</td>\n",
       "      <td>0</td>\n",
       "    </tr>\n",
       "    <tr>\n",
       "      <th>2</th>\n",
       "      <td>151603712</td>\n",
       "      <td>Fallout 4</td>\n",
       "      <td>purchase</td>\n",
       "      <td>1.0</td>\n",
       "      <td>0</td>\n",
       "    </tr>\n",
       "    <tr>\n",
       "      <th>3</th>\n",
       "      <td>151603712</td>\n",
       "      <td>Fallout 4</td>\n",
       "      <td>play</td>\n",
       "      <td>87.0</td>\n",
       "      <td>0</td>\n",
       "    </tr>\n",
       "    <tr>\n",
       "      <th>4</th>\n",
       "      <td>151603712</td>\n",
       "      <td>Spore</td>\n",
       "      <td>purchase</td>\n",
       "      <td>1.0</td>\n",
       "      <td>0</td>\n",
       "    </tr>\n",
       "    <tr>\n",
       "      <th>...</th>\n",
       "      <td>...</td>\n",
       "      <td>...</td>\n",
       "      <td>...</td>\n",
       "      <td>...</td>\n",
       "      <td>...</td>\n",
       "    </tr>\n",
       "    <tr>\n",
       "      <th>199995</th>\n",
       "      <td>128470551</td>\n",
       "      <td>Titan Souls</td>\n",
       "      <td>play</td>\n",
       "      <td>1.5</td>\n",
       "      <td>0</td>\n",
       "    </tr>\n",
       "    <tr>\n",
       "      <th>199996</th>\n",
       "      <td>128470551</td>\n",
       "      <td>Grand Theft Auto Vice City</td>\n",
       "      <td>purchase</td>\n",
       "      <td>1.0</td>\n",
       "      <td>0</td>\n",
       "    </tr>\n",
       "    <tr>\n",
       "      <th>199997</th>\n",
       "      <td>128470551</td>\n",
       "      <td>Grand Theft Auto Vice City</td>\n",
       "      <td>play</td>\n",
       "      <td>1.5</td>\n",
       "      <td>0</td>\n",
       "    </tr>\n",
       "    <tr>\n",
       "      <th>199998</th>\n",
       "      <td>128470551</td>\n",
       "      <td>RUSH</td>\n",
       "      <td>purchase</td>\n",
       "      <td>1.0</td>\n",
       "      <td>0</td>\n",
       "    </tr>\n",
       "    <tr>\n",
       "      <th>199999</th>\n",
       "      <td>128470551</td>\n",
       "      <td>RUSH</td>\n",
       "      <td>play</td>\n",
       "      <td>1.4</td>\n",
       "      <td>0</td>\n",
       "    </tr>\n",
       "  </tbody>\n",
       "</table>\n",
       "<p>200000 rows × 5 columns</p>\n",
       "</div>"
      ],
      "text/plain": [
       "               ID                   GAME_NAME BEHAVIOUR  PLAY_PURCHASE  NONE\n",
       "0       151603712  The Elder Scrolls V Skyrim  purchase            1.0     0\n",
       "1       151603712  The Elder Scrolls V Skyrim      play          273.0     0\n",
       "2       151603712                   Fallout 4  purchase            1.0     0\n",
       "3       151603712                   Fallout 4      play           87.0     0\n",
       "4       151603712                       Spore  purchase            1.0     0\n",
       "...           ...                         ...       ...            ...   ...\n",
       "199995  128470551                 Titan Souls      play            1.5     0\n",
       "199996  128470551  Grand Theft Auto Vice City  purchase            1.0     0\n",
       "199997  128470551  Grand Theft Auto Vice City      play            1.5     0\n",
       "199998  128470551                        RUSH  purchase            1.0     0\n",
       "199999  128470551                        RUSH      play            1.4     0\n",
       "\n",
       "[200000 rows x 5 columns]"
      ]
     },
     "execution_count": 22,
     "metadata": {},
     "output_type": "execute_result"
    }
   ],
   "source": [
    "df_input"
   ]
  },
  {
   "cell_type": "markdown",
   "id": "27933430",
   "metadata": {},
   "source": [
    "Create tree structure from table."
   ]
  },
  {
   "cell_type": "code",
   "execution_count": 23,
   "id": "82a1b222",
   "metadata": {
    "ExecuteTime": {
     "end_time": "2022-09-09T04:40:59.687896Z",
     "start_time": "2022-09-08T22:00:27.316552Z"
    }
   },
   "outputs": [],
   "source": [
    "try:\n",
    "    del tree\n",
    "except NameError:\n",
    "    pass\n",
    "\n",
    "tree = Node(df_input.columns.to_list())\n",
    "tree.add_table(df_input)"
   ]
  },
  {
   "cell_type": "markdown",
   "id": "3e9bae5f",
   "metadata": {},
   "source": [
    "### Validate the results"
   ]
  },
  {
   "cell_type": "markdown",
   "id": "6e241b8e",
   "metadata": {},
   "source": [
    "#### Validate tree structure"
   ]
  },
  {
   "cell_type": "markdown",
   "id": "7f1107f6",
   "metadata": {},
   "source": [
    "The data must remain the same when converted to a tree a converted back to a table."
   ]
  },
  {
   "cell_type": "code",
   "execution_count": 24,
   "id": "b1872891",
   "metadata": {
    "ExecuteTime": {
     "end_time": "2022-09-09T04:41:34.054544Z",
     "start_time": "2022-09-09T04:40:59.687896Z"
    }
   },
   "outputs": [],
   "source": [
    "df_from_tree = tree.tree_to_df(duplicates ='ignore')"
   ]
  },
  {
   "cell_type": "code",
   "execution_count": 25,
   "id": "73db8bbb",
   "metadata": {
    "ExecuteTime": {
     "end_time": "2022-09-09T04:41:35.625053Z",
     "start_time": "2022-09-09T04:41:34.054544Z"
    },
    "scrolled": true
   },
   "outputs": [],
   "source": [
    "actual_result = (df_from_tree\n",
    "                 .sort_values(by=df_from_tree.columns.to_list())\n",
    "                 .reset_index(drop=True))\n",
    "\n",
    "expected_result = (df_input\n",
    "                   .sort_values(by=df_input.columns.to_list())\n",
    "                   .reset_index(drop=True))\n",
    "\n",
    "pd.testing.assert_frame_equal(actual_result, expected_result)"
   ]
  },
  {
   "cell_type": "markdown",
   "id": "58abddb0",
   "metadata": {},
   "source": [
    "#### Validate duplicates"
   ]
  },
  {
   "cell_type": "markdown",
   "id": "45fcdeff",
   "metadata": {},
   "source": [
    "Compare duplicates detection with pandas.DataFrame.duplicated()."
   ]
  },
  {
   "cell_type": "code",
   "execution_count": 26,
   "id": "87652113",
   "metadata": {
    "ExecuteTime": {
     "end_time": "2022-09-09T04:41:36.100436Z",
     "start_time": "2022-09-09T04:41:35.625053Z"
    }
   },
   "outputs": [],
   "source": [
    "df_dups_from_tree = tree.tree_to_df(duplicates ='find')"
   ]
  },
  {
   "cell_type": "code",
   "execution_count": 27,
   "id": "e70ee5e0",
   "metadata": {
    "ExecuteTime": {
     "end_time": "2022-09-09T04:41:36.176669Z",
     "start_time": "2022-09-09T04:41:36.100436Z"
    }
   },
   "outputs": [],
   "source": [
    "actual_result = (df_dups_from_tree\n",
    "                 .sort_values(by=df_dups_from_tree.columns.to_list())\n",
    "                 .reset_index(drop=True))\n",
    "\n",
    "expected_result = (df_input.loc[df_input.duplicated(),:]\n",
    "                   .sort_values(by=df_dups_from_tree.columns.to_list())\n",
    "                   .reset_index(drop=True))\n",
    "\n",
    "pd.testing.assert_frame_equal(actual_result, expected_result,\n",
    "                              check_column_type=False, \n",
    "                              check_index_type=False, \n",
    "                              check_dtype=False)"
   ]
  },
  {
   "cell_type": "markdown",
   "id": "ac3ff22c",
   "metadata": {},
   "source": [
    "#### Validate duplicates drop"
   ]
  },
  {
   "cell_type": "markdown",
   "id": "b05844ae",
   "metadata": {},
   "source": [
    "Compare duplicates detection with pandas.DataFrame.duplicated()."
   ]
  },
  {
   "cell_type": "code",
   "execution_count": 28,
   "id": "4b6964b7",
   "metadata": {
    "ExecuteTime": {
     "end_time": "2022-09-09T04:42:09.948736Z",
     "start_time": "2022-09-09T04:41:36.176669Z"
    }
   },
   "outputs": [],
   "source": [
    "df_drop_from_tree = tree.tree_to_df(duplicates ='drop')"
   ]
  },
  {
   "cell_type": "code",
   "execution_count": 29,
   "id": "88f49cf7",
   "metadata": {
    "ExecuteTime": {
     "end_time": "2022-09-09T04:42:11.499306Z",
     "start_time": "2022-09-09T04:42:09.948736Z"
    },
    "scrolled": true
   },
   "outputs": [],
   "source": [
    "actual_result = (df_drop_from_tree\n",
    "                 .sort_values(by=df_dups_from_tree.columns.to_list())\n",
    "                 .reset_index(drop=True))\n",
    "\n",
    "expected_result = (df_input.drop_duplicates()\n",
    "                   .sort_values(by=df_dups_from_tree.columns.to_list())\n",
    "                   .reset_index(drop=True))\n",
    "\n",
    "pd.testing.assert_frame_equal(actual_result, expected_result,\n",
    "                              check_column_type=False, \n",
    "                              check_index_type=False, \n",
    "                              check_dtype=False)"
   ]
  },
  {
   "cell_type": "code",
   "execution_count": null,
   "id": "77012d9b",
   "metadata": {},
   "outputs": [],
   "source": []
  },
  {
   "cell_type": "code",
   "execution_count": 30,
   "id": "c1f55ec3",
   "metadata": {
    "ExecuteTime": {
     "end_time": "2022-09-09T04:42:11.528962Z",
     "start_time": "2022-09-09T04:42:11.499306Z"
    }
   },
   "outputs": [],
   "source": [
    "# try:\n",
    "#     del tree\n",
    "# except NameError:\n",
    "#     pass"
   ]
  },
  {
   "cell_type": "code",
   "execution_count": null,
   "id": "afc1854b",
   "metadata": {},
   "outputs": [],
   "source": []
  }
 ],
 "metadata": {
  "kernelspec": {
   "display_name": "Python 3 (ipykernel)",
   "language": "python",
   "name": "python3"
  },
  "language_info": {
   "codemirror_mode": {
    "name": "ipython",
    "version": 3
   },
   "file_extension": ".py",
   "mimetype": "text/x-python",
   "name": "python",
   "nbconvert_exporter": "python",
   "pygments_lexer": "ipython3",
   "version": "3.9.12"
  },
  "toc": {
   "base_numbering": 1,
   "nav_menu": {},
   "number_sections": true,
   "sideBar": true,
   "skip_h1_title": false,
   "title_cell": "Table of Contents",
   "title_sidebar": "Contents",
   "toc_cell": false,
   "toc_position": {},
   "toc_section_display": true,
   "toc_window_display": false
  }
 },
 "nbformat": 4,
 "nbformat_minor": 5
}
