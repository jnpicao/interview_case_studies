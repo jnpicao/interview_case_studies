{
 "cells": [
  {
   "cell_type": "code",
   "execution_count": 7,
   "id": "c4a3f749",
   "metadata": {
    "ExecuteTime": {
     "end_time": "2022-09-07T20:24:22.779976Z",
     "start_time": "2022-09-07T20:24:22.764003Z"
    }
   },
   "outputs": [],
   "source": [
    "import os\n",
    "import csv\n",
    "\n",
    "import re\n",
    "import pandas as pd\n",
    "import json\n",
    "\n",
    "from utils_part2 import clean_csv_4, Node"
   ]
  },
  {
   "cell_type": "markdown",
   "id": "081f16d7",
   "metadata": {},
   "source": [
    "### Selected option"
   ]
  },
  {
   "cell_type": "code",
   "execution_count": 125,
   "id": "715c8ce2",
   "metadata": {
    "ExecuteTime": {
     "end_time": "2022-09-07T21:27:21.113134Z",
     "start_time": "2022-09-07T21:27:21.082092Z"
    }
   },
   "outputs": [],
   "source": [
    "def clean_csv(input_file_path=None, chars_to_remove = ['\"', ';']):\n",
    "    \n",
    "    # Read input file\n",
    "    with open(input_file_path, newline='') as input_file:\n",
    "        \n",
    "        line_list = input_file.readlines()\n",
    "    \n",
    "    # Output to temp file\n",
    "    output_file_path = input_file_path.replace('.csv','_cln.csv')\n",
    "    \n",
    "    with open(output_file_path, 'w') as output_file:\n",
    "        \n",
    "        for line in line_list:\n",
    "            \n",
    "            cln_row = line\n",
    "            # remove first quote\n",
    "            cln_row = re.sub(r'^\"', '', cln_row)\n",
    "            # replace \\r\\n by \\n ate end of file\n",
    "            cln_row = re.sub(r'\\r\\n$', r'\\n', cln_row)\n",
    "            # remove last semicolon\n",
    "            cln_row = re.sub(r';\\n$', r'\\n', cln_row)\n",
    "            cln_row = re.sub(r';$', r'', cln_row)            \n",
    "            # remove last quote\n",
    "            cln_row = re.sub(r'\"\\r\\n$', '\\r\\n', cln_row)\n",
    "            cln_row = re.sub(r'\"$', '', cln_row)\n",
    "            # replace double quotes by single quotes\n",
    "            cln_row = re.sub(r'\"\"', '\"', cln_row)\n",
    "            \n",
    "            output_file.write(cln_row)\n"
   ]
  },
  {
   "cell_type": "code",
   "execution_count": 126,
   "id": "9f46c7f9",
   "metadata": {
    "ExecuteTime": {
     "end_time": "2022-09-07T21:27:29.711579Z",
     "start_time": "2022-09-07T21:27:29.691223Z"
    }
   },
   "outputs": [],
   "source": [
    "clean_csv('smpl_read.csv')"
   ]
  },
  {
   "cell_type": "code",
   "execution_count": 127,
   "id": "8b37d55c",
   "metadata": {
    "ExecuteTime": {
     "end_time": "2022-09-07T21:27:32.961209Z",
     "start_time": "2022-09-07T21:27:32.931684Z"
    }
   },
   "outputs": [
    {
     "data": {
      "text/html": [
       "<div>\n",
       "<style scoped>\n",
       "    .dataframe tbody tr th:only-of-type {\n",
       "        vertical-align: middle;\n",
       "    }\n",
       "\n",
       "    .dataframe tbody tr th {\n",
       "        vertical-align: top;\n",
       "    }\n",
       "\n",
       "    .dataframe thead th {\n",
       "        text-align: right;\n",
       "    }\n",
       "</style>\n",
       "<table border=\"1\" class=\"dataframe\">\n",
       "  <thead>\n",
       "    <tr style=\"text-align: right;\">\n",
       "      <th></th>\n",
       "      <th>ID</th>\n",
       "      <th>GAME_NAME</th>\n",
       "      <th>BEHAVIOUR</th>\n",
       "      <th>PLAY_PURCHASE</th>\n",
       "      <th>NONE</th>\n",
       "    </tr>\n",
       "  </thead>\n",
       "  <tbody>\n",
       "    <tr>\n",
       "      <th>0</th>\n",
       "      <td>151603712</td>\n",
       "      <td>The Elder Scrolls V Skyrim</td>\n",
       "      <td>purchase</td>\n",
       "      <td>1.0</td>\n",
       "      <td>0</td>\n",
       "    </tr>\n",
       "    <tr>\n",
       "      <th>1</th>\n",
       "      <td>151603712</td>\n",
       "      <td>The Elder Scrolls V Skyrim</td>\n",
       "      <td>play</td>\n",
       "      <td>273.0</td>\n",
       "      <td>0</td>\n",
       "    </tr>\n",
       "    <tr>\n",
       "      <th>2</th>\n",
       "      <td>151603712</td>\n",
       "      <td>Fallout 4</td>\n",
       "      <td>purchase</td>\n",
       "      <td>1.0</td>\n",
       "      <td>0</td>\n",
       "    </tr>\n",
       "    <tr>\n",
       "      <th>3</th>\n",
       "      <td>151603712</td>\n",
       "      <td>Fallout 4</td>\n",
       "      <td>play</td>\n",
       "      <td>87.0</td>\n",
       "      <td>0</td>\n",
       "    </tr>\n",
       "    <tr>\n",
       "      <th>4</th>\n",
       "      <td>53875128</td>\n",
       "      <td>BioShock</td>\n",
       "      <td>play</td>\n",
       "      <td>0.8</td>\n",
       "      <td>0</td>\n",
       "    </tr>\n",
       "    <tr>\n",
       "      <th>5</th>\n",
       "      <td>53875128</td>\n",
       "      <td>Trine</td>\n",
       "      <td>purchase</td>\n",
       "      <td>1.0</td>\n",
       "      <td>0</td>\n",
       "    </tr>\n",
       "    <tr>\n",
       "      <th>6</th>\n",
       "      <td>53875128</td>\n",
       "      <td>Trine</td>\n",
       "      <td>play</td>\n",
       "      <td>0.8</td>\n",
       "      <td>0</td>\n",
       "    </tr>\n",
       "    <tr>\n",
       "      <th>7</th>\n",
       "      <td>53875128</td>\n",
       "      <td>Sir, You Are Being Hunted</td>\n",
       "      <td>purchase</td>\n",
       "      <td>1.0</td>\n",
       "      <td>0</td>\n",
       "    </tr>\n",
       "    <tr>\n",
       "      <th>8</th>\n",
       "      <td>53875128</td>\n",
       "      <td>Sir, You Are Being Hunted</td>\n",
       "      <td>play</td>\n",
       "      <td>0.8</td>\n",
       "      <td>0</td>\n",
       "    </tr>\n",
       "    <tr>\n",
       "      <th>9</th>\n",
       "      <td>53875128</td>\n",
       "      <td>Next Car Game Sneak Peek 2.0</td>\n",
       "      <td>purchase</td>\n",
       "      <td>1.0</td>\n",
       "      <td>0</td>\n",
       "    </tr>\n",
       "    <tr>\n",
       "      <th>10</th>\n",
       "      <td>53875128</td>\n",
       "      <td>Next Car Game Sneak Peek 2.0</td>\n",
       "      <td>play</td>\n",
       "      <td>0.7</td>\n",
       "      <td>0</td>\n",
       "    </tr>\n",
       "  </tbody>\n",
       "</table>\n",
       "</div>"
      ],
      "text/plain": [
       "           ID                     GAME_NAME BEHAVIOUR  PLAY_PURCHASE  NONE\n",
       "0   151603712    The Elder Scrolls V Skyrim  purchase            1.0     0\n",
       "1   151603712    The Elder Scrolls V Skyrim      play          273.0     0\n",
       "2   151603712                     Fallout 4  purchase            1.0     0\n",
       "3   151603712                     Fallout 4      play           87.0     0\n",
       "4    53875128                      BioShock      play            0.8     0\n",
       "5    53875128                         Trine  purchase            1.0     0\n",
       "6    53875128                         Trine      play            0.8     0\n",
       "7    53875128     Sir, You Are Being Hunted  purchase            1.0     0\n",
       "8    53875128     Sir, You Are Being Hunted      play            0.8     0\n",
       "9    53875128  Next Car Game Sneak Peek 2.0  purchase            1.0     0\n",
       "10   53875128  Next Car Game Sneak Peek 2.0      play            0.7     0"
      ]
     },
     "execution_count": 127,
     "metadata": {},
     "output_type": "execute_result"
    }
   ],
   "source": [
    "pd.read_csv('smpl_read_cln.csv')"
   ]
  },
  {
   "cell_type": "code",
   "execution_count": null,
   "id": "4e3e58cb",
   "metadata": {},
   "outputs": [],
   "source": []
  },
  {
   "cell_type": "code",
   "execution_count": null,
   "id": "9ce020bd",
   "metadata": {},
   "outputs": [],
   "source": []
  },
  {
   "cell_type": "markdown",
   "id": "22287b0d",
   "metadata": {},
   "source": [
    "### Option 1"
   ]
  },
  {
   "cell_type": "code",
   "execution_count": 2,
   "id": "b704fa8a",
   "metadata": {
    "ExecuteTime": {
     "end_time": "2022-09-07T20:22:00.463679Z",
     "start_time": "2022-09-07T20:22:00.451180Z"
    }
   },
   "outputs": [],
   "source": [
    "def clean_csv(input_file_path=None, chars_to_remove = ['\"', ';']):\n",
    "    \n",
    "    with open(input_file_path, newline='') as csvfile:\n",
    "        \n",
    "        reader = csv.reader(csvfile, quotechar='\"', delimiter=',', quoting=csv.QUOTE_NONE)\n",
    "\n",
    "        # Initializations\n",
    "        final_list_of_rows = []\n",
    "\n",
    "        for row in reader:\n",
    "            row_cln = row.copy()\n",
    "            for char in chars_to_remove:\n",
    "                row_cln = list(map(lambda x: x.replace(char,''), row_cln))\n",
    "\n",
    "            final_list_of_rows.append(row_cln)\n",
    "            \n",
    "    \n",
    "    output_file_path = input_file_path.replace('.csv','_cln1.csv')\n",
    "    \n",
    "    with open(output_file_path, 'w', newline='') as csvfile:\n",
    "        writer = csv.writer(csvfile, delimiter=',', quotechar='\"', quoting=csv.QUOTE_MINIMAL)\n",
    "        \n",
    "        for row in final_list_of_rows:\n",
    "            writer.writerow(row)"
   ]
  },
  {
   "cell_type": "code",
   "execution_count": 4,
   "id": "1d86a756",
   "metadata": {
    "ExecuteTime": {
     "end_time": "2022-09-07T20:22:26.352167Z",
     "start_time": "2022-09-07T20:22:26.323156Z"
    }
   },
   "outputs": [],
   "source": [
    "clean_csv('smpl_read.csv')"
   ]
  },
  {
   "cell_type": "markdown",
   "id": "3c796839",
   "metadata": {},
   "source": [
    "### Option 2"
   ]
  },
  {
   "cell_type": "code",
   "execution_count": 55,
   "id": "16899ce4",
   "metadata": {
    "ExecuteTime": {
     "end_time": "2022-09-07T20:57:57.118175Z",
     "start_time": "2022-09-07T20:57:57.100123Z"
    }
   },
   "outputs": [],
   "source": [
    "def clean_csv_2(input_file_path=None, chars_to_remove = ['\"', ';']):\n",
    "    \n",
    "    with open(input_file_path, newline='') as input_file:\n",
    "        \n",
    "        line_list = input_file.readlines()\n",
    "    \n",
    "    output_file_path = input_file_path.replace('.csv','_cln2.csv')\n",
    "    \n",
    "    with open(output_file_path, 'w') as output_file:\n",
    "        \n",
    "        for line in line_list:\n",
    "            \n",
    "            # remove first quote\n",
    "            cln_row = line\n",
    "            cln_row = re.sub(r'^\"', '', cln_row)\n",
    "            cln_row = re.sub(r'\\r\\n$', r'\\n', cln_row)\n",
    "            cln_row = re.sub(r'\";$', '', cln_row)\n",
    "            \n",
    "            output_file.write(cln_row)"
   ]
  },
  {
   "cell_type": "code",
   "execution_count": 56,
   "id": "1cd50f59",
   "metadata": {
    "ExecuteTime": {
     "end_time": "2022-09-07T20:58:00.072271Z",
     "start_time": "2022-09-07T20:58:00.058717Z"
    }
   },
   "outputs": [],
   "source": [
    "clean_csv_2('smpl_read.csv')"
   ]
  },
  {
   "cell_type": "code",
   "execution_count": 33,
   "id": "d93d1962",
   "metadata": {
    "ExecuteTime": {
     "end_time": "2022-09-07T20:36:35.413640Z",
     "start_time": "2022-09-07T20:36:35.395110Z"
    }
   },
   "outputs": [],
   "source": [
    "with open('smpl_read_cln2.csv', 'r', newline='') as csvfile:\n",
    "    \n",
    "    reader = csv.reader(csvfile, quotechar='\"', delimiter=',', quoting=csv.QUOTE_NONE) #, quoting=csv.QUOTE_NONE\n",
    "    \n",
    "    # Initializations\n",
    "    final_list_of_rows = []\n",
    "    \n",
    "    for row in reader:\n",
    "        final_list_of_rows.append(row)"
   ]
  },
  {
   "cell_type": "code",
   "execution_count": 34,
   "id": "b83c3d7a",
   "metadata": {
    "ExecuteTime": {
     "end_time": "2022-09-07T20:36:36.323307Z",
     "start_time": "2022-09-07T20:36:36.280616Z"
    }
   },
   "outputs": [
    {
     "data": {
      "text/plain": [
       "[['ID', 'GAME_NAME', 'BEHAVIOUR', 'PLAY_PURCHASE', 'NONE;'],\n",
       " ['151603712', '\"\"The Elder Scrolls V Skyrim\"\"', 'purchase', '1.0', '0'],\n",
       " ['151603712', '\"\"The Elder Scrolls V Skyrim\"\"', 'play', '273.0', '0'],\n",
       " ['151603712', '\"\"Fallout 4\"\"', 'purchase', '1.0', '0'],\n",
       " ['151603712', '\"\"Fallout 4\"\"', 'play', '87.0', '0'],\n",
       " ['53875128', '\"\"BioShock\"\"', 'play', '0.8', '0'],\n",
       " ['53875128', '\"\"Trine\"\"', 'purchase', '1.0', '0'],\n",
       " ['53875128', '\"\"Trine\"\"', 'play', '0.8', '0'],\n",
       " ['53875128', '\"\"Sir', ' You Are Being Hunted\"\"', 'purchase', '1.0', '0'],\n",
       " ['53875128', '\"\"Sir', ' You Are Being Hunted\"\"', 'play', '0.8', '0'],\n",
       " ['53875128', '\"\"Next Car Game Sneak Peek 2.0\"\"', 'purchase', '1.0', '0'],\n",
       " ['53875128', '\"\"Next Car Game Sneak Peek 2.0\"\"', 'play', '0.7', '0']]"
      ]
     },
     "execution_count": 34,
     "metadata": {},
     "output_type": "execute_result"
    }
   ],
   "source": [
    "final_list_of_rows"
   ]
  },
  {
   "cell_type": "markdown",
   "id": "8f438da6",
   "metadata": {},
   "source": [
    "### Option 3"
   ]
  },
  {
   "cell_type": "code",
   "execution_count": 122,
   "id": "2a4f5ab2",
   "metadata": {
    "ExecuteTime": {
     "end_time": "2022-09-07T21:25:31.757005Z",
     "start_time": "2022-09-07T21:25:31.742645Z"
    }
   },
   "outputs": [],
   "source": [
    "def clean_csv_3(input_file_path=None, chars_to_remove = ['\"', ';']):\n",
    "    \n",
    "    # Read input file\n",
    "    with open(input_file_path, newline='') as input_file:\n",
    "        \n",
    "        line_list = input_file.readlines()\n",
    "    \n",
    "    # Output to temp file\n",
    "    output_file_path = input_file_path.replace('.csv','_cln.csv')\n",
    "    \n",
    "    with open(output_file_path, 'w') as output_file:\n",
    "        \n",
    "        for line in line_list:\n",
    "            \n",
    "            cln_row = line\n",
    "            # remove first quote\n",
    "            cln_row = re.sub(r'^\"', '', cln_row)\n",
    "            # replace \\r\\n by \\n ate end of file\n",
    "            cln_row = re.sub(r'\\r\\n$', r'\\n', cln_row)\n",
    "            # remove last semicolon\n",
    "            cln_row = re.sub(r';\\n$', r'\\n', cln_row)\n",
    "            cln_row = re.sub(r';$', r'', cln_row)            \n",
    "            # remove last quote\n",
    "            cln_row = re.sub(r'\"\\r\\n$', '\\r\\n', cln_row)\n",
    "            cln_row = re.sub(r'\"$', '', cln_row)\n",
    "            # replace double quotes by single quotes\n",
    "            cln_row = re.sub(r'\"\"', '\"', cln_row)\n",
    "            \n",
    "            output_file.write(cln_row)\n"
   ]
  },
  {
   "cell_type": "code",
   "execution_count": 123,
   "id": "56519d17",
   "metadata": {
    "ExecuteTime": {
     "end_time": "2022-09-07T21:25:32.593148Z",
     "start_time": "2022-09-07T21:25:32.577723Z"
    }
   },
   "outputs": [],
   "source": [
    "clean_csv_3('smpl_read.csv')"
   ]
  },
  {
   "cell_type": "code",
   "execution_count": 124,
   "id": "24b06da7",
   "metadata": {
    "ExecuteTime": {
     "end_time": "2022-09-07T21:25:33.863164Z",
     "start_time": "2022-09-07T21:25:33.847036Z"
    }
   },
   "outputs": [
    {
     "data": {
      "text/html": [
       "<div>\n",
       "<style scoped>\n",
       "    .dataframe tbody tr th:only-of-type {\n",
       "        vertical-align: middle;\n",
       "    }\n",
       "\n",
       "    .dataframe tbody tr th {\n",
       "        vertical-align: top;\n",
       "    }\n",
       "\n",
       "    .dataframe thead th {\n",
       "        text-align: right;\n",
       "    }\n",
       "</style>\n",
       "<table border=\"1\" class=\"dataframe\">\n",
       "  <thead>\n",
       "    <tr style=\"text-align: right;\">\n",
       "      <th></th>\n",
       "      <th>ID</th>\n",
       "      <th>GAME_NAME</th>\n",
       "      <th>BEHAVIOUR</th>\n",
       "      <th>PLAY_PURCHASE</th>\n",
       "      <th>NONE</th>\n",
       "    </tr>\n",
       "  </thead>\n",
       "  <tbody>\n",
       "    <tr>\n",
       "      <th>0</th>\n",
       "      <td>151603712</td>\n",
       "      <td>The Elder Scrolls V Skyrim</td>\n",
       "      <td>purchase</td>\n",
       "      <td>1.0</td>\n",
       "      <td>0</td>\n",
       "    </tr>\n",
       "    <tr>\n",
       "      <th>1</th>\n",
       "      <td>151603712</td>\n",
       "      <td>The Elder Scrolls V Skyrim</td>\n",
       "      <td>play</td>\n",
       "      <td>273.0</td>\n",
       "      <td>0</td>\n",
       "    </tr>\n",
       "    <tr>\n",
       "      <th>2</th>\n",
       "      <td>151603712</td>\n",
       "      <td>Fallout 4</td>\n",
       "      <td>purchase</td>\n",
       "      <td>1.0</td>\n",
       "      <td>0</td>\n",
       "    </tr>\n",
       "    <tr>\n",
       "      <th>3</th>\n",
       "      <td>151603712</td>\n",
       "      <td>Fallout 4</td>\n",
       "      <td>play</td>\n",
       "      <td>87.0</td>\n",
       "      <td>0</td>\n",
       "    </tr>\n",
       "    <tr>\n",
       "      <th>4</th>\n",
       "      <td>53875128</td>\n",
       "      <td>BioShock</td>\n",
       "      <td>play</td>\n",
       "      <td>0.8</td>\n",
       "      <td>0</td>\n",
       "    </tr>\n",
       "    <tr>\n",
       "      <th>5</th>\n",
       "      <td>53875128</td>\n",
       "      <td>Trine</td>\n",
       "      <td>purchase</td>\n",
       "      <td>1.0</td>\n",
       "      <td>0</td>\n",
       "    </tr>\n",
       "    <tr>\n",
       "      <th>6</th>\n",
       "      <td>53875128</td>\n",
       "      <td>Trine</td>\n",
       "      <td>play</td>\n",
       "      <td>0.8</td>\n",
       "      <td>0</td>\n",
       "    </tr>\n",
       "    <tr>\n",
       "      <th>7</th>\n",
       "      <td>53875128</td>\n",
       "      <td>Sir, You Are Being Hunted</td>\n",
       "      <td>purchase</td>\n",
       "      <td>1.0</td>\n",
       "      <td>0</td>\n",
       "    </tr>\n",
       "    <tr>\n",
       "      <th>8</th>\n",
       "      <td>53875128</td>\n",
       "      <td>Sir, You Are Being Hunted</td>\n",
       "      <td>play</td>\n",
       "      <td>0.8</td>\n",
       "      <td>0</td>\n",
       "    </tr>\n",
       "    <tr>\n",
       "      <th>9</th>\n",
       "      <td>53875128</td>\n",
       "      <td>Next Car Game Sneak Peek 2.0</td>\n",
       "      <td>purchase</td>\n",
       "      <td>1.0</td>\n",
       "      <td>0</td>\n",
       "    </tr>\n",
       "    <tr>\n",
       "      <th>10</th>\n",
       "      <td>53875128</td>\n",
       "      <td>Next Car Game Sneak Peek 2.0</td>\n",
       "      <td>play</td>\n",
       "      <td>0.7</td>\n",
       "      <td>0</td>\n",
       "    </tr>\n",
       "  </tbody>\n",
       "</table>\n",
       "</div>"
      ],
      "text/plain": [
       "           ID                     GAME_NAME BEHAVIOUR  PLAY_PURCHASE  NONE\n",
       "0   151603712    The Elder Scrolls V Skyrim  purchase            1.0     0\n",
       "1   151603712    The Elder Scrolls V Skyrim      play          273.0     0\n",
       "2   151603712                     Fallout 4  purchase            1.0     0\n",
       "3   151603712                     Fallout 4      play           87.0     0\n",
       "4    53875128                      BioShock      play            0.8     0\n",
       "5    53875128                         Trine  purchase            1.0     0\n",
       "6    53875128                         Trine      play            0.8     0\n",
       "7    53875128     Sir, You Are Being Hunted  purchase            1.0     0\n",
       "8    53875128     Sir, You Are Being Hunted      play            0.8     0\n",
       "9    53875128  Next Car Game Sneak Peek 2.0  purchase            1.0     0\n",
       "10   53875128  Next Car Game Sneak Peek 2.0      play            0.7     0"
      ]
     },
     "execution_count": 124,
     "metadata": {},
     "output_type": "execute_result"
    }
   ],
   "source": [
    "pd.read_csv('_temp_buffer_file.csv')"
   ]
  },
  {
   "cell_type": "code",
   "execution_count": 90,
   "id": "23df3f0b",
   "metadata": {
    "ExecuteTime": {
     "end_time": "2022-09-07T21:13:39.019013Z",
     "start_time": "2022-09-07T21:13:38.987881Z"
    }
   },
   "outputs": [
    {
     "ename": "NameError",
     "evalue": "name 'cln_row' is not defined",
     "output_type": "error",
     "traceback": [
      "\u001b[1;31m---------------------------------------------------------------------------\u001b[0m",
      "\u001b[1;31mNameError\u001b[0m                                 Traceback (most recent call last)",
      "Input \u001b[1;32mIn [90]\u001b[0m, in \u001b[0;36m<cell line: 1>\u001b[1;34m()\u001b[0m\n\u001b[1;32m----> 1\u001b[0m \u001b[43mcln_row\u001b[49m\n",
      "\u001b[1;31mNameError\u001b[0m: name 'cln_row' is not defined"
     ]
    }
   ],
   "source": [
    "cln_row"
   ]
  },
  {
   "cell_type": "code",
   "execution_count": 85,
   "id": "c6bdf83c",
   "metadata": {
    "ExecuteTime": {
     "end_time": "2022-09-07T21:11:06.666477Z",
     "start_time": "2022-09-07T21:11:06.653235Z"
    }
   },
   "outputs": [],
   "source": [
    "def clean_csv_3(input_file_path=None, chars_to_remove = ['\"', ';']):\n",
    "    \n",
    "    # Read input file\n",
    "    with open(input_file_path, newline='') as input_file:\n",
    "        \n",
    "        line_list = input_file.readlines()\n",
    "    \n",
    "    # Output to temp file \n",
    "    with open('_temp_buffer_file.csv', 'w') as output_file:\n",
    "        \n",
    "        for line in line_list:\n",
    "            \n",
    "            # remove first quote\n",
    "            cln_row = line\n",
    "            cln_row = re.sub(r'^\"', '', cln_row)\n",
    "            cln_row = re.sub(r'\\r\\n$', r'\\n', cln_row)\n",
    "            cln_row = re.sub(r'\";$', '', cln_row)\n",
    "            \n",
    "            output_file.write(cln_row)\n",
    "            \n",
    "    # Read buffer file\n",
    "    with open('_temp_buffer_file.csv', 'r', newline='') as csvfile:\n",
    "        reader = csv.reader(csvfile, quotechar='\"', delimiter=',', quoting=csv.QUOTE_NONE) #, quoting=csv.QUOTE_NONE\n",
    "    \n",
    "        # Initializations\n",
    "        final_list_of_rows = []\n",
    "\n",
    "        for row in reader:\n",
    "            final_list_of_rows.append(row)\n",
    "    \n",
    "    # Write final file\n",
    "    output_file_path = input_file_path.replace('.csv','_cln3.csv')\n",
    "\n",
    "    with open(output_file_path, \"w\", newline=\"\") as output_file:\n",
    "        writer = csv.writer(output_file, quotechar=\"'\", delimiter=',')\n",
    "        writer.writerows(final_list_of_rows)\n",
    "    \n",
    "    return final_list_of_rows"
   ]
  },
  {
   "cell_type": "code",
   "execution_count": 86,
   "id": "b69789f7",
   "metadata": {
    "ExecuteTime": {
     "end_time": "2022-09-07T21:11:07.362132Z",
     "start_time": "2022-09-07T21:11:07.341987Z"
    },
    "scrolled": true
   },
   "outputs": [
    {
     "data": {
      "text/plain": [
       "[['ID', 'GAME_NAME', 'BEHAVIOUR', 'PLAY_PURCHASE', 'NONE;'],\n",
       " ['151603712', '\"\"The Elder Scrolls V Skyrim\"\"', 'purchase', '1.0', '0'],\n",
       " ['151603712', '\"\"The Elder Scrolls V Skyrim\"\"', 'play', '273.0', '0'],\n",
       " ['151603712', '\"\"Fallout 4\"\"', 'purchase', '1.0', '0'],\n",
       " ['151603712', '\"\"Fallout 4\"\"', 'play', '87.0', '0'],\n",
       " ['53875128', '\"\"BioShock\"\"', 'play', '0.8', '0'],\n",
       " ['53875128', '\"\"Trine\"\"', 'purchase', '1.0', '0'],\n",
       " ['53875128', '\"\"Trine\"\"', 'play', '0.8', '0'],\n",
       " ['53875128', '\"\"Sir', ' You Are Being Hunted\"\"', 'purchase', '1.0', '0'],\n",
       " ['53875128', '\"\"Sir', ' You Are Being Hunted\"\"', 'play', '0.8', '0'],\n",
       " ['53875128', '\"\"Next Car Game Sneak Peek 2.0\"\"', 'purchase', '1.0', '0'],\n",
       " ['53875128', '\"\"Next Car Game Sneak Peek 2.0\"\"', 'play', '0.7', '0']]"
      ]
     },
     "execution_count": 86,
     "metadata": {},
     "output_type": "execute_result"
    }
   ],
   "source": [
    "clean_csv_3('smpl_read.csv')"
   ]
  },
  {
   "cell_type": "code",
   "execution_count": 84,
   "id": "10a38ff7",
   "metadata": {
    "ExecuteTime": {
     "end_time": "2022-09-07T21:09:24.549754Z",
     "start_time": "2022-09-07T21:09:24.474494Z"
    }
   },
   "outputs": [
    {
     "ename": "ParserError",
     "evalue": "Error tokenizing data. C error: Expected 5 fields in line 9, saw 6\n",
     "output_type": "error",
     "traceback": [
      "\u001b[1;31m---------------------------------------------------------------------------\u001b[0m",
      "\u001b[1;31mParserError\u001b[0m                               Traceback (most recent call last)",
      "Input \u001b[1;32mIn [84]\u001b[0m, in \u001b[0;36m<cell line: 1>\u001b[1;34m()\u001b[0m\n\u001b[1;32m----> 1\u001b[0m \u001b[43mpd\u001b[49m\u001b[38;5;241;43m.\u001b[39;49m\u001b[43mread_csv\u001b[49m\u001b[43m(\u001b[49m\u001b[38;5;124;43m'\u001b[39;49m\u001b[38;5;124;43msmpl_read_cln3.csv\u001b[39;49m\u001b[38;5;124;43m'\u001b[39;49m\u001b[43m,\u001b[49m\u001b[43m \u001b[49m\u001b[43mquotechar\u001b[49m\u001b[38;5;241;43m=\u001b[39;49m\u001b[38;5;124;43m\"\u001b[39;49m\u001b[38;5;124;43m'\u001b[39;49m\u001b[38;5;124;43m\"\u001b[39;49m\u001b[43m)\u001b[49m\n",
      "File \u001b[1;32m~\\anaconda3\\envs\\ml\\lib\\site-packages\\pandas\\util\\_decorators.py:311\u001b[0m, in \u001b[0;36mdeprecate_nonkeyword_arguments.<locals>.decorate.<locals>.wrapper\u001b[1;34m(*args, **kwargs)\u001b[0m\n\u001b[0;32m    305\u001b[0m \u001b[38;5;28;01mif\u001b[39;00m \u001b[38;5;28mlen\u001b[39m(args) \u001b[38;5;241m>\u001b[39m num_allow_args:\n\u001b[0;32m    306\u001b[0m     warnings\u001b[38;5;241m.\u001b[39mwarn(\n\u001b[0;32m    307\u001b[0m         msg\u001b[38;5;241m.\u001b[39mformat(arguments\u001b[38;5;241m=\u001b[39marguments),\n\u001b[0;32m    308\u001b[0m         \u001b[38;5;167;01mFutureWarning\u001b[39;00m,\n\u001b[0;32m    309\u001b[0m         stacklevel\u001b[38;5;241m=\u001b[39mstacklevel,\n\u001b[0;32m    310\u001b[0m     )\n\u001b[1;32m--> 311\u001b[0m \u001b[38;5;28;01mreturn\u001b[39;00m func(\u001b[38;5;241m*\u001b[39margs, \u001b[38;5;241m*\u001b[39m\u001b[38;5;241m*\u001b[39mkwargs)\n",
      "File \u001b[1;32m~\\anaconda3\\envs\\ml\\lib\\site-packages\\pandas\\io\\parsers\\readers.py:680\u001b[0m, in \u001b[0;36mread_csv\u001b[1;34m(filepath_or_buffer, sep, delimiter, header, names, index_col, usecols, squeeze, prefix, mangle_dupe_cols, dtype, engine, converters, true_values, false_values, skipinitialspace, skiprows, skipfooter, nrows, na_values, keep_default_na, na_filter, verbose, skip_blank_lines, parse_dates, infer_datetime_format, keep_date_col, date_parser, dayfirst, cache_dates, iterator, chunksize, compression, thousands, decimal, lineterminator, quotechar, quoting, doublequote, escapechar, comment, encoding, encoding_errors, dialect, error_bad_lines, warn_bad_lines, on_bad_lines, delim_whitespace, low_memory, memory_map, float_precision, storage_options)\u001b[0m\n\u001b[0;32m    665\u001b[0m kwds_defaults \u001b[38;5;241m=\u001b[39m _refine_defaults_read(\n\u001b[0;32m    666\u001b[0m     dialect,\n\u001b[0;32m    667\u001b[0m     delimiter,\n\u001b[1;32m   (...)\u001b[0m\n\u001b[0;32m    676\u001b[0m     defaults\u001b[38;5;241m=\u001b[39m{\u001b[38;5;124m\"\u001b[39m\u001b[38;5;124mdelimiter\u001b[39m\u001b[38;5;124m\"\u001b[39m: \u001b[38;5;124m\"\u001b[39m\u001b[38;5;124m,\u001b[39m\u001b[38;5;124m\"\u001b[39m},\n\u001b[0;32m    677\u001b[0m )\n\u001b[0;32m    678\u001b[0m kwds\u001b[38;5;241m.\u001b[39mupdate(kwds_defaults)\n\u001b[1;32m--> 680\u001b[0m \u001b[38;5;28;01mreturn\u001b[39;00m \u001b[43m_read\u001b[49m\u001b[43m(\u001b[49m\u001b[43mfilepath_or_buffer\u001b[49m\u001b[43m,\u001b[49m\u001b[43m \u001b[49m\u001b[43mkwds\u001b[49m\u001b[43m)\u001b[49m\n",
      "File \u001b[1;32m~\\anaconda3\\envs\\ml\\lib\\site-packages\\pandas\\io\\parsers\\readers.py:581\u001b[0m, in \u001b[0;36m_read\u001b[1;34m(filepath_or_buffer, kwds)\u001b[0m\n\u001b[0;32m    578\u001b[0m     \u001b[38;5;28;01mreturn\u001b[39;00m parser\n\u001b[0;32m    580\u001b[0m \u001b[38;5;28;01mwith\u001b[39;00m parser:\n\u001b[1;32m--> 581\u001b[0m     \u001b[38;5;28;01mreturn\u001b[39;00m \u001b[43mparser\u001b[49m\u001b[38;5;241;43m.\u001b[39;49m\u001b[43mread\u001b[49m\u001b[43m(\u001b[49m\u001b[43mnrows\u001b[49m\u001b[43m)\u001b[49m\n",
      "File \u001b[1;32m~\\anaconda3\\envs\\ml\\lib\\site-packages\\pandas\\io\\parsers\\readers.py:1254\u001b[0m, in \u001b[0;36mTextFileReader.read\u001b[1;34m(self, nrows)\u001b[0m\n\u001b[0;32m   1252\u001b[0m nrows \u001b[38;5;241m=\u001b[39m validate_integer(\u001b[38;5;124m\"\u001b[39m\u001b[38;5;124mnrows\u001b[39m\u001b[38;5;124m\"\u001b[39m, nrows)\n\u001b[0;32m   1253\u001b[0m \u001b[38;5;28;01mtry\u001b[39;00m:\n\u001b[1;32m-> 1254\u001b[0m     index, columns, col_dict \u001b[38;5;241m=\u001b[39m \u001b[38;5;28;43mself\u001b[39;49m\u001b[38;5;241;43m.\u001b[39;49m\u001b[43m_engine\u001b[49m\u001b[38;5;241;43m.\u001b[39;49m\u001b[43mread\u001b[49m\u001b[43m(\u001b[49m\u001b[43mnrows\u001b[49m\u001b[43m)\u001b[49m\n\u001b[0;32m   1255\u001b[0m \u001b[38;5;28;01mexcept\u001b[39;00m \u001b[38;5;167;01mException\u001b[39;00m:\n\u001b[0;32m   1256\u001b[0m     \u001b[38;5;28mself\u001b[39m\u001b[38;5;241m.\u001b[39mclose()\n",
      "File \u001b[1;32m~\\anaconda3\\envs\\ml\\lib\\site-packages\\pandas\\io\\parsers\\c_parser_wrapper.py:225\u001b[0m, in \u001b[0;36mCParserWrapper.read\u001b[1;34m(self, nrows)\u001b[0m\n\u001b[0;32m    223\u001b[0m \u001b[38;5;28;01mtry\u001b[39;00m:\n\u001b[0;32m    224\u001b[0m     \u001b[38;5;28;01mif\u001b[39;00m \u001b[38;5;28mself\u001b[39m\u001b[38;5;241m.\u001b[39mlow_memory:\n\u001b[1;32m--> 225\u001b[0m         chunks \u001b[38;5;241m=\u001b[39m \u001b[38;5;28;43mself\u001b[39;49m\u001b[38;5;241;43m.\u001b[39;49m\u001b[43m_reader\u001b[49m\u001b[38;5;241;43m.\u001b[39;49m\u001b[43mread_low_memory\u001b[49m\u001b[43m(\u001b[49m\u001b[43mnrows\u001b[49m\u001b[43m)\u001b[49m\n\u001b[0;32m    226\u001b[0m         \u001b[38;5;66;03m# destructive to chunks\u001b[39;00m\n\u001b[0;32m    227\u001b[0m         data \u001b[38;5;241m=\u001b[39m _concatenate_chunks(chunks)\n",
      "File \u001b[1;32m~\\anaconda3\\envs\\ml\\lib\\site-packages\\pandas\\_libs\\parsers.pyx:805\u001b[0m, in \u001b[0;36mpandas._libs.parsers.TextReader.read_low_memory\u001b[1;34m()\u001b[0m\n",
      "File \u001b[1;32m~\\anaconda3\\envs\\ml\\lib\\site-packages\\pandas\\_libs\\parsers.pyx:861\u001b[0m, in \u001b[0;36mpandas._libs.parsers.TextReader._read_rows\u001b[1;34m()\u001b[0m\n",
      "File \u001b[1;32m~\\anaconda3\\envs\\ml\\lib\\site-packages\\pandas\\_libs\\parsers.pyx:847\u001b[0m, in \u001b[0;36mpandas._libs.parsers.TextReader._tokenize_rows\u001b[1;34m()\u001b[0m\n",
      "File \u001b[1;32m~\\anaconda3\\envs\\ml\\lib\\site-packages\\pandas\\_libs\\parsers.pyx:1960\u001b[0m, in \u001b[0;36mpandas._libs.parsers.raise_parser_error\u001b[1;34m()\u001b[0m\n",
      "\u001b[1;31mParserError\u001b[0m: Error tokenizing data. C error: Expected 5 fields in line 9, saw 6\n"
     ]
    }
   ],
   "source": [
    "pd.read_csv('smpl_read_cln3.csv', quotechar=\"'\")"
   ]
  },
  {
   "cell_type": "code",
   "execution_count": null,
   "id": "aa34ab40",
   "metadata": {},
   "outputs": [],
   "source": []
  },
  {
   "cell_type": "code",
   "execution_count": null,
   "id": "0e794f1e",
   "metadata": {},
   "outputs": [],
   "source": []
  },
  {
   "cell_type": "markdown",
   "id": "03b1be46",
   "metadata": {},
   "source": [
    "### Option 3"
   ]
  },
  {
   "cell_type": "code",
   "execution_count": 53,
   "id": "77812759",
   "metadata": {
    "ExecuteTime": {
     "end_time": "2022-09-07T20:53:24.831323Z",
     "start_time": "2022-09-07T20:53:24.815202Z"
    }
   },
   "outputs": [],
   "source": [
    "def clean_csv_3(input_file_path=None, chars_to_remove = ['\"', ';']):\n",
    "    \n",
    "    # Read input file to list\n",
    "    with open(input_file_path, newline='') as input_file:        \n",
    "        line_list = input_file.readlines()\n",
    "    \n",
    "    # Write cleaned file\n",
    "    output_file_path = input_file_path.replace('.csv','_cln3.csv')\n",
    "    \n",
    "    cln_line_list = []\n",
    "    for line in line_list:\n",
    "        cln_row = line\n",
    "        cln_row = re.sub(r'^\"', '', cln_row)\n",
    "        cln_row = re.sub(r'\\r\\n$', r'\\n', cln_row)\n",
    "        cln_row = re.sub(r'\";$', '', cln_row)\n",
    "        cln_line_list.append(cln_row)\n",
    "        \n",
    "    return cln_line_list\n",
    "    \n",
    "    with open(output_file_path, 'w') as output_file:\n",
    "        writer = csv.writer(output_file, delimiter=',', quotechar='\"', quoting=csv.QUOTE_ALL)\n",
    "        \n",
    "        # Clean lines    \n",
    "        for line in line_list:\n",
    "            print(line)\n",
    "\n",
    "            # remove first quote\n",
    "            cln_row = line\n",
    "            cln_row = re.sub(r'^\"', '', cln_row)\n",
    "            cln_row = re.sub(r'\\r\\n$', r'\\n', cln_row)\n",
    "            cln_row = re.sub(r'\";$', '', cln_row)\n",
    "            \n",
    "            print(cln_row)\n",
    "            \n",
    "            writer.writerow(cln_row)\n"
   ]
  },
  {
   "cell_type": "code",
   "execution_count": 54,
   "id": "31851183",
   "metadata": {
    "ExecuteTime": {
     "end_time": "2022-09-07T20:53:25.558296Z",
     "start_time": "2022-09-07T20:53:25.534719Z"
    }
   },
   "outputs": [
    {
     "data": {
      "text/plain": [
       "['ID,GAME_NAME,BEHAVIOUR,PLAY_PURCHASE,NONE;\\n',\n",
       " '151603712,\"\"The Elder Scrolls V Skyrim\"\",purchase,1.0,0\\n',\n",
       " '151603712,\"\"The Elder Scrolls V Skyrim\"\",play,273.0,0\\n',\n",
       " '151603712,\"\"Fallout 4\"\",purchase,1.0,0\\n',\n",
       " '151603712,\"\"Fallout 4\"\",play,87.0,0\\n',\n",
       " '53875128,\"\"BioShock\"\",play,0.8,0\\n',\n",
       " '53875128,\"\"Trine\"\",purchase,1.0,0\\n',\n",
       " '53875128,\"\"Trine\"\",play,0.8,0\\n',\n",
       " '53875128,\"\"Sir, You Are Being Hunted\"\",purchase,1.0,0\\n',\n",
       " '53875128,\"\"Sir, You Are Being Hunted\"\",play,0.8,0\\n',\n",
       " '53875128,\"\"Next Car Game Sneak Peek 2.0\"\",purchase,1.0,0\\n',\n",
       " '53875128,\"\"Next Car Game Sneak Peek 2.0\"\",play,0.7,0']"
      ]
     },
     "execution_count": 54,
     "metadata": {},
     "output_type": "execute_result"
    }
   ],
   "source": [
    "clean_csv_3('smpl_read.csv')"
   ]
  },
  {
   "cell_type": "code",
   "execution_count": null,
   "id": "fde487f7",
   "metadata": {},
   "outputs": [],
   "source": []
  },
  {
   "cell_type": "code",
   "execution_count": null,
   "id": "12a91afc",
   "metadata": {},
   "outputs": [],
   "source": []
  },
  {
   "cell_type": "code",
   "execution_count": null,
   "id": "6df635d6",
   "metadata": {},
   "outputs": [],
   "source": []
  },
  {
   "cell_type": "code",
   "execution_count": null,
   "id": "2bb10664",
   "metadata": {},
   "outputs": [],
   "source": []
  },
  {
   "cell_type": "markdown",
   "id": "3e80d604",
   "metadata": {},
   "source": [
    "### Option 4"
   ]
  },
  {
   "cell_type": "code",
   "execution_count": 13,
   "id": "8d69ddc1",
   "metadata": {
    "ExecuteTime": {
     "end_time": "2022-09-07T20:27:16.164968Z",
     "start_time": "2022-09-07T20:27:16.148996Z"
    }
   },
   "outputs": [],
   "source": [
    "def clean_csv_3(input_file_path=None, chars_to_remove = ['\"', ';']):\n",
    "    \n",
    "    with open(input_file_path, newline='') as input_file:\n",
    "        \n",
    "        line_list = input_file.readlines()\n",
    "    \n",
    "    output_file_path = input_file_path.replace('.csv','_cln2.csv')\n",
    "    line_list_cln = []\n",
    "    \n",
    "    #with open(output_file_path, 'w') as output_file:\n",
    "        \n",
    "    for line in line_list:\n",
    "\n",
    "        # remove first quote\n",
    "        cln_row = line\n",
    "        cln_row = re.sub(r'^\"', '', cln_row)\n",
    "        cln_row = re.sub(r'\\r\\n$', r'\\n', cln_row)\n",
    "        cln_row = re.sub(r'\";$', '', cln_row)\n",
    "\n",
    "        line_list_cln.append(cln_row)\n",
    "        \n",
    "    return line_list_cln"
   ]
  },
  {
   "cell_type": "code",
   "execution_count": 14,
   "id": "dc8979aa",
   "metadata": {
    "ExecuteTime": {
     "end_time": "2022-09-07T20:27:22.632767Z",
     "start_time": "2022-09-07T20:27:22.622138Z"
    }
   },
   "outputs": [],
   "source": [
    "line_list = clean_csv_3('smpl_read.csv')"
   ]
  },
  {
   "cell_type": "code",
   "execution_count": null,
   "id": "a10db01a",
   "metadata": {},
   "outputs": [],
   "source": []
  },
  {
   "cell_type": "code",
   "execution_count": 15,
   "id": "55671809",
   "metadata": {
    "ExecuteTime": {
     "end_time": "2022-09-07T20:27:25.729413Z",
     "start_time": "2022-09-07T20:27:25.712936Z"
    }
   },
   "outputs": [
    {
     "data": {
      "text/plain": [
       "['ID,GAME_NAME,BEHAVIOUR,PLAY_PURCHASE,NONE;\\n',\n",
       " '151603712,\"\"The Elder Scrolls V Skyrim\"\",purchase,1.0,0\\n',\n",
       " '151603712,\"\"The Elder Scrolls V Skyrim\"\",play,273.0,0\\n',\n",
       " '151603712,\"\"Fallout 4\"\",purchase,1.0,0\\n',\n",
       " '151603712,\"\"Fallout 4\"\",play,87.0,0\\n',\n",
       " '53875128,\"\"BioShock\"\",play,0.8,0\\n',\n",
       " '53875128,\"\"Trine\"\",purchase,1.0,0\\n',\n",
       " '53875128,\"\"Trine\"\",play,0.8,0\\n',\n",
       " '53875128,\"\"Sir, You Are Being Hunted\"\",purchase,1.0,0\\n',\n",
       " '53875128,\"\"Sir, You Are Being Hunted\"\",play,0.8,0\\n',\n",
       " '53875128,\"\"Next Car Game Sneak Peek 2.0\"\",purchase,1.0,0\\n',\n",
       " '53875128,\"\"Next Car Game Sneak Peek 2.0\"\",play,0.7,0']"
      ]
     },
     "execution_count": 15,
     "metadata": {},
     "output_type": "execute_result"
    }
   ],
   "source": [
    "line_list"
   ]
  },
  {
   "cell_type": "code",
   "execution_count": 18,
   "id": "6a2ee285",
   "metadata": {
    "ExecuteTime": {
     "end_time": "2022-09-07T20:28:34.163646Z",
     "start_time": "2022-09-07T20:28:34.144198Z"
    }
   },
   "outputs": [
    {
     "data": {
      "text/plain": [
       "['53875128', '\"\"Sir', ' You Are Being Hunted\"\"', 'purchase', '1.0', '0\\n']"
      ]
     },
     "execution_count": 18,
     "metadata": {},
     "output_type": "execute_result"
    }
   ],
   "source": [
    "line_list[8].split(',')"
   ]
  },
  {
   "cell_type": "code",
   "execution_count": null,
   "id": "34c815e0",
   "metadata": {},
   "outputs": [],
   "source": []
  },
  {
   "cell_type": "code",
   "execution_count": 16,
   "id": "2baa22cf",
   "metadata": {
    "ExecuteTime": {
     "end_time": "2022-09-07T20:27:49.854217Z",
     "start_time": "2022-09-07T20:27:49.833573Z"
    }
   },
   "outputs": [
    {
     "data": {
      "text/html": [
       "<div>\n",
       "<style scoped>\n",
       "    .dataframe tbody tr th:only-of-type {\n",
       "        vertical-align: middle;\n",
       "    }\n",
       "\n",
       "    .dataframe tbody tr th {\n",
       "        vertical-align: top;\n",
       "    }\n",
       "\n",
       "    .dataframe thead th {\n",
       "        text-align: right;\n",
       "    }\n",
       "</style>\n",
       "<table border=\"1\" class=\"dataframe\">\n",
       "  <thead>\n",
       "    <tr style=\"text-align: right;\">\n",
       "      <th></th>\n",
       "      <th>0</th>\n",
       "    </tr>\n",
       "  </thead>\n",
       "  <tbody>\n",
       "    <tr>\n",
       "      <th>0</th>\n",
       "      <td>ID,GAME_NAME,BEHAVIOUR,PLAY_PURCHASE,NONE;\\n</td>\n",
       "    </tr>\n",
       "    <tr>\n",
       "      <th>1</th>\n",
       "      <td>151603712,\"\"The Elder Scrolls V Skyrim\"\",purch...</td>\n",
       "    </tr>\n",
       "    <tr>\n",
       "      <th>2</th>\n",
       "      <td>151603712,\"\"The Elder Scrolls V Skyrim\"\",play,...</td>\n",
       "    </tr>\n",
       "    <tr>\n",
       "      <th>3</th>\n",
       "      <td>151603712,\"\"Fallout 4\"\",purchase,1.0,0\\n</td>\n",
       "    </tr>\n",
       "    <tr>\n",
       "      <th>4</th>\n",
       "      <td>151603712,\"\"Fallout 4\"\",play,87.0,0\\n</td>\n",
       "    </tr>\n",
       "    <tr>\n",
       "      <th>5</th>\n",
       "      <td>53875128,\"\"BioShock\"\",play,0.8,0\\n</td>\n",
       "    </tr>\n",
       "    <tr>\n",
       "      <th>6</th>\n",
       "      <td>53875128,\"\"Trine\"\",purchase,1.0,0\\n</td>\n",
       "    </tr>\n",
       "    <tr>\n",
       "      <th>7</th>\n",
       "      <td>53875128,\"\"Trine\"\",play,0.8,0\\n</td>\n",
       "    </tr>\n",
       "    <tr>\n",
       "      <th>8</th>\n",
       "      <td>53875128,\"\"Sir, You Are Being Hunted\"\",purchas...</td>\n",
       "    </tr>\n",
       "    <tr>\n",
       "      <th>9</th>\n",
       "      <td>53875128,\"\"Sir, You Are Being Hunted\"\",play,0....</td>\n",
       "    </tr>\n",
       "    <tr>\n",
       "      <th>10</th>\n",
       "      <td>53875128,\"\"Next Car Game Sneak Peek 2.0\"\",purc...</td>\n",
       "    </tr>\n",
       "    <tr>\n",
       "      <th>11</th>\n",
       "      <td>53875128,\"\"Next Car Game Sneak Peek 2.0\"\",play...</td>\n",
       "    </tr>\n",
       "  </tbody>\n",
       "</table>\n",
       "</div>"
      ],
      "text/plain": [
       "                                                    0\n",
       "0        ID,GAME_NAME,BEHAVIOUR,PLAY_PURCHASE,NONE;\\n\n",
       "1   151603712,\"\"The Elder Scrolls V Skyrim\"\",purch...\n",
       "2   151603712,\"\"The Elder Scrolls V Skyrim\"\",play,...\n",
       "3            151603712,\"\"Fallout 4\"\",purchase,1.0,0\\n\n",
       "4               151603712,\"\"Fallout 4\"\",play,87.0,0\\n\n",
       "5                  53875128,\"\"BioShock\"\",play,0.8,0\\n\n",
       "6                 53875128,\"\"Trine\"\",purchase,1.0,0\\n\n",
       "7                     53875128,\"\"Trine\"\",play,0.8,0\\n\n",
       "8   53875128,\"\"Sir, You Are Being Hunted\"\",purchas...\n",
       "9   53875128,\"\"Sir, You Are Being Hunted\"\",play,0....\n",
       "10  53875128,\"\"Next Car Game Sneak Peek 2.0\"\",purc...\n",
       "11  53875128,\"\"Next Car Game Sneak Peek 2.0\"\",play..."
      ]
     },
     "execution_count": 16,
     "metadata": {},
     "output_type": "execute_result"
    }
   ],
   "source": [
    "pd.DataFrame(line_list)"
   ]
  },
  {
   "cell_type": "code",
   "execution_count": null,
   "id": "819d9d84",
   "metadata": {},
   "outputs": [],
   "source": []
  },
  {
   "cell_type": "code",
   "execution_count": null,
   "id": "7c90629c",
   "metadata": {},
   "outputs": [],
   "source": []
  },
  {
   "cell_type": "code",
   "execution_count": null,
   "id": "efdbea23",
   "metadata": {},
   "outputs": [],
   "source": []
  },
  {
   "cell_type": "code",
   "execution_count": null,
   "id": "d39b7b1f",
   "metadata": {},
   "outputs": [],
   "source": []
  },
  {
   "cell_type": "code",
   "execution_count": null,
   "id": "0781aa52",
   "metadata": {},
   "outputs": [],
   "source": []
  }
 ],
 "metadata": {
  "kernelspec": {
   "display_name": "Python 3 (ipykernel)",
   "language": "python",
   "name": "python3"
  },
  "language_info": {
   "codemirror_mode": {
    "name": "ipython",
    "version": 3
   },
   "file_extension": ".py",
   "mimetype": "text/x-python",
   "name": "python",
   "nbconvert_exporter": "python",
   "pygments_lexer": "ipython3",
   "version": "3.9.12"
  },
  "toc": {
   "base_numbering": 1,
   "nav_menu": {},
   "number_sections": true,
   "sideBar": true,
   "skip_h1_title": false,
   "title_cell": "Table of Contents",
   "title_sidebar": "Contents",
   "toc_cell": false,
   "toc_position": {},
   "toc_section_display": true,
   "toc_window_display": false
  }
 },
 "nbformat": 4,
 "nbformat_minor": 5
}
